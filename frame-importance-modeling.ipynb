{
 "cells": [
  {
   "cell_type": "code",
   "execution_count": 1,
   "metadata": {},
   "outputs": [
    {
     "name": "stdout",
     "output_type": "stream",
     "text": [
      "Requirement already satisfied: sklearn in c:\\users\\owner\\.pyenv\\pyenv-win\\versions\\3.8.10\\lib\\site-packages (0.0)\n",
      "Requirement already satisfied: scikit-learn in c:\\users\\owner\\.pyenv\\pyenv-win\\versions\\3.8.10\\lib\\site-packages (from sklearn) (1.3.2)\n",
      "Requirement already satisfied: joblib>=1.1.1 in c:\\users\\owner\\.pyenv\\pyenv-win\\versions\\3.8.10\\lib\\site-packages (from scikit-learn->sklearn) (1.4.0)\n",
      "Requirement already satisfied: scipy>=1.5.0 in c:\\users\\owner\\.pyenv\\pyenv-win\\versions\\3.8.10\\lib\\site-packages (from scikit-learn->sklearn) (1.10.1)\n",
      "Requirement already satisfied: numpy<2.0,>=1.17.3 in c:\\users\\owner\\.pyenv\\pyenv-win\\versions\\3.8.10\\lib\\site-packages (from scikit-learn->sklearn) (1.24.3)\n",
      "Requirement already satisfied: threadpoolctl>=2.0.0 in c:\\users\\owner\\.pyenv\\pyenv-win\\versions\\3.8.10\\lib\\site-packages (from scikit-learn->sklearn) (3.4.0)\n",
      "Note: you may need to restart the kernel to use updated packages.\n"
     ]
    },
    {
     "name": "stderr",
     "output_type": "stream",
     "text": [
      "WARNING: Ignoring invalid distribution -illow (c:\\users\\owner\\.pyenv\\pyenv-win\\versions\\3.8.10\\lib\\site-packages)\n",
      "WARNING: Ignoring invalid distribution -illow (c:\\users\\owner\\.pyenv\\pyenv-win\\versions\\3.8.10\\lib\\site-packages)\n",
      "WARNING: Ignoring invalid distribution -illow (c:\\users\\owner\\.pyenv\\pyenv-win\\versions\\3.8.10\\lib\\site-packages)\n",
      "WARNING: Ignoring invalid distribution -illow (c:\\users\\owner\\.pyenv\\pyenv-win\\versions\\3.8.10\\lib\\site-packages)\n",
      "WARNING: Ignoring invalid distribution -illow (c:\\users\\owner\\.pyenv\\pyenv-win\\versions\\3.8.10\\lib\\site-packages)\n",
      "WARNING: Ignoring invalid distribution -illow (c:\\users\\owner\\.pyenv\\pyenv-win\\versions\\3.8.10\\lib\\site-packages)\n",
      "WARNING: You are using pip version 21.1.1; however, version 24.0 is available.\n",
      "You should consider upgrading via the 'c:\\Users\\Owner\\.pyenv\\pyenv-win\\versions\\3.8.10\\python.exe -m pip install --upgrade pip' command.\n"
     ]
    },
    {
     "name": "stdout",
     "output_type": "stream",
     "text": [
      "Requirement already satisfied: tensorflow in c:\\users\\owner\\.pyenv\\pyenv-win\\versions\\3.8.10\\lib\\site-packages (2.13.0)\n",
      "Note: you may need to restart the kernel to use updated packages.\n"
     ]
    },
    {
     "name": "stderr",
     "output_type": "stream",
     "text": [
      "WARNING: Ignoring invalid distribution -illow (c:\\users\\owner\\.pyenv\\pyenv-win\\versions\\3.8.10\\lib\\site-packages)\n",
      "WARNING: Ignoring invalid distribution -illow (c:\\users\\owner\\.pyenv\\pyenv-win\\versions\\3.8.10\\lib\\site-packages)\n",
      "ERROR: Could not find a version that satisfies the requirement tensorflow.keras (from versions: none)\n",
      "ERROR: No matching distribution found for tensorflow.keras\n",
      "WARNING: Ignoring invalid distribution -illow (c:\\users\\owner\\.pyenv\\pyenv-win\\versions\\3.8.10\\lib\\site-packages)\n",
      "WARNING: Ignoring invalid distribution -illow (c:\\users\\owner\\.pyenv\\pyenv-win\\versions\\3.8.10\\lib\\site-packages)\n",
      "WARNING: Ignoring invalid distribution -illow (c:\\users\\owner\\.pyenv\\pyenv-win\\versions\\3.8.10\\lib\\site-packages)\n",
      "WARNING: You are using pip version 21.1.1; however, version 24.0 is available.\n",
      "You should consider upgrading via the 'c:\\Users\\Owner\\.pyenv\\pyenv-win\\versions\\3.8.10\\python.exe -m pip install --upgrade pip' command.\n"
     ]
    }
   ],
   "source": [
    "%pip install sklearn\n",
    "%pip install tensorflow tensorflow.keras"
   ]
  },
  {
   "cell_type": "code",
   "execution_count": 3,
   "metadata": {},
   "outputs": [],
   "source": [
    "from sklearn.linear_model import LinearRegression\n",
    "from sklearn.model_selection import train_test_split\n",
    "from sklearn.metrics import mean_squared_error\n",
    "import tensorflow as tf\n",
    "from tensorflow.keras import layers, models\n",
    "from tensorflow.keras.models import load_model\n",
    "\n",
    "import csv\n",
    "import cv2\n",
    "import numpy as np\n",
    "import decord\n",
    "import torch\n",
    "import os, time\n",
    "import pandas as pd\n",
    "import random\n",
    "\n",
    "from gluoncv.torch.utils.model_utils import download\n",
    "from gluoncv.torch.data.transforms.videotransforms import video_transforms, volume_transforms\n",
    "from gluoncv.torch.engine.config import get_cfg_defaults\n",
    "from gluoncv.torch.model_zoo import get_model\n",
    "from tqdm.notebook import tqdm"
   ]
  },
  {
   "cell_type": "markdown",
   "metadata": {},
   "source": [
    "## Train Class Prediction Model"
   ]
  },
  {
   "cell_type": "code",
   "execution_count": null,
   "metadata": {},
   "outputs": [],
   "source": [
    "# function to load frames\n",
    "def load_frames(frame_paths):\n",
    "    frames = []\n",
    "    for path in frame_paths:\n",
    "        frame = cv2.imread(path)  # Load frame using OpenCV \n",
    "        frame = cv2.resize(frame, (224, 224))  # resizing to (224, 224)\n",
    "        frames.append(frame)\n",
    "    return np.array(frames)\n",
    "\n",
    "# data preprocessing function\n",
    "def preprocess_data(df):\n",
    "    frames = load_frames(df['frames'])\n",
    "    # Convert class IDs to categorical labels if needed\n",
    "    labels = df['class_id']\n",
    "    return frames, labels"
   ]
  },
  {
   "cell_type": "code",
   "execution_count": null,
   "metadata": {},
   "outputs": [],
   "source": [
    "df = pd.read_csv(\"your_csv_file.csv\")\n",
    "\n",
    "# Preprocess data\n",
    "X_train, y_train = preprocess_data(df)\n",
    "\n",
    "# Concatenate frames and weights (assuming weights are random for now)\n",
    "weights = np.random.rand(len(X_train), 1)\n",
    "X_train_concat = np.concatenate([X_train.reshape(len(X_train), -1), weights], axis=1)\n",
    "\n",
    "# Define model\n",
    "model = models.Sequential([\n",
    "    layers.Dense(256, activation='relu', input_shape=(X_train_concat.shape[1],)),\n",
    "    layers.Dropout(0.5),\n",
    "    layers.Dense(128, activation='relu'),\n",
    "    layers.Dense(10, activation='softmax'),  # Assuming 10 action classes\n",
    "])\n",
    "\n",
    "# Compile model\n",
    "model.compile(optimizer='adam',\n",
    "              loss='sparse_categorical_crossentropy',\n",
    "              metrics=['accuracy'])\n",
    "\n",
    "# Train model\n",
    "history = model.fit(X_train_concat, y_train, epochs=10, batch_size=32)\n",
    "\n",
    "model.save(\"G_Model.h5\")"
   ]
  },
  {
   "cell_type": "markdown",
   "metadata": {},
   "source": [
    "## Predict Frame Importance"
   ]
  },
  {
   "cell_type": "code",
   "execution_count": 5,
   "metadata": {},
   "outputs": [],
   "source": [
    "map_path = 'action_map.csv'\n",
    "\n",
    "action_dict = {}\n",
    "\n",
    "with open(map_path, 'r', newline='', encoding='utf-8') as csvfile:\n",
    "    reader = csv.DictReader(csvfile)\n",
    "    for row in reader:\n",
    "        id_value = int(row['id'])\n",
    "        name_value = row['name']\n",
    "        \n",
    "        action_dict[id_value] = name_value"
   ]
  },
  {
   "cell_type": "code",
   "execution_count": 6,
   "metadata": {},
   "outputs": [],
   "source": [
    "# Define a function to create the linear regression model\n",
    "def create_linear_regression_model(num_frames):\n",
    "    model = LinearRegression()\n",
    "    return model"
   ]
  },
  {
   "cell_type": "code",
   "execution_count": 24,
   "metadata": {},
   "outputs": [],
   "source": [
    "# Define a function to compute the predicted action class and confidence based on the frames and weights\n",
    "def compute_predictions_linear_regression(target_data, num_classes, frames, weights, model):\n",
    "\n",
    "    # Combine frames and weights into a single input matrix\n",
    "    weights_reshaped = np.expand_dims(np.expand_dims(np.expand_dims(weights, axis=1), axis=2), axis=3)\n",
    "    weights_reshaped = np.broadcast_to(weights_reshaped, frames.shape)\n",
    "    input_data = np.concatenate((frames, weights_reshaped), axis=1)\n",
    "\n",
    "    # Fit the linear regression model\n",
    "    model.fit(input_data, target_data)  # target data is [class, confidence]\n",
    "\n",
    "    # Predict the action class and confidence\n",
    "    predicted_action_class = model.predict(input_data[:, :num_classes])\n",
    "    predicted_confidence = model.predict(input_data[:, num_classes:])\n",
    "\n",
    "    return predicted_action_class, predicted_confidence"
   ]
  },
  {
   "cell_type": "code",
   "execution_count": 14,
   "metadata": {},
   "outputs": [],
   "source": [
    "def compute_loss(frames, weights, target_class, target_confidence, num_classes, model):\n",
    "    # Compute the predicted action class and confidence based on the weights and frames\n",
    "    predicted_class, predicted_confidence = compute_predictions_linear_regression([target_class, target_confidence], num_classes, frames, weights, model)\n",
    "\n",
    "    # Compute the loss based on the predicted and target values\n",
    "    loss = target_confidence - predicted_confidence\n",
    "    if predicted_class != target_class:\n",
    "        loss *= 100\n",
    "\n",
    "    return loss"
   ]
  },
  {
   "cell_type": "code",
   "execution_count": 15,
   "metadata": {},
   "outputs": [],
   "source": [
    "def optimize_on_video(frames, target_class, target_confidence, num_classes, model):\n",
    "\n",
    "    # Define the initial weights for frames\n",
    "    initial_weights = [1] * len(frames)\n",
    "\n",
    "    # Define the optimization algorithm\n",
    "    optimizer = tf.keras.optimizers.Adam(learning_rate=0.001)\n",
    "\n",
    "    # Perform optimization\n",
    "    weights = tf.Variable(initial_weights, trainable=True)\n",
    "\n",
    "    for step in range(1000):\n",
    "        with tf.GradientTape() as tape:\n",
    "            loss = compute_loss(frames, weights, target_class, target_confidence, num_classes, model)\n",
    "\n",
    "        gradients = tape.gradient(loss, weights)\n",
    "        optimizer.apply_gradients([(gradients, weights)])\n",
    "\n",
    "        # Optional: Print the loss for monitoring\n",
    "        if step % 100 == 0:\n",
    "            print(\"Step:\", step, \"Loss:\", loss.numpy())\n",
    "\n",
    "    # Retrieve the optimized weights\n",
    "    optimized_weights = weights.numpy()\n",
    "\n",
    "    return optimized_weights"
   ]
  },
  {
   "cell_type": "code",
   "execution_count": 10,
   "metadata": {},
   "outputs": [],
   "source": [
    "def get_frames(file_path, video_length):\n",
    "    frame_id_list = [i for i in range(0, video_length, 2)]\n",
    "    vr = decord.VideoReader(file_path)\n",
    "    video_data = vr.get_batch(frame_id_list).asnumpy()\n",
    "    crop_size = 224\n",
    "    short_side_size = 256\n",
    "    transform_fn = video_transforms.Compose([video_transforms.Resize(short_side_size, interpolation='bilinear'),\n",
    "                                            video_transforms.CenterCrop(size=(crop_size, crop_size)),\n",
    "                                            volume_transforms.ClipToTensor(),\n",
    "                                            video_transforms.Normalize(mean=[0.485, 0.456, 0.406], std=[0.229, 0.224, 0.225])])\n",
    "    clip_input = transform_fn(video_data)\n",
    "\n",
    "    return clip_input "
   ]
  },
  {
   "cell_type": "code",
   "execution_count": 11,
   "metadata": {},
   "outputs": [],
   "source": [
    "def f(video_input, model):\n",
    "    with torch.no_grad():\n",
    "            pred = model(torch.unsqueeze(video_input, dim=0)).numpy()\n",
    "    probs = torch.nn.functional.softmax(torch.tensor(pred), dim=1).numpy()\n",
    "    top_class = np.argmax(probs)\n",
    "    confidence = np.max(probs) - np.min(probs)\n",
    "\n",
    "    return top_class, confidence"
   ]
  },
  {
   "cell_type": "code",
   "execution_count": 26,
   "metadata": {},
   "outputs": [
    {
     "name": "stdout",
     "output_type": "stream",
     "text": [
      "Found array with dim 4. LinearRegression expected <= 2.\n"
     ]
    }
   ],
   "source": [
    "num_classes = 5\n",
    "num_videos = 5\n",
    "video_length = 200 # ???????\n",
    "\n",
    "frames_and_weights = [[]]\n",
    "\n",
    "# Get 5 Random videos from collection\n",
    "dataset_path = 'datasets\\\\kinetics400_5per\\\\train'\n",
    "\n",
    "subfolders = sorted([subfolder for subfolder in os.listdir(dataset_path) if os.path.isdir(os.path.join(dataset_path, subfolder))])\n",
    "random.seed(2)\n",
    "random_subfolders = random.sample(subfolders, num_classes)\n",
    "subfolder = random_subfolders[0]\n",
    "\n",
    "config_file = './i3d_resnet50_v1_kinetics400.yaml'\n",
    "cfg = get_cfg_defaults()\n",
    "cfg.merge_from_file(config_file)\n",
    "f_model = get_model(cfg)\n",
    "f_model.eval()\n",
    "\n",
    "g_model = load_model(\"G_Model.h5\")\n",
    "\n",
    "try:\n",
    "    # Iterate over videos\n",
    "    for index, subfolder in enumerate(random_subfolders):\n",
    "        subfolder_path = os.path.join(dataset_path, subfolder)\n",
    "        files = os.listdir(subfolder_path)\n",
    "        clean_files = []\n",
    "        for filename in files:\n",
    "            if filename.endswith(\".mp4\"):\n",
    "                clean_files.append(filename)\n",
    "        random_files = random.sample(clean_files, num_videos)\n",
    "        random_file = random_files[0]\n",
    "        for random_file in random_files:\n",
    "            file_path = os.path.join(subfolder_path, random_file)\n",
    "            class_id = -1\n",
    "            for key, value in action_dict.items():\n",
    "                if value == subfolder:\n",
    "                    class_id = key\n",
    "                    break\n",
    "            \n",
    "            # get weights for video\n",
    "            frames = get_frames(file_path, video_length)\n",
    "            target_class, target_confidence = f(frames, f_model)\n",
    "            optimized_frame_weights = optimize_on_video(frames, target_class, target_confidence, num_classes, g_model)\n",
    "\n",
    "            # store frames and their weights\n",
    "            frames_and_weights += [[frame, weight] for frame, weight in zip(frames, optimized_frame_weights)]\n",
    "                \n",
    "except Exception as e:\n",
    "    print(e)"
   ]
  }
 ],
 "metadata": {
  "kernelspec": {
   "display_name": "Python 3",
   "language": "python",
   "name": "python3"
  },
  "language_info": {
   "codemirror_mode": {
    "name": "ipython",
    "version": 3
   },
   "file_extension": ".py",
   "mimetype": "text/x-python",
   "name": "python",
   "nbconvert_exporter": "python",
   "pygments_lexer": "ipython3",
   "version": "3.8.10"
  }
 },
 "nbformat": 4,
 "nbformat_minor": 2
}
