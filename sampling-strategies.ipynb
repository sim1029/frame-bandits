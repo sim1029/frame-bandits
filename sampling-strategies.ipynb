{
 "cells": [
  {
   "cell_type": "code",
   "execution_count": 1,
   "id": "d4090e0b-c005-4f09-883d-6ac30d46ffb7",
   "metadata": {},
   "outputs": [],
   "source": [
    "import csv\n",
    "import numpy as np\n",
    "import decord\n",
    "import torch\n",
    "import os, time\n",
    "import pandas as pd\n",
    "import random\n",
    "\n",
    "from gluoncv.torch.utils.model_utils import download\n",
    "from gluoncv.torch.data.transforms.videotransforms import video_transforms, volume_transforms\n",
    "from gluoncv.torch.engine.config import get_cfg_defaults\n",
    "from gluoncv.torch.model_zoo import get_model\n",
    "from tqdm.notebook import tqdm\n",
    "\n",
    "map_path = 'action_map.csv'\n",
    "\n",
    "action_dict = {}\n",
    "\n",
    "with open(map_path, 'r', newline='', encoding='utf-8') as csvfile:\n",
    "    reader = csv.DictReader(csvfile)\n",
    "    for row in reader:\n",
    "        id_value = int(row['id'])\n",
    "        name_value = row['name']\n",
    "        \n",
    "        action_dict[id_value] = name_value"
   ]
  },
  {
   "cell_type": "code",
   "execution_count": 18,
   "id": "54e02c48-0c8e-4ae4-83bc-387d84b89b1f",
   "metadata": {},
   "outputs": [],
   "source": [
    "def process_frames(file_path, model, curr_class, N, strategy):\n",
    "    vr = decord.VideoReader(file_path)\n",
    "    new_rows = []\n",
    "    INTERVAL = 60\n",
    "    for time_int in range(0, len(vr) - INTERVAL + 1, INTERVAL):\n",
    "        if strategy == \"Random\":\n",
    "            l_bound, r_bound = time_int + N, (time_int + INTERVAL) - (N + 1)\n",
    "            rand_start = random.randint(l_bound, r_bound)\n",
    "            frame_id_list = range(rand_start-N, rand_start+N+1)\n",
    "        elif strategy == \"MostRecent\":\n",
    "            recent_start = (time_int + INTERVAL) - (N + 1)\n",
    "            frame_id_list = range(recent_start-N, recent_start+N+1)\n",
    "        elif strategy == \"LeastRecent\":\n",
    "            lr_start = time_int + N\n",
    "            frame_id_list = range(lr_start-N, lr_start+N+1)\n",
    "        else:\n",
    "            raise ValueError(\"Sampling strategy not yet supported\")\n",
    "        video_data = vr.get_batch(frame_id_list).asnumpy()\n",
    "        crop_size = 224\n",
    "        short_side_size = 256\n",
    "        transform_fn = video_transforms.Compose([video_transforms.Resize(short_side_size, interpolation='bilinear'),\n",
    "                                                video_transforms.CenterCrop(size=(crop_size, crop_size)),\n",
    "                                                volume_transforms.ClipToTensor(),\n",
    "                                                video_transforms.Normalize(mean=[0.485, 0.456, 0.406], std=[0.229, 0.224, 0.225])])\n",
    "        clip_input = transform_fn(video_data)\n",
    "        with torch.no_grad():\n",
    "            pred = model(torch.unsqueeze(clip_input, dim=0)).numpy()\n",
    "        probs = torch.nn.functional.softmax(torch.tensor(pred), dim=1).numpy()\n",
    "        top_class = np.argmax(probs)\n",
    "        confidence_interval = np.max(probs) - np.min(probs)\n",
    "        new_row = {\"file_name\": file_path.split(\"/\")[-1], \"class_id\": curr_class, \"class_name\": action_dict[curr_class], \"pred_class_id\": top_class, \"pred_class_name\": action_dict[top_class], \"window_size\": N*2+1, \"confidence\": confidence_interval, \"is_pred_correct\": True if top_class == curr_class else False, \"time_interval\": time_int, \"sampling_strategy\": strategy}\n",
    "        new_rows.append(new_row)\n",
    "    return new_rows"
   ]
  },
  {
   "cell_type": "code",
   "execution_count": 19,
   "id": "8c4f5736-5afa-41c0-bc35-c605506e1396",
   "metadata": {},
   "outputs": [
    {
     "data": {
      "application/vnd.jupyter.widget-view+json": {
       "model_id": "048f3d89af84430883387c3bbc036969",
       "version_major": 2,
       "version_minor": 0
      },
      "text/plain": [
       "Folder progress:   0%|          | 0/5 [00:00<?, ?it/s]"
      ]
     },
     "metadata": {},
     "output_type": "display_data"
    },
    {
     "data": {
      "application/vnd.jupyter.widget-view+json": {
       "model_id": "",
       "version_major": 2,
       "version_minor": 0
      },
      "text/plain": [
       "Context window progress for file: xX7KqiAim0k.mp4:   0%|          | 0/8 [00:00<?, ?it/s]"
      ]
     },
     "metadata": {},
     "output_type": "display_data"
    },
    {
     "data": {
      "application/vnd.jupyter.widget-view+json": {
       "model_id": "",
       "version_major": 2,
       "version_minor": 0
      },
      "text/plain": [
       "Context window progress for file: ITO1tntk1G8.mp4:   0%|          | 0/8 [00:00<?, ?it/s]"
      ]
     },
     "metadata": {},
     "output_type": "display_data"
    },
    {
     "data": {
      "application/vnd.jupyter.widget-view+json": {
       "model_id": "",
       "version_major": 2,
       "version_minor": 0
      },
      "text/plain": [
       "Context window progress for file: cHBkP4Gv8GM.mp4:   0%|          | 0/8 [00:00<?, ?it/s]"
      ]
     },
     "metadata": {},
     "output_type": "display_data"
    },
    {
     "data": {
      "application/vnd.jupyter.widget-view+json": {
       "model_id": "",
       "version_major": 2,
       "version_minor": 0
      },
      "text/plain": [
       "Context window progress for file: Kwh3zOUU-uY.mp4:   0%|          | 0/8 [00:00<?, ?it/s]"
      ]
     },
     "metadata": {},
     "output_type": "display_data"
    },
    {
     "data": {
      "application/vnd.jupyter.widget-view+json": {
       "model_id": "",
       "version_major": 2,
       "version_minor": 0
      },
      "text/plain": [
       "Context window progress for file: G8os8GeaX2k.mp4:   0%|          | 0/8 [00:00<?, ?it/s]"
      ]
     },
     "metadata": {},
     "output_type": "display_data"
    }
   ],
   "source": [
    "# Get 5 Random videos from collection\n",
    "dataset_path = 'datasets/kinetics400_5per/train'\n",
    "\n",
    "subfolders = sorted([subfolder for subfolder in os.listdir(dataset_path) if os.path.isdir(os.path.join(dataset_path, subfolder))])\n",
    "random.seed(2)\n",
    "random_subfolders = random.sample(subfolders, 5)\n",
    "subfolder = random_subfolders[0]\n",
    "\n",
    "config_file = './i3d_resnet50_v1_kinetics400.yaml'\n",
    "cfg = get_cfg_defaults()\n",
    "cfg.merge_from_file(config_file)\n",
    "model = get_model(cfg)\n",
    "model.eval()\n",
    "\n",
    "columns = [\"file_name\", \"class_id\", \"class_name\", \"pred_class_id\", \"pred_class_name\", \"window_size\", \"confidence\", \"is_pred_correct\", \"time_interval\", \"sampling_strategy\"]\n",
    "\n",
    "my_data = []\n",
    "\n",
    "sampling_strategies = ['Random', 'MostRecent', 'LeastRecent']\n",
    "\n",
    "try:\n",
    "    # Iterate over videos\n",
    "    for index, subfolder in tqdm(enumerate(random_subfolders), desc=f\"Folder progress\", position=0, total=len(random_subfolders)):\n",
    "        subfolder_path = os.path.join(dataset_path, subfolder)\n",
    "        files = os.listdir(subfolder_path)\n",
    "        clean_files = []\n",
    "        for filename in files:\n",
    "            if filename.endswith(\".mp4\"):\n",
    "                clean_files.append(filename)\n",
    "        random_file = random.sample(clean_files, 1)[0]\n",
    "        file_path = os.path.join(subfolder_path, random_file)\n",
    "        class_id = -1\n",
    "        for key, value in action_dict.items():\n",
    "            if value == subfolder:\n",
    "                class_id = key\n",
    "                break\n",
    "        N = 2\n",
    "        # Do something with each file\n",
    "        for N in tqdm(range(N, 10), desc=f\"Context window progress for file: {filename}\", position=2, leave=False):\n",
    "            for strategy in sampling_strategies:\n",
    "                new_rows = process_frames(file_path, model, class_id, N, strategy)\n",
    "                for row in new_rows:\n",
    "                    my_data.append(row)\n",
    "                \n",
    "except Exception as e:\n",
    "    print(e)\n",
    "\n",
    "finally:\n",
    "    # Specify the file path\n",
    "    out_path = 'sampling_strategies.csv'\n",
    "    \n",
    "    # Check if the file exists\n",
    "    if os.path.exists(out_path):\n",
    "        # Delete the file\n",
    "        os.remove(out_path)\n",
    "    df = pd.DataFrame(my_data, columns=columns)\n",
    "    df.to_csv(out_path, mode='w', index=False)"
   ]
  }
 ],
 "metadata": {
  "kernelspec": {
   "display_name": "Python 3 (ipykernel)",
   "language": "python",
   "name": "python3"
  },
  "language_info": {
   "codemirror_mode": {
    "name": "ipython",
    "version": 3
   },
   "file_extension": ".py",
   "mimetype": "text/x-python",
   "name": "python",
   "nbconvert_exporter": "python",
   "pygments_lexer": "ipython3",
   "version": "3.8.18"
  }
 },
 "nbformat": 4,
 "nbformat_minor": 5
}
