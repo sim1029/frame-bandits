{
 "cells": [
  {
   "cell_type": "markdown",
   "id": "56b760eb-b4dc-4461-9852-4eb2df9f4fdc",
   "metadata": {},
   "source": [
    "## Exploratory Data Analysis"
   ]
  },
  {
   "cell_type": "markdown",
   "id": "44917861-8728-47b5-bba1-1b580fd0727a",
   "metadata": {},
   "source": [
    "Setup logging and progress bar"
   ]
  },
  {
   "cell_type": "code",
   "execution_count": 1,
   "id": "d7c85470-04e5-4c10-ab30-50f6558c4dc4",
   "metadata": {},
   "outputs": [],
   "source": [
    "import logging, csv\n",
    "import numpy as np\n",
    "import decord\n",
    "import torch\n",
    "import os, time\n",
    "import pandas as pd\n",
    "import random\n",
    "\n",
    "from gluoncv.torch.utils.model_utils import download\n",
    "from gluoncv.torch.data.transforms.videotransforms import video_transforms, volume_transforms\n",
    "from gluoncv.torch.engine.config import get_cfg_defaults\n",
    "from gluoncv.torch.model_zoo import get_model\n",
    "from tqdm.notebook import tqdm\n",
    "\n",
    "# Configure the logging settings\n",
    "logging.basicConfig(filename='eda-output.log', level=logging.INFO, format='%(asctime)s - %(levelname)s - %(message)s')\n",
    "\n",
    "map_path = 'action_map.csv'\n",
    "\n",
    "action_dict = {}\n",
    "\n",
    "with open(map_path, 'r', newline='', encoding='utf-8') as csvfile:\n",
    "    reader = csv.DictReader(csvfile)\n",
    "    for row in reader:\n",
    "        id_value = int(row['id'])\n",
    "        name_value = row['name']\n",
    "        \n",
    "        action_dict[id_value] = name_value"
   ]
  },
  {
   "cell_type": "markdown",
   "id": "a87d610d-0f30-4c6e-8d4b-afaad17c1303",
   "metadata": {},
   "source": [
    "Load dataset"
   ]
  },
  {
   "cell_type": "code",
   "execution_count": 2,
   "id": "f9b3df17-636c-4d87-9a9b-e7e3e7b52973",
   "metadata": {},
   "outputs": [],
   "source": [
    "def process_frames(file_path, model, curr_class, N):\n",
    "    vr = decord.VideoReader(file_path)\n",
    "    new_rows = []\n",
    "    for i in range(N, len(vr) - N, (len(vr) - 2*N - 1) // 2):\n",
    "        frame_id_list = range(i-N, i+N+1)\n",
    "        video_data = vr.get_batch(frame_id_list).asnumpy()\n",
    "        crop_size = 224\n",
    "        short_side_size = 256\n",
    "        transform_fn = video_transforms.Compose([video_transforms.Resize(short_side_size, interpolation='bilinear'),\n",
    "                                                video_transforms.CenterCrop(size=(crop_size, crop_size)),\n",
    "                                                volume_transforms.ClipToTensor(),\n",
    "                                                video_transforms.Normalize(mean=[0.485, 0.456, 0.406], std=[0.229, 0.224, 0.225])])\n",
    "        clip_input = transform_fn(video_data)\n",
    "        with torch.no_grad():\n",
    "            pred = model(torch.unsqueeze(clip_input, dim=0)).numpy()\n",
    "        probs = torch.nn.functional.softmax(torch.tensor(pred), dim=1).numpy()\n",
    "        top_class = np.argmax(probs)\n",
    "        confidence_interval = np.max(probs) - np.min(probs)\n",
    "\n",
    "        position_str = \"S\"\n",
    "        if i == N + ((len(vr) - 2*N - 1) // 2):\n",
    "            position_str = \"M\"\n",
    "        elif i == N + 2 * ((len(vr) - 2*N - 1) // 2):\n",
    "            position_str = \"E\"\n",
    "        new_row = {\"file_name\": file_path.split(\"/\")[-1], \"class_id\": curr_class, \"class_name\": action_dict[curr_class], \"pred_class_id\": top_class, \"pred_class_name\": action_dict[top_class], \"window_size\": N*2+1, \"confidence\": confidence_interval, \"is_pred_correct\": True if top_class == curr_class else False, \"position\": position_str}\n",
    "        new_rows.append(new_row)\n",
    "    return new_rows"
   ]
  },
  {
   "cell_type": "code",
   "execution_count": 3,
   "id": "110e1788-2e9a-4264-b4e0-0305377102b4",
   "metadata": {},
   "outputs": [
    {
     "data": {
      "application/vnd.jupyter.widget-view+json": {
       "model_id": "d15167dadee445a79735eeda66103590",
       "version_major": 2,
       "version_minor": 0
      },
      "text/plain": [
       "Folder progress:   0%|          | 0/50 [00:00<?, ?it/s]"
      ]
     },
     "metadata": {},
     "output_type": "display_data"
    },
    {
     "data": {
      "application/vnd.jupyter.widget-view+json": {
       "model_id": "",
       "version_major": 2,
       "version_minor": 0
      },
      "text/plain": [
       "File progress for folder: kissing:   0%|          | 0/3 [00:00<?, ?it/s]"
      ]
     },
     "metadata": {},
     "output_type": "display_data"
    },
    {
     "data": {
      "application/vnd.jupyter.widget-view+json": {
       "model_id": "",
       "version_major": 2,
       "version_minor": 0
      },
      "text/plain": [
       "Context window progress for file: rIewS2RaZCc.mp4:   0%|          | 0/8 [00:00<?, ?it/s]"
      ]
     },
     "metadata": {},
     "output_type": "display_data"
    },
    {
     "data": {
      "application/vnd.jupyter.widget-view+json": {
       "model_id": "",
       "version_major": 2,
       "version_minor": 0
      },
      "text/plain": [
       "Context window progress for file: Uap_jOLt46k.mp4:   0%|          | 0/8 [00:00<?, ?it/s]"
      ]
     },
     "metadata": {},
     "output_type": "display_data"
    },
    {
     "data": {
      "application/vnd.jupyter.widget-view+json": {
       "model_id": "",
       "version_major": 2,
       "version_minor": 0
      },
      "text/plain": [
       "Context window progress for file: _CoBSDRUk9g.mp4:   0%|          | 0/8 [00:00<?, ?it/s]"
      ]
     },
     "metadata": {},
     "output_type": "display_data"
    },
    {
     "data": {
      "application/vnd.jupyter.widget-view+json": {
       "model_id": "",
       "version_major": 2,
       "version_minor": 0
      },
      "text/plain": [
       "File progress for folder: cleaning pool:   0%|          | 0/3 [00:00<?, ?it/s]"
      ]
     },
     "metadata": {},
     "output_type": "display_data"
    },
    {
     "data": {
      "application/vnd.jupyter.widget-view+json": {
       "model_id": "",
       "version_major": 2,
       "version_minor": 0
      },
      "text/plain": [
       "Context window progress for file: jZPkP1iFuDA.mp4:   0%|          | 0/8 [00:00<?, ?it/s]"
      ]
     },
     "metadata": {},
     "output_type": "display_data"
    },
    {
     "data": {
      "application/vnd.jupyter.widget-view+json": {
       "model_id": "",
       "version_major": 2,
       "version_minor": 0
      },
      "text/plain": [
       "Context window progress for file: 76pyoo4FGpA.mp4:   0%|          | 0/8 [00:00<?, ?it/s]"
      ]
     },
     "metadata": {},
     "output_type": "display_data"
    },
    {
     "data": {
      "application/vnd.jupyter.widget-view+json": {
       "model_id": "",
       "version_major": 2,
       "version_minor": 0
      },
      "text/plain": [
       "Context window progress for file: bWj-m_EXtsM.mp4:   0%|          | 0/8 [00:00<?, ?it/s]"
      ]
     },
     "metadata": {},
     "output_type": "display_data"
    },
    {
     "data": {
      "application/vnd.jupyter.widget-view+json": {
       "model_id": "",
       "version_major": 2,
       "version_minor": 0
      },
      "text/plain": [
       "File progress for folder: doing nails:   0%|          | 0/3 [00:00<?, ?it/s]"
      ]
     },
     "metadata": {},
     "output_type": "display_data"
    },
    {
     "data": {
      "application/vnd.jupyter.widget-view+json": {
       "model_id": "",
       "version_major": 2,
       "version_minor": 0
      },
      "text/plain": [
       "Context window progress for file: OFyANM01a3Y.mp4:   0%|          | 0/8 [00:00<?, ?it/s]"
      ]
     },
     "metadata": {},
     "output_type": "display_data"
    },
    {
     "data": {
      "application/vnd.jupyter.widget-view+json": {
       "model_id": "",
       "version_major": 2,
       "version_minor": 0
      },
      "text/plain": [
       "Context window progress for file: NV1Gjf0A_v0.mp4:   0%|          | 0/8 [00:00<?, ?it/s]"
      ]
     },
     "metadata": {},
     "output_type": "display_data"
    },
    {
     "data": {
      "application/vnd.jupyter.widget-view+json": {
       "model_id": "",
       "version_major": 2,
       "version_minor": 0
      },
      "text/plain": [
       "Context window progress for file: LMMjO5GhK4A.mp4:   0%|          | 0/8 [00:00<?, ?it/s]"
      ]
     },
     "metadata": {},
     "output_type": "display_data"
    },
    {
     "data": {
      "application/vnd.jupyter.widget-view+json": {
       "model_id": "",
       "version_major": 2,
       "version_minor": 0
      },
      "text/plain": [
       "File progress for folder: playing trombone:   0%|          | 0/3 [00:00<?, ?it/s]"
      ]
     },
     "metadata": {},
     "output_type": "display_data"
    },
    {
     "data": {
      "application/vnd.jupyter.widget-view+json": {
       "model_id": "",
       "version_major": 2,
       "version_minor": 0
      },
      "text/plain": [
       "Context window progress for file: LZapYnwZMO8.mp4:   0%|          | 0/8 [00:00<?, ?it/s]"
      ]
     },
     "metadata": {},
     "output_type": "display_data"
    },
    {
     "data": {
      "application/vnd.jupyter.widget-view+json": {
       "model_id": "",
       "version_major": 2,
       "version_minor": 0
      },
      "text/plain": [
       "Context window progress for file: Ozzc0hxImT0.mp4:   0%|          | 0/8 [00:00<?, ?it/s]"
      ]
     },
     "metadata": {},
     "output_type": "display_data"
    },
    {
     "data": {
      "application/vnd.jupyter.widget-view+json": {
       "model_id": "",
       "version_major": 2,
       "version_minor": 0
      },
      "text/plain": [
       "Context window progress for file: vPm65Kuccr8.mp4:   0%|          | 0/8 [00:00<?, ?it/s]"
      ]
     },
     "metadata": {},
     "output_type": "display_data"
    },
    {
     "data": {
      "application/vnd.jupyter.widget-view+json": {
       "model_id": "",
       "version_major": 2,
       "version_minor": 0
      },
      "text/plain": [
       "File progress for folder: waxing back:   0%|          | 0/3 [00:00<?, ?it/s]"
      ]
     },
     "metadata": {},
     "output_type": "display_data"
    },
    {
     "data": {
      "application/vnd.jupyter.widget-view+json": {
       "model_id": "",
       "version_major": 2,
       "version_minor": 0
      },
      "text/plain": [
       "Context window progress for file: IQzX9O6W-2g.mp4:   0%|          | 0/8 [00:00<?, ?it/s]"
      ]
     },
     "metadata": {},
     "output_type": "display_data"
    },
    {
     "data": {
      "application/vnd.jupyter.widget-view+json": {
       "model_id": "",
       "version_major": 2,
       "version_minor": 0
      },
      "text/plain": [
       "Context window progress for file: gdhSgrHAHAA.mp4:   0%|          | 0/8 [00:00<?, ?it/s]"
      ]
     },
     "metadata": {},
     "output_type": "display_data"
    },
    {
     "data": {
      "application/vnd.jupyter.widget-view+json": {
       "model_id": "",
       "version_major": 2,
       "version_minor": 0
      },
      "text/plain": [
       "Context window progress for file: VHd53zBt1Ac.mp4:   0%|          | 0/8 [00:00<?, ?it/s]"
      ]
     },
     "metadata": {},
     "output_type": "display_data"
    },
    {
     "data": {
      "application/vnd.jupyter.widget-view+json": {
       "model_id": "",
       "version_major": 2,
       "version_minor": 0
      },
      "text/plain": [
       "File progress for folder: throwing discus:   0%|          | 0/3 [00:00<?, ?it/s]"
      ]
     },
     "metadata": {},
     "output_type": "display_data"
    },
    {
     "data": {
      "application/vnd.jupyter.widget-view+json": {
       "model_id": "",
       "version_major": 2,
       "version_minor": 0
      },
      "text/plain": [
       "Context window progress for file: nvMacm3DjNU.mp4:   0%|          | 0/8 [00:00<?, ?it/s]"
      ]
     },
     "metadata": {},
     "output_type": "display_data"
    },
    {
     "data": {
      "application/vnd.jupyter.widget-view+json": {
       "model_id": "",
       "version_major": 2,
       "version_minor": 0
      },
      "text/plain": [
       "Context window progress for file: RUKclKuiKbw.mp4:   0%|          | 0/8 [00:00<?, ?it/s]"
      ]
     },
     "metadata": {},
     "output_type": "display_data"
    },
    {
     "data": {
      "application/vnd.jupyter.widget-view+json": {
       "model_id": "",
       "version_major": 2,
       "version_minor": 0
      },
      "text/plain": [
       "Context window progress for file: m-5pzGPJpBo.mp4:   0%|          | 0/8 [00:00<?, ?it/s]"
      ]
     },
     "metadata": {},
     "output_type": "display_data"
    },
    {
     "data": {
      "application/vnd.jupyter.widget-view+json": {
       "model_id": "",
       "version_major": 2,
       "version_minor": 0
      },
      "text/plain": [
       "File progress for folder: climbing ladder:   0%|          | 0/3 [00:00<?, ?it/s]"
      ]
     },
     "metadata": {},
     "output_type": "display_data"
    },
    {
     "data": {
      "application/vnd.jupyter.widget-view+json": {
       "model_id": "",
       "version_major": 2,
       "version_minor": 0
      },
      "text/plain": [
       "Context window progress for file: 7SG0V2QFRhU.mp4:   0%|          | 0/8 [00:00<?, ?it/s]"
      ]
     },
     "metadata": {},
     "output_type": "display_data"
    },
    {
     "data": {
      "application/vnd.jupyter.widget-view+json": {
       "model_id": "",
       "version_major": 2,
       "version_minor": 0
      },
      "text/plain": [
       "Context window progress for file: pzqQA2daHB4.mp4:   0%|          | 0/8 [00:00<?, ?it/s]"
      ]
     },
     "metadata": {},
     "output_type": "display_data"
    },
    {
     "data": {
      "application/vnd.jupyter.widget-view+json": {
       "model_id": "",
       "version_major": 2,
       "version_minor": 0
      },
      "text/plain": [
       "Context window progress for file: JgYX9ERLtRk.mp4:   0%|          | 0/8 [00:00<?, ?it/s]"
      ]
     },
     "metadata": {},
     "output_type": "display_data"
    },
    {
     "data": {
      "application/vnd.jupyter.widget-view+json": {
       "model_id": "",
       "version_major": 2,
       "version_minor": 0
      },
      "text/plain": [
       "File progress for folder: bending metal:   0%|          | 0/3 [00:00<?, ?it/s]"
      ]
     },
     "metadata": {},
     "output_type": "display_data"
    },
    {
     "data": {
      "application/vnd.jupyter.widget-view+json": {
       "model_id": "",
       "version_major": 2,
       "version_minor": 0
      },
      "text/plain": [
       "Context window progress for file: pvxQ8c9YC7E.mp4:   0%|          | 0/8 [00:00<?, ?it/s]"
      ]
     },
     "metadata": {},
     "output_type": "display_data"
    },
    {
     "data": {
      "application/vnd.jupyter.widget-view+json": {
       "model_id": "",
       "version_major": 2,
       "version_minor": 0
      },
      "text/plain": [
       "Context window progress for file: x_cFq7Pnk7Y.mp4:   0%|          | 0/8 [00:00<?, ?it/s]"
      ]
     },
     "metadata": {},
     "output_type": "display_data"
    },
    {
     "data": {
      "application/vnd.jupyter.widget-view+json": {
       "model_id": "",
       "version_major": 2,
       "version_minor": 0
      },
      "text/plain": [
       "Context window progress for file: p2J2wczc_bc.mp4:   0%|          | 0/8 [00:00<?, ?it/s]"
      ]
     },
     "metadata": {},
     "output_type": "display_data"
    },
    {
     "data": {
      "application/vnd.jupyter.widget-view+json": {
       "model_id": "",
       "version_major": 2,
       "version_minor": 0
      },
      "text/plain": [
       "File progress for folder: tickling:   0%|          | 0/3 [00:00<?, ?it/s]"
      ]
     },
     "metadata": {},
     "output_type": "display_data"
    },
    {
     "data": {
      "application/vnd.jupyter.widget-view+json": {
       "model_id": "",
       "version_major": 2,
       "version_minor": 0
      },
      "text/plain": [
       "Context window progress for file: pKpchGkK_ZE.mp4:   0%|          | 0/8 [00:00<?, ?it/s]"
      ]
     },
     "metadata": {},
     "output_type": "display_data"
    },
    {
     "data": {
      "application/vnd.jupyter.widget-view+json": {
       "model_id": "",
       "version_major": 2,
       "version_minor": 0
      },
      "text/plain": [
       "Context window progress for file: Jq8eDgY8sNA.mp4:   0%|          | 0/8 [00:00<?, ?it/s]"
      ]
     },
     "metadata": {},
     "output_type": "display_data"
    },
    {
     "data": {
      "application/vnd.jupyter.widget-view+json": {
       "model_id": "",
       "version_major": 2,
       "version_minor": 0
      },
      "text/plain": [
       "Context window progress for file: M6Hjgie0SwQ.mp4:   0%|          | 0/8 [00:00<?, ?it/s]"
      ]
     },
     "metadata": {},
     "output_type": "display_data"
    },
    {
     "data": {
      "application/vnd.jupyter.widget-view+json": {
       "model_id": "",
       "version_major": 2,
       "version_minor": 0
      },
      "text/plain": [
       "File progress for folder: cleaning toilet:   0%|          | 0/3 [00:00<?, ?it/s]"
      ]
     },
     "metadata": {},
     "output_type": "display_data"
    },
    {
     "data": {
      "application/vnd.jupyter.widget-view+json": {
       "model_id": "",
       "version_major": 2,
       "version_minor": 0
      },
      "text/plain": [
       "Context window progress for file: 53mNzUlhh5c.mp4:   0%|          | 0/8 [00:00<?, ?it/s]"
      ]
     },
     "metadata": {},
     "output_type": "display_data"
    },
    {
     "data": {
      "application/vnd.jupyter.widget-view+json": {
       "model_id": "",
       "version_major": 2,
       "version_minor": 0
      },
      "text/plain": [
       "Context window progress for file: 9sDL9eFuPp0.mp4:   0%|          | 0/8 [00:00<?, ?it/s]"
      ]
     },
     "metadata": {},
     "output_type": "display_data"
    },
    {
     "data": {
      "application/vnd.jupyter.widget-view+json": {
       "model_id": "",
       "version_major": 2,
       "version_minor": 0
      },
      "text/plain": [
       "Context window progress for file: EZQ0N-8xNjs.mp4:   0%|          | 0/8 [00:00<?, ?it/s]"
      ]
     },
     "metadata": {},
     "output_type": "display_data"
    },
    {
     "data": {
      "application/vnd.jupyter.widget-view+json": {
       "model_id": "",
       "version_major": 2,
       "version_minor": 0
      },
      "text/plain": [
       "File progress for folder: somersaulting:   0%|          | 0/3 [00:00<?, ?it/s]"
      ]
     },
     "metadata": {},
     "output_type": "display_data"
    },
    {
     "data": {
      "application/vnd.jupyter.widget-view+json": {
       "model_id": "",
       "version_major": 2,
       "version_minor": 0
      },
      "text/plain": [
       "Context window progress for file: bp4c77pUtYM.mp4:   0%|          | 0/8 [00:00<?, ?it/s]"
      ]
     },
     "metadata": {},
     "output_type": "display_data"
    },
    {
     "data": {
      "application/vnd.jupyter.widget-view+json": {
       "model_id": "",
       "version_major": 2,
       "version_minor": 0
      },
      "text/plain": [
       "Context window progress for file: lsyntkulU40.mp4:   0%|          | 0/8 [00:00<?, ?it/s]"
      ]
     },
     "metadata": {},
     "output_type": "display_data"
    },
    {
     "data": {
      "application/vnd.jupyter.widget-view+json": {
       "model_id": "",
       "version_major": 2,
       "version_minor": 0
      },
      "text/plain": [
       "Context window progress for file: H9zwjfasef0.mp4:   0%|          | 0/8 [00:00<?, ?it/s]"
      ]
     },
     "metadata": {},
     "output_type": "display_data"
    },
    {
     "data": {
      "application/vnd.jupyter.widget-view+json": {
       "model_id": "",
       "version_major": 2,
       "version_minor": 0
      },
      "text/plain": [
       "File progress for folder: salsa dancing:   0%|          | 0/3 [00:00<?, ?it/s]"
      ]
     },
     "metadata": {},
     "output_type": "display_data"
    },
    {
     "data": {
      "application/vnd.jupyter.widget-view+json": {
       "model_id": "",
       "version_major": 2,
       "version_minor": 0
      },
      "text/plain": [
       "Context window progress for file: 2BBucOyNKA8.mp4:   0%|          | 0/8 [00:00<?, ?it/s]"
      ]
     },
     "metadata": {},
     "output_type": "display_data"
    },
    {
     "data": {
      "application/vnd.jupyter.widget-view+json": {
       "model_id": "",
       "version_major": 2,
       "version_minor": 0
      },
      "text/plain": [
       "Context window progress for file: ixquDNV9sfM.mp4:   0%|          | 0/8 [00:00<?, ?it/s]"
      ]
     },
     "metadata": {},
     "output_type": "display_data"
    },
    {
     "data": {
      "application/vnd.jupyter.widget-view+json": {
       "model_id": "",
       "version_major": 2,
       "version_minor": 0
      },
      "text/plain": [
       "Context window progress for file: jgjc9YsIp-M.mp4:   0%|          | 0/8 [00:00<?, ?it/s]"
      ]
     },
     "metadata": {},
     "output_type": "display_data"
    },
    {
     "data": {
      "application/vnd.jupyter.widget-view+json": {
       "model_id": "",
       "version_major": 2,
       "version_minor": 0
      },
      "text/plain": [
       "File progress for folder: changing wheel:   0%|          | 0/3 [00:00<?, ?it/s]"
      ]
     },
     "metadata": {},
     "output_type": "display_data"
    },
    {
     "data": {
      "application/vnd.jupyter.widget-view+json": {
       "model_id": "bf716a2acc2f4d21946c7a83f9beb608",
       "version_major": 2,
       "version_minor": 0
      },
      "text/plain": [
       "Context window progress for file: psPpis-L3IY.mp4:   0%|          | 0/8 [00:00<?, ?it/s]"
      ]
     },
     "metadata": {},
     "output_type": "display_data"
    },
    {
     "data": {
      "application/vnd.jupyter.widget-view+json": {
       "model_id": "9c483d2f35d149cd86eb5b4940fe50fd",
       "version_major": 2,
       "version_minor": 0
      },
      "text/plain": [
       "Context window progress for file: niNI0znGiTY.mp4:   0%|          | 0/8 [00:00<?, ?it/s]"
      ]
     },
     "metadata": {},
     "output_type": "display_data"
    },
    {
     "data": {
      "application/vnd.jupyter.widget-view+json": {
       "model_id": "19d40d1ec96341bf925452ed7e67e1b6",
       "version_major": 2,
       "version_minor": 0
      },
      "text/plain": [
       "Context window progress for file: CEHsBRj7EUU.mp4:   0%|          | 0/8 [00:00<?, ?it/s]"
      ]
     },
     "metadata": {},
     "output_type": "display_data"
    },
    {
     "data": {
      "application/vnd.jupyter.widget-view+json": {
       "model_id": "20727bece9e4479cab53f91dde58596d",
       "version_major": 2,
       "version_minor": 0
      },
      "text/plain": [
       "File progress for folder: building shed:   0%|          | 0/3 [00:00<?, ?it/s]"
      ]
     },
     "metadata": {},
     "output_type": "display_data"
    },
    {
     "data": {
      "application/vnd.jupyter.widget-view+json": {
       "model_id": "cd2464ee29af41deb6184c06a6145cba",
       "version_major": 2,
       "version_minor": 0
      },
      "text/plain": [
       "Context window progress for file: ayUBrx6IOnU.mp4:   0%|          | 0/8 [00:00<?, ?it/s]"
      ]
     },
     "metadata": {},
     "output_type": "display_data"
    },
    {
     "data": {
      "application/vnd.jupyter.widget-view+json": {
       "model_id": "42be60f8f3b1490699e35f42171adfbd",
       "version_major": 2,
       "version_minor": 0
      },
      "text/plain": [
       "Context window progress for file: MAVHnrPvhzc.mp4:   0%|          | 0/8 [00:00<?, ?it/s]"
      ]
     },
     "metadata": {},
     "output_type": "display_data"
    },
    {
     "data": {
      "application/vnd.jupyter.widget-view+json": {
       "model_id": "fdadfc6280d340aeb427d42222f15424",
       "version_major": 2,
       "version_minor": 0
      },
      "text/plain": [
       "Context window progress for file: rfQYCvrm8JM.mp4:   0%|          | 0/8 [00:00<?, ?it/s]"
      ]
     },
     "metadata": {},
     "output_type": "display_data"
    },
    {
     "data": {
      "application/vnd.jupyter.widget-view+json": {
       "model_id": "b93f942bf7da40c79c22347eb0d72e0f",
       "version_major": 2,
       "version_minor": 0
      },
      "text/plain": [
       "File progress for folder: sled dog racing:   0%|          | 0/3 [00:00<?, ?it/s]"
      ]
     },
     "metadata": {},
     "output_type": "display_data"
    },
    {
     "data": {
      "application/vnd.jupyter.widget-view+json": {
       "model_id": "3d67d17fe2c0458cbf55f9c39f96362a",
       "version_major": 2,
       "version_minor": 0
      },
      "text/plain": [
       "Context window progress for file: Gsudk3AmphQ.mp4:   0%|          | 0/8 [00:00<?, ?it/s]"
      ]
     },
     "metadata": {},
     "output_type": "display_data"
    },
    {
     "data": {
      "application/vnd.jupyter.widget-view+json": {
       "model_id": "618c7b5720d84079b89148c5118389c4",
       "version_major": 2,
       "version_minor": 0
      },
      "text/plain": [
       "Context window progress for file: fQp1Yig9fTQ.mp4:   0%|          | 0/8 [00:00<?, ?it/s]"
      ]
     },
     "metadata": {},
     "output_type": "display_data"
    },
    {
     "data": {
      "application/vnd.jupyter.widget-view+json": {
       "model_id": "2e1808684b9043b5804bef2b1b7c28be",
       "version_major": 2,
       "version_minor": 0
      },
      "text/plain": [
       "Context window progress for file: ozVFlmiNRoo.mp4:   0%|          | 0/8 [00:00<?, ?it/s]"
      ]
     },
     "metadata": {},
     "output_type": "display_data"
    },
    {
     "data": {
      "application/vnd.jupyter.widget-view+json": {
       "model_id": "888cd8ab2fc749b180df3e92ca0a5b73",
       "version_major": 2,
       "version_minor": 0
      },
      "text/plain": [
       "File progress for folder: grooming dog:   0%|          | 0/3 [00:00<?, ?it/s]"
      ]
     },
     "metadata": {},
     "output_type": "display_data"
    },
    {
     "data": {
      "application/vnd.jupyter.widget-view+json": {
       "model_id": "4b6718c16d114ffbbe5fb01938ae17df",
       "version_major": 2,
       "version_minor": 0
      },
      "text/plain": [
       "Context window progress for file: Jz-Xh8OVql0.mp4:   0%|          | 0/8 [00:00<?, ?it/s]"
      ]
     },
     "metadata": {},
     "output_type": "display_data"
    },
    {
     "data": {
      "application/vnd.jupyter.widget-view+json": {
       "model_id": "a996d605ff314a09a3c8dbb8c0395d43",
       "version_major": 2,
       "version_minor": 0
      },
      "text/plain": [
       "Context window progress for file: eVr73UaTVNg.mp4:   0%|          | 0/8 [00:00<?, ?it/s]"
      ]
     },
     "metadata": {},
     "output_type": "display_data"
    },
    {
     "data": {
      "application/vnd.jupyter.widget-view+json": {
       "model_id": "b0ccd073ffcb43f5a702cb88f4d5c5fb",
       "version_major": 2,
       "version_minor": 0
      },
      "text/plain": [
       "Context window progress for file: jZaJu8Os3Jc.mp4:   0%|          | 0/8 [00:00<?, ?it/s]"
      ]
     },
     "metadata": {},
     "output_type": "display_data"
    },
    {
     "data": {
      "application/vnd.jupyter.widget-view+json": {
       "model_id": "377095ce55204c50ac343028e79be135",
       "version_major": 2,
       "version_minor": 0
      },
      "text/plain": [
       "File progress for folder: dodgeball:   0%|          | 0/3 [00:00<?, ?it/s]"
      ]
     },
     "metadata": {},
     "output_type": "display_data"
    },
    {
     "data": {
      "application/vnd.jupyter.widget-view+json": {
       "model_id": "afcf7e12f4c44ce8a008422b67e8073e",
       "version_major": 2,
       "version_minor": 0
      },
      "text/plain": [
       "Context window progress for file: pmEKZ3R9OAA.mp4:   0%|          | 0/8 [00:00<?, ?it/s]"
      ]
     },
     "metadata": {},
     "output_type": "display_data"
    },
    {
     "data": {
      "application/vnd.jupyter.widget-view+json": {
       "model_id": "3d4166d2d666464ea91f7cf9f7fc85af",
       "version_major": 2,
       "version_minor": 0
      },
      "text/plain": [
       "Context window progress for file: zf1eP9c_7hU.mp4:   0%|          | 0/8 [00:00<?, ?it/s]"
      ]
     },
     "metadata": {},
     "output_type": "display_data"
    },
    {
     "data": {
      "application/vnd.jupyter.widget-view+json": {
       "model_id": "cb794ee09bb04c32998311bb40c9dde9",
       "version_major": 2,
       "version_minor": 0
      },
      "text/plain": [
       "Context window progress for file: PKoekpgzbeE.mp4:   0%|          | 0/8 [00:00<?, ?it/s]"
      ]
     },
     "metadata": {},
     "output_type": "display_data"
    },
    {
     "data": {
      "application/vnd.jupyter.widget-view+json": {
       "model_id": "ef8a369b12d64763aa1cc6f423bc67fa",
       "version_major": 2,
       "version_minor": 0
      },
      "text/plain": [
       "File progress for folder: training dog:   0%|          | 0/3 [00:00<?, ?it/s]"
      ]
     },
     "metadata": {},
     "output_type": "display_data"
    },
    {
     "data": {
      "application/vnd.jupyter.widget-view+json": {
       "model_id": "4007335dc95c4f98be8f5f1765807f6c",
       "version_major": 2,
       "version_minor": 0
      },
      "text/plain": [
       "Context window progress for file: F2Iw-IO0HPg.mp4:   0%|          | 0/8 [00:00<?, ?it/s]"
      ]
     },
     "metadata": {},
     "output_type": "display_data"
    },
    {
     "data": {
      "application/vnd.jupyter.widget-view+json": {
       "model_id": "aa04317545df4a5c9fc98ce793b1338a",
       "version_major": 2,
       "version_minor": 0
      },
      "text/plain": [
       "Context window progress for file: IXsMZPqgCc4.mp4:   0%|          | 0/8 [00:00<?, ?it/s]"
      ]
     },
     "metadata": {},
     "output_type": "display_data"
    },
    {
     "data": {
      "application/vnd.jupyter.widget-view+json": {
       "model_id": "d907efe035314405a756e7b7bc3108ca",
       "version_major": 2,
       "version_minor": 0
      },
      "text/plain": [
       "Context window progress for file: jWZ9Qjiu6gY.mp4:   0%|          | 0/8 [00:00<?, ?it/s]"
      ]
     },
     "metadata": {},
     "output_type": "display_data"
    },
    {
     "data": {
      "application/vnd.jupyter.widget-view+json": {
       "model_id": "6bb7203c604c4cc29488b87b728a9f93",
       "version_major": 2,
       "version_minor": 0
      },
      "text/plain": [
       "File progress for folder: strumming guitar:   0%|          | 0/3 [00:00<?, ?it/s]"
      ]
     },
     "metadata": {},
     "output_type": "display_data"
    },
    {
     "data": {
      "application/vnd.jupyter.widget-view+json": {
       "model_id": "b56b72e154154b0e8b2a78b9d8af63b4",
       "version_major": 2,
       "version_minor": 0
      },
      "text/plain": [
       "Context window progress for file: dxDXxE4sWio.mp4:   0%|          | 0/8 [00:00<?, ?it/s]"
      ]
     },
     "metadata": {},
     "output_type": "display_data"
    },
    {
     "data": {
      "application/vnd.jupyter.widget-view+json": {
       "model_id": "10dfc64f3299407f888131a2e217c73b",
       "version_major": 2,
       "version_minor": 0
      },
      "text/plain": [
       "Context window progress for file: YojKUJrpoqY.mp4:   0%|          | 0/8 [00:00<?, ?it/s]"
      ]
     },
     "metadata": {},
     "output_type": "display_data"
    },
    {
     "data": {
      "application/vnd.jupyter.widget-view+json": {
       "model_id": "2eccd12978ae4c5488e079035d7bf05e",
       "version_major": 2,
       "version_minor": 0
      },
      "text/plain": [
       "Context window progress for file: DWR5RL4Lzgg.mp4:   0%|          | 0/8 [00:00<?, ?it/s]"
      ]
     },
     "metadata": {},
     "output_type": "display_data"
    },
    {
     "data": {
      "application/vnd.jupyter.widget-view+json": {
       "model_id": "8874b524d82b42a397fcc2a768ab05ee",
       "version_major": 2,
       "version_minor": 0
      },
      "text/plain": [
       "File progress for folder: making pizza:   0%|          | 0/3 [00:00<?, ?it/s]"
      ]
     },
     "metadata": {},
     "output_type": "display_data"
    },
    {
     "data": {
      "application/vnd.jupyter.widget-view+json": {
       "model_id": "0907460783454f8d9149c498c5b52095",
       "version_major": 2,
       "version_minor": 0
      },
      "text/plain": [
       "Context window progress for file: DrtZbeppObU.mp4:   0%|          | 0/8 [00:00<?, ?it/s]"
      ]
     },
     "metadata": {},
     "output_type": "display_data"
    },
    {
     "data": {
      "application/vnd.jupyter.widget-view+json": {
       "model_id": "c097e1d73bc046ea9f0b587df359761c",
       "version_major": 2,
       "version_minor": 0
      },
      "text/plain": [
       "Context window progress for file: _wLE2MIZSkk.mp4:   0%|          | 0/8 [00:00<?, ?it/s]"
      ]
     },
     "metadata": {},
     "output_type": "display_data"
    },
    {
     "data": {
      "application/vnd.jupyter.widget-view+json": {
       "model_id": "abebbaa583344abdae57ad01a27b5d99",
       "version_major": 2,
       "version_minor": 0
      },
      "text/plain": [
       "Context window progress for file: x2zRYlXLvtQ.mp4:   0%|          | 0/8 [00:00<?, ?it/s]"
      ]
     },
     "metadata": {},
     "output_type": "display_data"
    },
    {
     "data": {
      "application/vnd.jupyter.widget-view+json": {
       "model_id": "125ef9704f6f409fbc7e7624a9415519",
       "version_major": 2,
       "version_minor": 0
      },
      "text/plain": [
       "File progress for folder: hugging:   0%|          | 0/3 [00:00<?, ?it/s]"
      ]
     },
     "metadata": {},
     "output_type": "display_data"
    },
    {
     "data": {
      "application/vnd.jupyter.widget-view+json": {
       "model_id": "af6131ffee76490f9a601e785d88cefe",
       "version_major": 2,
       "version_minor": 0
      },
      "text/plain": [
       "Context window progress for file: Qv2McJK7ojQ.mp4:   0%|          | 0/8 [00:00<?, ?it/s]"
      ]
     },
     "metadata": {},
     "output_type": "display_data"
    },
    {
     "data": {
      "application/vnd.jupyter.widget-view+json": {
       "model_id": "ba5325405eef40bca9e7f73038f6a392",
       "version_major": 2,
       "version_minor": 0
      },
      "text/plain": [
       "Context window progress for file: R_JKiFg1J3s.mp4:   0%|          | 0/8 [00:00<?, ?it/s]"
      ]
     },
     "metadata": {},
     "output_type": "display_data"
    },
    {
     "data": {
      "application/vnd.jupyter.widget-view+json": {
       "model_id": "6f996f4c6a7c44a1831f047c12d56e5c",
       "version_major": 2,
       "version_minor": 0
      },
      "text/plain": [
       "Context window progress for file: GlFheMyy5Qc.mp4:   0%|          | 0/8 [00:00<?, ?it/s]"
      ]
     },
     "metadata": {},
     "output_type": "display_data"
    },
    {
     "data": {
      "application/vnd.jupyter.widget-view+json": {
       "model_id": "24a5dde05e684d0db97edd6401dbf82a",
       "version_major": 2,
       "version_minor": 0
      },
      "text/plain": [
       "File progress for folder: abseiling:   0%|          | 0/3 [00:00<?, ?it/s]"
      ]
     },
     "metadata": {},
     "output_type": "display_data"
    },
    {
     "data": {
      "application/vnd.jupyter.widget-view+json": {
       "model_id": "adb81f420afb4a3d9d3e0e2ad6882836",
       "version_major": 2,
       "version_minor": 0
      },
      "text/plain": [
       "Context window progress for file: UP6kAnZLET8.mp4:   0%|          | 0/8 [00:00<?, ?it/s]"
      ]
     },
     "metadata": {},
     "output_type": "display_data"
    },
    {
     "data": {
      "application/vnd.jupyter.widget-view+json": {
       "model_id": "4fc3671219eb4e9285783b17bf7ca642",
       "version_major": 2,
       "version_minor": 0
      },
      "text/plain": [
       "Context window progress for file: uP09GoMAYjU.mp4:   0%|          | 0/8 [00:00<?, ?it/s]"
      ]
     },
     "metadata": {},
     "output_type": "display_data"
    },
    {
     "data": {
      "application/vnd.jupyter.widget-view+json": {
       "model_id": "789d04e235294bd7907afe306983e4ff",
       "version_major": 2,
       "version_minor": 0
      },
      "text/plain": [
       "Context window progress for file: YCXkFo1nX1Q.mp4:   0%|          | 0/8 [00:00<?, ?it/s]"
      ]
     },
     "metadata": {},
     "output_type": "display_data"
    },
    {
     "data": {
      "application/vnd.jupyter.widget-view+json": {
       "model_id": "a53273f07d204580a107ebe6088ce78d",
       "version_major": 2,
       "version_minor": 0
      },
      "text/plain": [
       "File progress for folder: petting animal (not cat):   0%|          | 0/3 [00:00<?, ?it/s]"
      ]
     },
     "metadata": {},
     "output_type": "display_data"
    },
    {
     "data": {
      "application/vnd.jupyter.widget-view+json": {
       "model_id": "dec88de6e1534eb585e0ae47e7a57f92",
       "version_major": 2,
       "version_minor": 0
      },
      "text/plain": [
       "Context window progress for file: Yb9_AOIJ8r8.mp4:   0%|          | 0/8 [00:00<?, ?it/s]"
      ]
     },
     "metadata": {},
     "output_type": "display_data"
    },
    {
     "data": {
      "application/vnd.jupyter.widget-view+json": {
       "model_id": "e789b4ade6bf403b9705c0e5fae0a5ec",
       "version_major": 2,
       "version_minor": 0
      },
      "text/plain": [
       "Context window progress for file: -fVOpScdSPg.mp4:   0%|          | 0/8 [00:00<?, ?it/s]"
      ]
     },
     "metadata": {},
     "output_type": "display_data"
    },
    {
     "data": {
      "application/vnd.jupyter.widget-view+json": {
       "model_id": "3c419702843b4c5283bacc9be520694b",
       "version_major": 2,
       "version_minor": 0
      },
      "text/plain": [
       "Context window progress for file: vPoctINEXNo.mp4:   0%|          | 0/8 [00:00<?, ?it/s]"
      ]
     },
     "metadata": {},
     "output_type": "display_data"
    },
    {
     "data": {
      "application/vnd.jupyter.widget-view+json": {
       "model_id": "5eea2b94a9d44615a250393e8c6a255a",
       "version_major": 2,
       "version_minor": 0
      },
      "text/plain": [
       "File progress for folder: crossing river:   0%|          | 0/3 [00:00<?, ?it/s]"
      ]
     },
     "metadata": {},
     "output_type": "display_data"
    },
    {
     "data": {
      "application/vnd.jupyter.widget-view+json": {
       "model_id": "92eecc506a194f5496b1128f3335b9ad",
       "version_major": 2,
       "version_minor": 0
      },
      "text/plain": [
       "Context window progress for file: SUV2kon5_fg.mp4:   0%|          | 0/8 [00:00<?, ?it/s]"
      ]
     },
     "metadata": {},
     "output_type": "display_data"
    },
    {
     "data": {
      "application/vnd.jupyter.widget-view+json": {
       "model_id": "d5f2b8526f424aa0815b5c29fd7de09a",
       "version_major": 2,
       "version_minor": 0
      },
      "text/plain": [
       "Context window progress for file: RjgUTxXkypo.mp4:   0%|          | 0/8 [00:00<?, ?it/s]"
      ]
     },
     "metadata": {},
     "output_type": "display_data"
    },
    {
     "data": {
      "application/vnd.jupyter.widget-view+json": {
       "model_id": "0ccc4bb448a34c5bb077443959904c5f",
       "version_major": 2,
       "version_minor": 0
      },
      "text/plain": [
       "Context window progress for file: B3846WIhzWA.mp4:   0%|          | 0/8 [00:00<?, ?it/s]"
      ]
     },
     "metadata": {},
     "output_type": "display_data"
    },
    {
     "data": {
      "application/vnd.jupyter.widget-view+json": {
       "model_id": "763c2d8551784611a5e338eca63e5b37",
       "version_major": 2,
       "version_minor": 0
      },
      "text/plain": [
       "File progress for folder: tapping guitar:   0%|          | 0/3 [00:00<?, ?it/s]"
      ]
     },
     "metadata": {},
     "output_type": "display_data"
    },
    {
     "data": {
      "application/vnd.jupyter.widget-view+json": {
       "model_id": "88cc1078ace34b4583de1ddb96dfa6b3",
       "version_major": 2,
       "version_minor": 0
      },
      "text/plain": [
       "Context window progress for file: eM0FUowh19c.mp4:   0%|          | 0/8 [00:00<?, ?it/s]"
      ]
     },
     "metadata": {},
     "output_type": "display_data"
    },
    {
     "data": {
      "application/vnd.jupyter.widget-view+json": {
       "model_id": "4ce5c1190e2244b3b70c3c0de5bb9f8f",
       "version_major": 2,
       "version_minor": 0
      },
      "text/plain": [
       "Context window progress for file: WqHGzJp_9Vw.mp4:   0%|          | 0/8 [00:00<?, ?it/s]"
      ]
     },
     "metadata": {},
     "output_type": "display_data"
    },
    {
     "data": {
      "application/vnd.jupyter.widget-view+json": {
       "model_id": "1747fa9696f44521afff8345950212a4",
       "version_major": 2,
       "version_minor": 0
      },
      "text/plain": [
       "Context window progress for file: CJsYPqkGmI4.mp4:   0%|          | 0/8 [00:00<?, ?it/s]"
      ]
     },
     "metadata": {},
     "output_type": "display_data"
    },
    {
     "data": {
      "application/vnd.jupyter.widget-view+json": {
       "model_id": "21fb41f9264a40adb24ec919f3bc9b50",
       "version_major": 2,
       "version_minor": 0
      },
      "text/plain": [
       "File progress for folder: knitting:   0%|          | 0/3 [00:00<?, ?it/s]"
      ]
     },
     "metadata": {},
     "output_type": "display_data"
    },
    {
     "data": {
      "application/vnd.jupyter.widget-view+json": {
       "model_id": "57536d6335844b2d980015d13575a779",
       "version_major": 2,
       "version_minor": 0
      },
      "text/plain": [
       "Context window progress for file: JWGU40tAjf4.mp4:   0%|          | 0/8 [00:00<?, ?it/s]"
      ]
     },
     "metadata": {},
     "output_type": "display_data"
    },
    {
     "data": {
      "application/vnd.jupyter.widget-view+json": {
       "model_id": "8a20f960aad74ce0ab7fc48ec4d5dd78",
       "version_major": 2,
       "version_minor": 0
      },
      "text/plain": [
       "Context window progress for file: JSikWugeuzM.mp4:   0%|          | 0/8 [00:00<?, ?it/s]"
      ]
     },
     "metadata": {},
     "output_type": "display_data"
    },
    {
     "data": {
      "application/vnd.jupyter.widget-view+json": {
       "model_id": "61614073e4d84e719a09ded2dbbd0ccd",
       "version_major": 2,
       "version_minor": 0
      },
      "text/plain": [
       "Context window progress for file: dzFoVYEHGV8.mp4:   0%|          | 0/8 [00:00<?, ?it/s]"
      ]
     },
     "metadata": {},
     "output_type": "display_data"
    },
    {
     "data": {
      "application/vnd.jupyter.widget-view+json": {
       "model_id": "d19bf0fae7064aa8995317ab1b1b4137",
       "version_major": 2,
       "version_minor": 0
      },
      "text/plain": [
       "File progress for folder: cutting nails:   0%|          | 0/3 [00:00<?, ?it/s]"
      ]
     },
     "metadata": {},
     "output_type": "display_data"
    },
    {
     "data": {
      "application/vnd.jupyter.widget-view+json": {
       "model_id": "a97194a7e3a54e38bfbb399d0b8987d8",
       "version_major": 2,
       "version_minor": 0
      },
      "text/plain": [
       "Context window progress for file: 7z07leZC1XA.mp4:   0%|          | 0/8 [00:00<?, ?it/s]"
      ]
     },
     "metadata": {},
     "output_type": "display_data"
    },
    {
     "data": {
      "application/vnd.jupyter.widget-view+json": {
       "model_id": "679b99d706d94fbe8619c79b65690d2c",
       "version_major": 2,
       "version_minor": 0
      },
      "text/plain": [
       "Context window progress for file: Z2RdFZBl5ek.mp4:   0%|          | 0/8 [00:00<?, ?it/s]"
      ]
     },
     "metadata": {},
     "output_type": "display_data"
    },
    {
     "data": {
      "application/vnd.jupyter.widget-view+json": {
       "model_id": "96cd590a95c04cc780ea170dd3c57144",
       "version_major": 2,
       "version_minor": 0
      },
      "text/plain": [
       "Context window progress for file: LOtfctMTWG0.mp4:   0%|          | 0/8 [00:00<?, ?it/s]"
      ]
     },
     "metadata": {},
     "output_type": "display_data"
    },
    {
     "data": {
      "application/vnd.jupyter.widget-view+json": {
       "model_id": "6b65800992964d9481b5ab0ddbe90a09",
       "version_major": 2,
       "version_minor": 0
      },
      "text/plain": [
       "File progress for folder: crying:   0%|          | 0/3 [00:00<?, ?it/s]"
      ]
     },
     "metadata": {},
     "output_type": "display_data"
    },
    {
     "data": {
      "application/vnd.jupyter.widget-view+json": {
       "model_id": "2fde46b7b4814a9e8534d335cc4531da",
       "version_major": 2,
       "version_minor": 0
      },
      "text/plain": [
       "Context window progress for file: sYrFQzmlE60.mp4:   0%|          | 0/8 [00:00<?, ?it/s]"
      ]
     },
     "metadata": {},
     "output_type": "display_data"
    },
    {
     "data": {
      "application/vnd.jupyter.widget-view+json": {
       "model_id": "23da9b98787a4d3096df4d8b7f85a11c",
       "version_major": 2,
       "version_minor": 0
      },
      "text/plain": [
       "Context window progress for file: aAzdaoMq4K4.mp4:   0%|          | 0/8 [00:00<?, ?it/s]"
      ]
     },
     "metadata": {},
     "output_type": "display_data"
    },
    {
     "data": {
      "application/vnd.jupyter.widget-view+json": {
       "model_id": "af8a4808be924d83b57b3bfd00824f63",
       "version_major": 2,
       "version_minor": 0
      },
      "text/plain": [
       "Context window progress for file: TmsZYVhiCNU.mp4:   0%|          | 0/8 [00:00<?, ?it/s]"
      ]
     },
     "metadata": {},
     "output_type": "display_data"
    },
    {
     "data": {
      "application/vnd.jupyter.widget-view+json": {
       "model_id": "c924c23d4e3e4a8c855f0dc8aed18368",
       "version_major": 2,
       "version_minor": 0
      },
      "text/plain": [
       "File progress for folder: texting:   0%|          | 0/3 [00:00<?, ?it/s]"
      ]
     },
     "metadata": {},
     "output_type": "display_data"
    },
    {
     "data": {
      "application/vnd.jupyter.widget-view+json": {
       "model_id": "494ec8ae2cff45cc87c6e9494466c298",
       "version_major": 2,
       "version_minor": 0
      },
      "text/plain": [
       "Context window progress for file: dldTdxoepyo.mp4:   0%|          | 0/8 [00:00<?, ?it/s]"
      ]
     },
     "metadata": {},
     "output_type": "display_data"
    },
    {
     "data": {
      "application/vnd.jupyter.widget-view+json": {
       "model_id": "ec00d8b888fd45b1ac098cb228a70eea",
       "version_major": 2,
       "version_minor": 0
      },
      "text/plain": [
       "Context window progress for file: paQfDDs5ctU.mp4:   0%|          | 0/8 [00:00<?, ?it/s]"
      ]
     },
     "metadata": {},
     "output_type": "display_data"
    },
    {
     "data": {
      "application/vnd.jupyter.widget-view+json": {
       "model_id": "7227673ed15544a8987f0efe2d5da185",
       "version_major": 2,
       "version_minor": 0
      },
      "text/plain": [
       "Context window progress for file: WL_2iBwZOYY.mp4:   0%|          | 0/8 [00:00<?, ?it/s]"
      ]
     },
     "metadata": {},
     "output_type": "display_data"
    },
    {
     "data": {
      "application/vnd.jupyter.widget-view+json": {
       "model_id": "7d11069f141041939b0021161539dd7b",
       "version_major": 2,
       "version_minor": 0
      },
      "text/plain": [
       "File progress for folder: tasting beer:   0%|          | 0/3 [00:00<?, ?it/s]"
      ]
     },
     "metadata": {},
     "output_type": "display_data"
    },
    {
     "data": {
      "application/vnd.jupyter.widget-view+json": {
       "model_id": "dd8b86072cc34f7db3986211c2a9edc4",
       "version_major": 2,
       "version_minor": 0
      },
      "text/plain": [
       "Context window progress for file: aPCI5eQddVM.mp4:   0%|          | 0/8 [00:00<?, ?it/s]"
      ]
     },
     "metadata": {},
     "output_type": "display_data"
    },
    {
     "data": {
      "application/vnd.jupyter.widget-view+json": {
       "model_id": "a1e024c82d3640bdb428234133135dfa",
       "version_major": 2,
       "version_minor": 0
      },
      "text/plain": [
       "Context window progress for file: waueQpRJIyU.mp4:   0%|          | 0/8 [00:00<?, ?it/s]"
      ]
     },
     "metadata": {},
     "output_type": "display_data"
    },
    {
     "data": {
      "application/vnd.jupyter.widget-view+json": {
       "model_id": "b1f3ec2f800a47179583f2c5223c2be0",
       "version_major": 2,
       "version_minor": 0
      },
      "text/plain": [
       "Context window progress for file: YgH_PBKdE2E.mp4:   0%|          | 0/8 [00:00<?, ?it/s]"
      ]
     },
     "metadata": {},
     "output_type": "display_data"
    },
    {
     "data": {
      "application/vnd.jupyter.widget-view+json": {
       "model_id": "6a6c492bcf5440cda0c301675961b68c",
       "version_major": 2,
       "version_minor": 0
      },
      "text/plain": [
       "File progress for folder: golf chipping:   0%|          | 0/3 [00:00<?, ?it/s]"
      ]
     },
     "metadata": {},
     "output_type": "display_data"
    },
    {
     "data": {
      "application/vnd.jupyter.widget-view+json": {
       "model_id": "02e3d69de238482a99988a245dbc8166",
       "version_major": 2,
       "version_minor": 0
      },
      "text/plain": [
       "Context window progress for file: vKThgKu6UMQ.mp4:   0%|          | 0/8 [00:00<?, ?it/s]"
      ]
     },
     "metadata": {},
     "output_type": "display_data"
    },
    {
     "data": {
      "application/vnd.jupyter.widget-view+json": {
       "model_id": "7de8ae7537cb4e8cbae194adec2cb897",
       "version_major": 2,
       "version_minor": 0
      },
      "text/plain": [
       "Context window progress for file: qCBglmpqPGI.mp4:   0%|          | 0/8 [00:00<?, ?it/s]"
      ]
     },
     "metadata": {},
     "output_type": "display_data"
    },
    {
     "data": {
      "application/vnd.jupyter.widget-view+json": {
       "model_id": "ca56b77a955f487b83b9673c95a18c40",
       "version_major": 2,
       "version_minor": 0
      },
      "text/plain": [
       "Context window progress for file: egJX7rkZvyA.mp4:   0%|          | 0/8 [00:00<?, ?it/s]"
      ]
     },
     "metadata": {},
     "output_type": "display_data"
    },
    {
     "data": {
      "application/vnd.jupyter.widget-view+json": {
       "model_id": "7ad45fbf015e41b599481c4f7fd1c389",
       "version_major": 2,
       "version_minor": 0
      },
      "text/plain": [
       "File progress for folder: bobsledding:   0%|          | 0/3 [00:00<?, ?it/s]"
      ]
     },
     "metadata": {},
     "output_type": "display_data"
    },
    {
     "data": {
      "application/vnd.jupyter.widget-view+json": {
       "model_id": "278edb08d6c2430daf962ef5f2e0b78e",
       "version_major": 2,
       "version_minor": 0
      },
      "text/plain": [
       "Context window progress for file: ntxdEf-eiRI.mp4:   0%|          | 0/8 [00:00<?, ?it/s]"
      ]
     },
     "metadata": {},
     "output_type": "display_data"
    },
    {
     "data": {
      "application/vnd.jupyter.widget-view+json": {
       "model_id": "bb6dbf5d560649f4b5a3f0f6e8f6206c",
       "version_major": 2,
       "version_minor": 0
      },
      "text/plain": [
       "Context window progress for file: B31RsaPw9-A.mp4:   0%|          | 0/8 [00:00<?, ?it/s]"
      ]
     },
     "metadata": {},
     "output_type": "display_data"
    },
    {
     "data": {
      "application/vnd.jupyter.widget-view+json": {
       "model_id": "cc8c574cd792463ca2b00729198b09fa",
       "version_major": 2,
       "version_minor": 0
      },
      "text/plain": [
       "Context window progress for file: FJlq-9rT0JU.mp4:   0%|          | 0/8 [00:00<?, ?it/s]"
      ]
     },
     "metadata": {},
     "output_type": "display_data"
    },
    {
     "data": {
      "application/vnd.jupyter.widget-view+json": {
       "model_id": "be2dda4490d743039e96ea83ff9df231",
       "version_major": 2,
       "version_minor": 0
      },
      "text/plain": [
       "File progress for folder: folding clothes:   0%|          | 0/3 [00:00<?, ?it/s]"
      ]
     },
     "metadata": {},
     "output_type": "display_data"
    },
    {
     "data": {
      "application/vnd.jupyter.widget-view+json": {
       "model_id": "c884889271b448df9f3c9733c31a8580",
       "version_major": 2,
       "version_minor": 0
      },
      "text/plain": [
       "Context window progress for file: mvdTa7uCayc.mp4:   0%|          | 0/8 [00:00<?, ?it/s]"
      ]
     },
     "metadata": {},
     "output_type": "display_data"
    },
    {
     "data": {
      "application/vnd.jupyter.widget-view+json": {
       "model_id": "28be67fafb154774ac34018fcf87aef1",
       "version_major": 2,
       "version_minor": 0
      },
      "text/plain": [
       "Context window progress for file: 93M5vRuJP0c.mp4:   0%|          | 0/8 [00:00<?, ?it/s]"
      ]
     },
     "metadata": {},
     "output_type": "display_data"
    },
    {
     "data": {
      "application/vnd.jupyter.widget-view+json": {
       "model_id": "278e678d32c0430c83d6b5c27670c500",
       "version_major": 2,
       "version_minor": 0
      },
      "text/plain": [
       "Context window progress for file: mt6ZJo5GEvM.mp4:   0%|          | 0/8 [00:00<?, ?it/s]"
      ]
     },
     "metadata": {},
     "output_type": "display_data"
    },
    {
     "data": {
      "application/vnd.jupyter.widget-view+json": {
       "model_id": "48bff3e4b49949a9b8dc17ccf27cf96d",
       "version_major": 2,
       "version_minor": 0
      },
      "text/plain": [
       "File progress for folder: archery:   0%|          | 0/3 [00:00<?, ?it/s]"
      ]
     },
     "metadata": {},
     "output_type": "display_data"
    },
    {
     "data": {
      "application/vnd.jupyter.widget-view+json": {
       "model_id": "74ca8ea7f89d48ca8d3a7587fd375ded",
       "version_major": 2,
       "version_minor": 0
      },
      "text/plain": [
       "Context window progress for file: 1ccBq_oh5Rs.mp4:   0%|          | 0/8 [00:00<?, ?it/s]"
      ]
     },
     "metadata": {},
     "output_type": "display_data"
    },
    {
     "data": {
      "application/vnd.jupyter.widget-view+json": {
       "model_id": "0f97bf84e7c0494a8becbe61a643fb69",
       "version_major": 2,
       "version_minor": 0
      },
      "text/plain": [
       "Context window progress for file: _UZzwGw2Wf4.mp4:   0%|          | 0/8 [00:00<?, ?it/s]"
      ]
     },
     "metadata": {},
     "output_type": "display_data"
    },
    {
     "data": {
      "application/vnd.jupyter.widget-view+json": {
       "model_id": "ab7481a7c59c43e3999fe339668847e0",
       "version_major": 2,
       "version_minor": 0
      },
      "text/plain": [
       "Context window progress for file: qB6k8thuOPE.mp4:   0%|          | 0/8 [00:00<?, ?it/s]"
      ]
     },
     "metadata": {},
     "output_type": "display_data"
    },
    {
     "data": {
      "application/vnd.jupyter.widget-view+json": {
       "model_id": "a543591985da4d70990408caf6ab8b10",
       "version_major": 2,
       "version_minor": 0
      },
      "text/plain": [
       "File progress for folder: answering questions:   0%|          | 0/3 [00:00<?, ?it/s]"
      ]
     },
     "metadata": {},
     "output_type": "display_data"
    },
    {
     "data": {
      "application/vnd.jupyter.widget-view+json": {
       "model_id": "ed87896862c5430a88d2ee5525cb48d2",
       "version_major": 2,
       "version_minor": 0
      },
      "text/plain": [
       "Context window progress for file: Jt14GR8BnKw.mp4:   0%|          | 0/8 [00:00<?, ?it/s]"
      ]
     },
     "metadata": {},
     "output_type": "display_data"
    },
    {
     "data": {
      "application/vnd.jupyter.widget-view+json": {
       "model_id": "ada001423b2641d78ba48c213d1a010b",
       "version_major": 2,
       "version_minor": 0
      },
      "text/plain": [
       "Context window progress for file: AqVyP5BkEsA.mp4:   0%|          | 0/8 [00:00<?, ?it/s]"
      ]
     },
     "metadata": {},
     "output_type": "display_data"
    },
    {
     "data": {
      "application/vnd.jupyter.widget-view+json": {
       "model_id": "60d39ca10feb4f57b5aed33ffb7e76d3",
       "version_major": 2,
       "version_minor": 0
      },
      "text/plain": [
       "Context window progress for file: z6HJ-dPQ_6M.mp4:   0%|          | 0/8 [00:00<?, ?it/s]"
      ]
     },
     "metadata": {},
     "output_type": "display_data"
    },
    {
     "data": {
      "application/vnd.jupyter.widget-view+json": {
       "model_id": "1b73708000624ece92f346ee5be5cb9e",
       "version_major": 2,
       "version_minor": 0
      },
      "text/plain": [
       "File progress for folder: making bed:   0%|          | 0/3 [00:00<?, ?it/s]"
      ]
     },
     "metadata": {},
     "output_type": "display_data"
    },
    {
     "data": {
      "application/vnd.jupyter.widget-view+json": {
       "model_id": "e0f81fcabf6c4d07bc47ecd11ae822c0",
       "version_major": 2,
       "version_minor": 0
      },
      "text/plain": [
       "Context window progress for file: 3wHaxp4tAvE.mp4:   0%|          | 0/8 [00:00<?, ?it/s]"
      ]
     },
     "metadata": {},
     "output_type": "display_data"
    },
    {
     "data": {
      "application/vnd.jupyter.widget-view+json": {
       "model_id": "7b061632acff42dd9237e82a5a89585d",
       "version_major": 2,
       "version_minor": 0
      },
      "text/plain": [
       "Context window progress for file: 84YdIpJp618.mp4:   0%|          | 0/8 [00:00<?, ?it/s]"
      ]
     },
     "metadata": {},
     "output_type": "display_data"
    },
    {
     "data": {
      "application/vnd.jupyter.widget-view+json": {
       "model_id": "c2818e6417554a5da8429e644191d552",
       "version_major": 2,
       "version_minor": 0
      },
      "text/plain": [
       "Context window progress for file: T4Kr78S3-Lg.mp4:   0%|          | 0/8 [00:00<?, ?it/s]"
      ]
     },
     "metadata": {},
     "output_type": "display_data"
    },
    {
     "data": {
      "application/vnd.jupyter.widget-view+json": {
       "model_id": "6aff34c980c9403584678fd566cde909",
       "version_major": 2,
       "version_minor": 0
      },
      "text/plain": [
       "File progress for folder: spraying:   0%|          | 0/3 [00:00<?, ?it/s]"
      ]
     },
     "metadata": {},
     "output_type": "display_data"
    },
    {
     "data": {
      "application/vnd.jupyter.widget-view+json": {
       "model_id": "3f5c48d2658545269858a25276e7c8dc",
       "version_major": 2,
       "version_minor": 0
      },
      "text/plain": [
       "Context window progress for file: SMJMQgH4Bf4.mp4:   0%|          | 0/8 [00:00<?, ?it/s]"
      ]
     },
     "metadata": {},
     "output_type": "display_data"
    },
    {
     "data": {
      "application/vnd.jupyter.widget-view+json": {
       "model_id": "651f274a17944eb785afa0b05a182e22",
       "version_major": 2,
       "version_minor": 0
      },
      "text/plain": [
       "Context window progress for file: uvy_Hgldbiw.mp4:   0%|          | 0/8 [00:00<?, ?it/s]"
      ]
     },
     "metadata": {},
     "output_type": "display_data"
    },
    {
     "data": {
      "application/vnd.jupyter.widget-view+json": {
       "model_id": "198766bf25604cfc8f7a42ab56a70b7c",
       "version_major": 2,
       "version_minor": 0
      },
      "text/plain": [
       "Context window progress for file: wz2A3_--OBM.mp4:   0%|          | 0/8 [00:00<?, ?it/s]"
      ]
     },
     "metadata": {},
     "output_type": "display_data"
    },
    {
     "data": {
      "application/vnd.jupyter.widget-view+json": {
       "model_id": "9432e8481b8e404dab121bb64b2a3331",
       "version_major": 2,
       "version_minor": 0
      },
      "text/plain": [
       "File progress for folder: playing saxophone:   0%|          | 0/3 [00:00<?, ?it/s]"
      ]
     },
     "metadata": {},
     "output_type": "display_data"
    },
    {
     "data": {
      "application/vnd.jupyter.widget-view+json": {
       "model_id": "0cf9ebc2541b41e0b1c8574b6ace94d7",
       "version_major": 2,
       "version_minor": 0
      },
      "text/plain": [
       "Context window progress for file: yp75cxgxC1g.mp4:   0%|          | 0/8 [00:00<?, ?it/s]"
      ]
     },
     "metadata": {},
     "output_type": "display_data"
    },
    {
     "data": {
      "application/vnd.jupyter.widget-view+json": {
       "model_id": "ee8935e25bdf4bfab714e04e93ef0768",
       "version_major": 2,
       "version_minor": 0
      },
      "text/plain": [
       "Context window progress for file: NVRsxRMAs3E.mp4:   0%|          | 0/8 [00:00<?, ?it/s]"
      ]
     },
     "metadata": {},
     "output_type": "display_data"
    },
    {
     "data": {
      "application/vnd.jupyter.widget-view+json": {
       "model_id": "87dfcae2883a4d028a011eb0537df948",
       "version_major": 2,
       "version_minor": 0
      },
      "text/plain": [
       "Context window progress for file: kd26x5fL46U.mp4:   0%|          | 0/8 [00:00<?, ?it/s]"
      ]
     },
     "metadata": {},
     "output_type": "display_data"
    },
    {
     "data": {
      "application/vnd.jupyter.widget-view+json": {
       "model_id": "27290a1174354033ab7927930a1fd6ae",
       "version_major": 2,
       "version_minor": 0
      },
      "text/plain": [
       "File progress for folder: setting table:   0%|          | 0/3 [00:00<?, ?it/s]"
      ]
     },
     "metadata": {},
     "output_type": "display_data"
    },
    {
     "data": {
      "application/vnd.jupyter.widget-view+json": {
       "model_id": "f107f97ef32b429587959b8980f81226",
       "version_major": 2,
       "version_minor": 0
      },
      "text/plain": [
       "Context window progress for file: It1LMxlbdc8.mp4:   0%|          | 0/8 [00:00<?, ?it/s]"
      ]
     },
     "metadata": {},
     "output_type": "display_data"
    },
    {
     "data": {
      "application/vnd.jupyter.widget-view+json": {
       "model_id": "8f436c21a79b4923bedea6c691b14937",
       "version_major": 2,
       "version_minor": 0
      },
      "text/plain": [
       "Context window progress for file: _D3-1HAxiBU.mp4:   0%|          | 0/8 [00:00<?, ?it/s]"
      ]
     },
     "metadata": {},
     "output_type": "display_data"
    },
    {
     "data": {
      "application/vnd.jupyter.widget-view+json": {
       "model_id": "c48eb0f0771b4e979ad3ddec36f3675e",
       "version_major": 2,
       "version_minor": 0
      },
      "text/plain": [
       "Context window progress for file: iIiNA95QWXY.mp4:   0%|          | 0/8 [00:00<?, ?it/s]"
      ]
     },
     "metadata": {},
     "output_type": "display_data"
    },
    {
     "data": {
      "application/vnd.jupyter.widget-view+json": {
       "model_id": "93cec71d615a43dfbdd423ad8879dda5",
       "version_major": 2,
       "version_minor": 0
      },
      "text/plain": [
       "File progress for folder: hammer throw:   0%|          | 0/3 [00:00<?, ?it/s]"
      ]
     },
     "metadata": {},
     "output_type": "display_data"
    },
    {
     "data": {
      "application/vnd.jupyter.widget-view+json": {
       "model_id": "546440d02b474b94a9ec04e2d5869828",
       "version_major": 2,
       "version_minor": 0
      },
      "text/plain": [
       "Context window progress for file: mjEq8rMNVAU.mp4:   0%|          | 0/8 [00:00<?, ?it/s]"
      ]
     },
     "metadata": {},
     "output_type": "display_data"
    },
    {
     "data": {
      "application/vnd.jupyter.widget-view+json": {
       "model_id": "a7ece1823179497a8891c706df8862a8",
       "version_major": 2,
       "version_minor": 0
      },
      "text/plain": [
       "Context window progress for file: QCJNRBaOegg.mp4:   0%|          | 0/8 [00:00<?, ?it/s]"
      ]
     },
     "metadata": {},
     "output_type": "display_data"
    },
    {
     "data": {
      "application/vnd.jupyter.widget-view+json": {
       "model_id": "5efda3030a1c48e0b460c1feb49f9aa9",
       "version_major": 2,
       "version_minor": 0
      },
      "text/plain": [
       "Context window progress for file: iHF4ME7heSM.mp4:   0%|          | 0/8 [00:00<?, ?it/s]"
      ]
     },
     "metadata": {},
     "output_type": "display_data"
    },
    {
     "data": {
      "application/vnd.jupyter.widget-view+json": {
       "model_id": "d0b9e928d47b47769bcc70db2b066e67",
       "version_major": 2,
       "version_minor": 0
      },
      "text/plain": [
       "File progress for folder: playing harp:   0%|          | 0/3 [00:00<?, ?it/s]"
      ]
     },
     "metadata": {},
     "output_type": "display_data"
    },
    {
     "data": {
      "application/vnd.jupyter.widget-view+json": {
       "model_id": "d7153b0b3db5421db3fa7300d9fcc24d",
       "version_major": 2,
       "version_minor": 0
      },
      "text/plain": [
       "Context window progress for file: BNxCrW1drg0.mp4:   0%|          | 0/8 [00:00<?, ?it/s]"
      ]
     },
     "metadata": {},
     "output_type": "display_data"
    },
    {
     "data": {
      "application/vnd.jupyter.widget-view+json": {
       "model_id": "4f77f6ea468341e399caa2b1bf22378d",
       "version_major": 2,
       "version_minor": 0
      },
      "text/plain": [
       "Context window progress for file: qU3JeaNTwVA.mp4:   0%|          | 0/8 [00:00<?, ?it/s]"
      ]
     },
     "metadata": {},
     "output_type": "display_data"
    },
    {
     "data": {
      "application/vnd.jupyter.widget-view+json": {
       "model_id": "5f9d8bbf30b64d0a8edf3ce74b447e68",
       "version_major": 2,
       "version_minor": 0
      },
      "text/plain": [
       "Context window progress for file: p547Ow_iZk4.mp4:   0%|          | 0/8 [00:00<?, ?it/s]"
      ]
     },
     "metadata": {},
     "output_type": "display_data"
    },
    {
     "data": {
      "application/vnd.jupyter.widget-view+json": {
       "model_id": "73401450bbde462bbd2e7fbbc9f218f9",
       "version_major": 2,
       "version_minor": 0
      },
      "text/plain": [
       "File progress for folder: cooking chicken:   0%|          | 0/3 [00:00<?, ?it/s]"
      ]
     },
     "metadata": {},
     "output_type": "display_data"
    },
    {
     "data": {
      "application/vnd.jupyter.widget-view+json": {
       "model_id": "1687fa63e99e4e34903a8436ada30a88",
       "version_major": 2,
       "version_minor": 0
      },
      "text/plain": [
       "Context window progress for file: SILIbT1J_QM.mp4:   0%|          | 0/8 [00:00<?, ?it/s]"
      ]
     },
     "metadata": {},
     "output_type": "display_data"
    },
    {
     "data": {
      "application/vnd.jupyter.widget-view+json": {
       "model_id": "34db8692b7194e998ddaf62ae7067042",
       "version_major": 2,
       "version_minor": 0
      },
      "text/plain": [
       "Context window progress for file: xajfJ93QoGc.mp4:   0%|          | 0/8 [00:00<?, ?it/s]"
      ]
     },
     "metadata": {},
     "output_type": "display_data"
    },
    {
     "data": {
      "application/vnd.jupyter.widget-view+json": {
       "model_id": "cd8a3c27fce243b599ddc9b6ac1f136b",
       "version_major": 2,
       "version_minor": 0
      },
      "text/plain": [
       "Context window progress for file: IFsYSZhf7xY.mp4:   0%|          | 0/8 [00:00<?, ?it/s]"
      ]
     },
     "metadata": {},
     "output_type": "display_data"
    },
    {
     "data": {
      "application/vnd.jupyter.widget-view+json": {
       "model_id": "61ac9da5fc3f40d7a4958b4b2b38e58b",
       "version_major": 2,
       "version_minor": 0
      },
      "text/plain": [
       "File progress for folder: grooming horse:   0%|          | 0/3 [00:00<?, ?it/s]"
      ]
     },
     "metadata": {},
     "output_type": "display_data"
    },
    {
     "data": {
      "application/vnd.jupyter.widget-view+json": {
       "model_id": "0c07c92a79074a6c80ecf5431323d3b7",
       "version_major": 2,
       "version_minor": 0
      },
      "text/plain": [
       "Context window progress for file: qRmJEe3yB54.mp4:   0%|          | 0/8 [00:00<?, ?it/s]"
      ]
     },
     "metadata": {},
     "output_type": "display_data"
    },
    {
     "data": {
      "application/vnd.jupyter.widget-view+json": {
       "model_id": "a02cf4c245f848b391f2c6fb2bdda5de",
       "version_major": 2,
       "version_minor": 0
      },
      "text/plain": [
       "Context window progress for file: HCutc1vB4uw.mp4:   0%|          | 0/8 [00:00<?, ?it/s]"
      ]
     },
     "metadata": {},
     "output_type": "display_data"
    },
    {
     "data": {
      "application/vnd.jupyter.widget-view+json": {
       "model_id": "bed8927d82b1471891b507902248d42a",
       "version_major": 2,
       "version_minor": 0
      },
      "text/plain": [
       "Context window progress for file: gbefeSFrd4U.mp4:   0%|          | 0/8 [00:00<?, ?it/s]"
      ]
     },
     "metadata": {},
     "output_type": "display_data"
    },
    {
     "data": {
      "application/vnd.jupyter.widget-view+json": {
       "model_id": "e7bba80c3d0a4b31984281afb27c84ed",
       "version_major": 2,
       "version_minor": 0
      },
      "text/plain": [
       "File progress for folder: scuba diving:   0%|          | 0/3 [00:00<?, ?it/s]"
      ]
     },
     "metadata": {},
     "output_type": "display_data"
    },
    {
     "data": {
      "application/vnd.jupyter.widget-view+json": {
       "model_id": "fec31d33988f4763854814c71deb2a7e",
       "version_major": 2,
       "version_minor": 0
      },
      "text/plain": [
       "Context window progress for file: FZFGYZ1MVWk.mp4:   0%|          | 0/8 [00:00<?, ?it/s]"
      ]
     },
     "metadata": {},
     "output_type": "display_data"
    },
    {
     "data": {
      "application/vnd.jupyter.widget-view+json": {
       "model_id": "564f3937e4b9483195ebb2b0a5e5de32",
       "version_major": 2,
       "version_minor": 0
      },
      "text/plain": [
       "Context window progress for file: 8pBehjaDzGM.mp4:   0%|          | 0/8 [00:00<?, ?it/s]"
      ]
     },
     "metadata": {},
     "output_type": "display_data"
    },
    {
     "data": {
      "application/vnd.jupyter.widget-view+json": {
       "model_id": "c3b6df54ca094623be9d05bc6cf0cea1",
       "version_major": 2,
       "version_minor": 0
      },
      "text/plain": [
       "Context window progress for file: 9XcYIkwXtvo.mp4:   0%|          | 0/8 [00:00<?, ?it/s]"
      ]
     },
     "metadata": {},
     "output_type": "display_data"
    },
    {
     "data": {
      "application/vnd.jupyter.widget-view+json": {
       "model_id": "975c8fd13eac4dafa036eb00c38a3277",
       "version_major": 2,
       "version_minor": 0
      },
      "text/plain": [
       "File progress for folder: taking a shower:   0%|          | 0/3 [00:00<?, ?it/s]"
      ]
     },
     "metadata": {},
     "output_type": "display_data"
    },
    {
     "data": {
      "application/vnd.jupyter.widget-view+json": {
       "model_id": "5fc55bf2e6524e228d0f49ee10a0dd87",
       "version_major": 2,
       "version_minor": 0
      },
      "text/plain": [
       "Context window progress for file: U-5QC_ezpLE.mp4:   0%|          | 0/8 [00:00<?, ?it/s]"
      ]
     },
     "metadata": {},
     "output_type": "display_data"
    },
    {
     "data": {
      "application/vnd.jupyter.widget-view+json": {
       "model_id": "aca0f06457314318a8866f1d14ef3950",
       "version_major": 2,
       "version_minor": 0
      },
      "text/plain": [
       "Context window progress for file: uDOItRR7SHU.mp4:   0%|          | 0/8 [00:00<?, ?it/s]"
      ]
     },
     "metadata": {},
     "output_type": "display_data"
    },
    {
     "data": {
      "application/vnd.jupyter.widget-view+json": {
       "model_id": "782efffb826a49b4b6a150b66cd39957",
       "version_major": 2,
       "version_minor": 0
      },
      "text/plain": [
       "Context window progress for file: Z7hqRzsVDlo.mp4:   0%|          | 0/8 [00:00<?, ?it/s]"
      ]
     },
     "metadata": {},
     "output_type": "display_data"
    },
    {
     "data": {
      "application/vnd.jupyter.widget-view+json": {
       "model_id": "c0cd3ab032df460cb5a1f227cd46136e",
       "version_major": 2,
       "version_minor": 0
      },
      "text/plain": [
       "File progress for folder: contact juggling:   0%|          | 0/3 [00:00<?, ?it/s]"
      ]
     },
     "metadata": {},
     "output_type": "display_data"
    },
    {
     "data": {
      "application/vnd.jupyter.widget-view+json": {
       "model_id": "c3fd0d4991d94336be6ae906628b5ab4",
       "version_major": 2,
       "version_minor": 0
      },
      "text/plain": [
       "Context window progress for file: uvEo2EW96Hc.mp4:   0%|          | 0/8 [00:00<?, ?it/s]"
      ]
     },
     "metadata": {},
     "output_type": "display_data"
    },
    {
     "data": {
      "application/vnd.jupyter.widget-view+json": {
       "model_id": "1998383cec8046fdaa270879d45034bd",
       "version_major": 2,
       "version_minor": 0
      },
      "text/plain": [
       "Context window progress for file: FTvwjTbsUF8.mp4:   0%|          | 0/8 [00:00<?, ?it/s]"
      ]
     },
     "metadata": {},
     "output_type": "display_data"
    },
    {
     "data": {
      "application/vnd.jupyter.widget-view+json": {
       "model_id": "8b1fe70ee7174f1d8cf0bfdfaa132cee",
       "version_major": 2,
       "version_minor": 0
      },
      "text/plain": [
       "Context window progress for file: 2rROEOaLpcY.mp4:   0%|          | 0/8 [00:00<?, ?it/s]"
      ]
     },
     "metadata": {},
     "output_type": "display_data"
    },
    {
     "data": {
      "application/vnd.jupyter.widget-view+json": {
       "model_id": "1a2a2d2848094973b3ae854a646fd7e6",
       "version_major": 2,
       "version_minor": 0
      },
      "text/plain": [
       "File progress for folder: playing volleyball:   0%|          | 0/3 [00:00<?, ?it/s]"
      ]
     },
     "metadata": {},
     "output_type": "display_data"
    },
    {
     "data": {
      "application/vnd.jupyter.widget-view+json": {
       "model_id": "db5c7d161c8a4e63a8af554725d03c78",
       "version_major": 2,
       "version_minor": 0
      },
      "text/plain": [
       "Context window progress for file: 0j08lAA3FFo.mp4:   0%|          | 0/8 [00:00<?, ?it/s]"
      ]
     },
     "metadata": {},
     "output_type": "display_data"
    },
    {
     "data": {
      "application/vnd.jupyter.widget-view+json": {
       "model_id": "bbcc6e26d939486b87fa73f3b5470ff6",
       "version_major": 2,
       "version_minor": 0
      },
      "text/plain": [
       "Context window progress for file: P1A388vhJhw.mp4:   0%|          | 0/8 [00:00<?, ?it/s]"
      ]
     },
     "metadata": {},
     "output_type": "display_data"
    },
    {
     "data": {
      "application/vnd.jupyter.widget-view+json": {
       "model_id": "ad223487bb4141d6b6cfa88e75c2b1d6",
       "version_major": 2,
       "version_minor": 0
      },
      "text/plain": [
       "Context window progress for file: Ztaye3cniCM.mp4:   0%|          | 0/8 [00:00<?, ?it/s]"
      ]
     },
     "metadata": {},
     "output_type": "display_data"
    },
    {
     "data": {
      "application/vnd.jupyter.widget-view+json": {
       "model_id": "8fc5bb351fff4187becb5d002fc42ddd",
       "version_major": 2,
       "version_minor": 0
      },
      "text/plain": [
       "File progress for folder: doing laundry:   0%|          | 0/3 [00:00<?, ?it/s]"
      ]
     },
     "metadata": {},
     "output_type": "display_data"
    },
    {
     "data": {
      "application/vnd.jupyter.widget-view+json": {
       "model_id": "e2152486bd4141129a159265d2f6bb6a",
       "version_major": 2,
       "version_minor": 0
      },
      "text/plain": [
       "Context window progress for file: Y8m6jltCtC8.mp4:   0%|          | 0/8 [00:00<?, ?it/s]"
      ]
     },
     "metadata": {},
     "output_type": "display_data"
    },
    {
     "data": {
      "application/vnd.jupyter.widget-view+json": {
       "model_id": "7ada71af591847f0a9c3389f27c90cbd",
       "version_major": 2,
       "version_minor": 0
      },
      "text/plain": [
       "Context window progress for file: tCAhP0YI5ZA.mp4:   0%|          | 0/8 [00:00<?, ?it/s]"
      ]
     },
     "metadata": {},
     "output_type": "display_data"
    },
    {
     "data": {
      "application/vnd.jupyter.widget-view+json": {
       "model_id": "91c31a04da1c4a9995b816164ca7eca3",
       "version_major": 2,
       "version_minor": 0
      },
      "text/plain": [
       "Context window progress for file: jI3plNt24ow.mp4:   0%|          | 0/8 [00:00<?, ?it/s]"
      ]
     },
     "metadata": {},
     "output_type": "display_data"
    },
    {
     "data": {
      "application/vnd.jupyter.widget-view+json": {
       "model_id": "18c0305daaaf4209b960512636d0716c",
       "version_major": 2,
       "version_minor": 0
      },
      "text/plain": [
       "File progress for folder: bowling:   0%|          | 0/3 [00:00<?, ?it/s]"
      ]
     },
     "metadata": {},
     "output_type": "display_data"
    },
    {
     "data": {
      "application/vnd.jupyter.widget-view+json": {
       "model_id": "7e5e54f71c764fcf86f3fe1e19380048",
       "version_major": 2,
       "version_minor": 0
      },
      "text/plain": [
       "Context window progress for file: 2KIKwGatrww.mp4:   0%|          | 0/8 [00:00<?, ?it/s]"
      ]
     },
     "metadata": {},
     "output_type": "display_data"
    },
    {
     "data": {
      "application/vnd.jupyter.widget-view+json": {
       "model_id": "59086f1acae348c6a8d0408d52c87ad3",
       "version_major": 2,
       "version_minor": 0
      },
      "text/plain": [
       "Context window progress for file: N0riu-LbLh8.mp4:   0%|          | 0/8 [00:00<?, ?it/s]"
      ]
     },
     "metadata": {},
     "output_type": "display_data"
    },
    {
     "data": {
      "application/vnd.jupyter.widget-view+json": {
       "model_id": "bc6c1ad6414e43bb8b04994b6679a199",
       "version_major": 2,
       "version_minor": 0
      },
      "text/plain": [
       "Context window progress for file: E664nuAjHgU.mp4:   0%|          | 0/8 [00:00<?, ?it/s]"
      ]
     },
     "metadata": {},
     "output_type": "display_data"
    },
    {
     "data": {
      "application/vnd.jupyter.widget-view+json": {
       "model_id": "4864baf60ec24e1da6c7bf87d24b4aa3",
       "version_major": 2,
       "version_minor": 0
      },
      "text/plain": [
       "File progress for folder: exercising with an exercise ball:   0%|          | 0/3 [00:00<?, ?it/s]"
      ]
     },
     "metadata": {},
     "output_type": "display_data"
    },
    {
     "data": {
      "application/vnd.jupyter.widget-view+json": {
       "model_id": "7c2880bceb104fd5bb4237f8836c3286",
       "version_major": 2,
       "version_minor": 0
      },
      "text/plain": [
       "Context window progress for file: Q1Oi64Q9YjU.mp4:   0%|          | 0/8 [00:00<?, ?it/s]"
      ]
     },
     "metadata": {},
     "output_type": "display_data"
    },
    {
     "data": {
      "application/vnd.jupyter.widget-view+json": {
       "model_id": "19b0b5091607421d93c2f9912667e19f",
       "version_major": 2,
       "version_minor": 0
      },
      "text/plain": [
       "Context window progress for file: wfjztwShDms.mp4:   0%|          | 0/8 [00:00<?, ?it/s]"
      ]
     },
     "metadata": {},
     "output_type": "display_data"
    },
    {
     "data": {
      "application/vnd.jupyter.widget-view+json": {
       "model_id": "e2fdde0cb8f34154892ac7f8678a6d42",
       "version_major": 2,
       "version_minor": 0
      },
      "text/plain": [
       "Context window progress for file: gAoczaJ6j0Y.mp4:   0%|          | 0/8 [00:00<?, ?it/s]"
      ]
     },
     "metadata": {},
     "output_type": "display_data"
    }
   ],
   "source": [
    "dataset_path = 'datasets/kinetics400_5per/train'\n",
    "\n",
    "subfolders = sorted([subfolder for subfolder in os.listdir(dataset_path) if os.path.isdir(os.path.join(dataset_path, subfolder))])\n",
    "random_subfolders = random.sample(subfolders, 50)\n",
    "subfolder = random_subfolders[0]\n",
    "\n",
    "config_file = './i3d_resnet50_v1_kinetics400.yaml'\n",
    "cfg = get_cfg_defaults()\n",
    "cfg.merge_from_file(config_file)\n",
    "model = get_model(cfg)\n",
    "model.eval()\n",
    "\n",
    "columns = [\"file_name\", \"class_id\", \"class_name\", \"pred_class_id\", \"pred_class_name\", \"window_size\", \"confidence\", \"is_pred_correct\", \"position\"]\n",
    "\n",
    "my_data = []\n",
    "\n",
    "try:\n",
    "    # Iterate over subfolders in the dataset path\n",
    "    for index, subfolder in tqdm(enumerate(random_subfolders), desc=f\"Folder progress\", position=0, total=len(random_subfolders)):\n",
    "        subfolder_path = os.path.join(dataset_path, subfolder)\n",
    "        files = os.listdir(subfolder_path)\n",
    "        clean_files = []\n",
    "        for filename in files:\n",
    "            if filename.endswith(\".mp4\"):\n",
    "                clean_files.append(filename)\n",
    "        random_files = random.sample(clean_files, 3)\n",
    "        class_id = -1\n",
    "        for key, value in action_dict.items():\n",
    "            if value == subfolder:\n",
    "                class_id = key\n",
    "                break\n",
    "    \n",
    "        # Iterate over files in the subfolder\n",
    "        for filename in tqdm(random_files, desc=f\"File progress for folder: {subfolder}\", position=1, leave=False):\n",
    "            file_path = os.path.join(subfolder_path, filename)\n",
    "\n",
    "            N = 2\n",
    "            # Do something with each file\n",
    "            for N in tqdm(range(N, 10), desc=f\"Context window progress for file: {filename}\", position=2, leave=False):\n",
    "                new_rows = process_frames(file_path, model, class_id, N)\n",
    "                for row in new_rows:\n",
    "                    my_data.append(row)\n",
    "except Exception as e:\n",
    "    print(e)\n",
    "\n",
    "finally:\n",
    "    # Specify the file path\n",
    "    out_path = 'eda_outputs.csv'\n",
    "    \n",
    "    # Check if the file exists\n",
    "    if os.path.exists(out_path):\n",
    "        # Delete the file\n",
    "        os.remove(out_path)\n",
    "    df = pd.DataFrame(my_data, columns=columns)\n",
    "    df.to_csv(out_path, mode='w', index=False)"
   ]
  }
 ],
 "metadata": {
  "kernelspec": {
   "display_name": "Python 3 (ipykernel)",
   "language": "python",
   "name": "python3"
  },
  "language_info": {
   "codemirror_mode": {
    "name": "ipython",
    "version": 3
   },
   "file_extension": ".py",
   "mimetype": "text/x-python",
   "name": "python",
   "nbconvert_exporter": "python",
   "pygments_lexer": "ipython3",
   "version": "3.8.18"
  }
 },
 "nbformat": 4,
 "nbformat_minor": 5
}
