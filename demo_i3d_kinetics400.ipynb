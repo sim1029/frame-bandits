{
 "cells": [
  {
   "cell_type": "markdown",
   "metadata": {},
   "source": [
    "## Optional pip installation (for Winddows)"
   ]
  },
  {
   "cell_type": "code",
   "execution_count": 2,
   "metadata": {},
   "outputs": [
    {
     "name": "stdout",
     "output_type": "stream",
     "text": [
      "Collecting matplotlib\n",
      "  Downloading matplotlib-3.7.5-cp38-cp38-win_amd64.whl (7.5 MB)\n",
      "Collecting torch==1.8.0\n",
      "  Downloading torch-1.8.0-cp38-cp38-win_amd64.whl (190.5 MB)\n",
      "Collecting torchvision==0.9.0\n",
      "  Downloading torchvision-0.9.0-cp38-cp38-win_amd64.whl (852 kB)\n",
      "Collecting gluoncv\n",
      "  Using cached gluoncv-0.10.5.post0-py2.py3-none-any.whl (1.3 MB)\n",
      "Collecting decord\n",
      "  Using cached decord-0.6.0-py3-none-win_amd64.whl (24.7 MB)\n",
      "Requirement already satisfied: typing-extensions in c:\\users\\owner\\.pyenv\\pyenv-win\\versions\\3.8.10\\lib\\site-packages (from torch==1.8.0) (4.10.0)\n",
      "Collecting numpy\n",
      "  Downloading numpy-1.24.4-cp38-cp38-win_amd64.whl (14.9 MB)\n",
      "Collecting pillow>=4.1.1\n",
      "  Downloading pillow-10.2.0-cp38-cp38-win_amd64.whl (2.6 MB)\n",
      "Collecting pyparsing>=2.3.1\n",
      "  Using cached pyparsing-3.1.1-py3-none-any.whl (103 kB)\n",
      "Collecting contourpy>=1.0.1\n",
      "  Downloading contourpy-1.1.1-cp38-cp38-win_amd64.whl (477 kB)\n",
      "Collecting kiwisolver>=1.0.1\n",
      "  Downloading kiwisolver-1.4.5-cp38-cp38-win_amd64.whl (56 kB)\n",
      "Collecting importlib-resources>=3.2.0\n",
      "  Downloading importlib_resources-6.1.2-py3-none-any.whl (34 kB)\n",
      "Collecting cycler>=0.10\n",
      "  Using cached cycler-0.12.1-py3-none-any.whl (8.3 kB)\n",
      "Requirement already satisfied: packaging>=20.0 in c:\\users\\owner\\.pyenv\\pyenv-win\\versions\\3.8.10\\lib\\site-packages (from matplotlib) (23.2)\n",
      "Requirement already satisfied: python-dateutil>=2.7 in c:\\users\\owner\\.pyenv\\pyenv-win\\versions\\3.8.10\\lib\\site-packages (from matplotlib) (2.8.2)\n",
      "Collecting fonttools>=4.22.0\n",
      "  Downloading fonttools-4.49.0-cp38-cp38-win_amd64.whl (1.5 MB)\n",
      "Requirement already satisfied: zipp>=3.1.0 in c:\\users\\owner\\.pyenv\\pyenv-win\\versions\\3.8.10\\lib\\site-packages (from importlib-resources>=3.2.0->matplotlib) (3.17.0)\n",
      "Requirement already satisfied: six>=1.5 in c:\\users\\owner\\.pyenv\\pyenv-win\\versions\\3.8.10\\lib\\site-packages (from python-dateutil>=2.7->matplotlib) (1.16.0)\n",
      "Collecting yacs\n",
      "  Using cached yacs-0.1.8-py3-none-any.whl (14 kB)\n",
      "Collecting opencv-python\n",
      "  Using cached opencv_python-4.9.0.80-cp37-abi3-win_amd64.whl (38.6 MB)\n",
      "Collecting pyyaml\n",
      "  Downloading PyYAML-6.0.1-cp38-cp38-win_amd64.whl (157 kB)\n",
      "Collecting scipy\n",
      "  Downloading scipy-1.10.1-cp38-cp38-win_amd64.whl (42.2 MB)\n",
      "Collecting autocfg\n",
      "  Using cached autocfg-0.0.8-py3-none-any.whl (13 kB)\n",
      "Collecting portalocker\n",
      "  Using cached portalocker-2.8.2-py3-none-any.whl (17 kB)\n",
      "Collecting tqdm\n",
      "  Downloading tqdm-4.66.2-py3-none-any.whl (78 kB)\n",
      "Collecting pandas\n",
      "  Downloading pandas-2.0.3-cp38-cp38-win_amd64.whl (10.8 MB)\n",
      "Collecting requests\n",
      "  Using cached requests-2.31.0-py3-none-any.whl (62 kB)\n",
      "Collecting tzdata>=2022.1\n",
      "  Downloading tzdata-2024.1-py2.py3-none-any.whl (345 kB)\n",
      "Collecting pytz>=2020.1\n",
      "  Downloading pytz-2024.1-py2.py3-none-any.whl (505 kB)\n",
      "Requirement already satisfied: pywin32>=226 in c:\\users\\owner\\.pyenv\\pyenv-win\\versions\\3.8.10\\lib\\site-packages (from portalocker->gluoncv) (306)\n",
      "Collecting idna<4,>=2.5\n",
      "  Downloading idna-3.6-py3-none-any.whl (61 kB)\n",
      "Collecting certifi>=2017.4.17\n",
      "  Downloading certifi-2024.2.2-py3-none-any.whl (163 kB)\n",
      "Collecting charset-normalizer<4,>=2\n",
      "  Downloading charset_normalizer-3.3.2-cp38-cp38-win_amd64.whl (99 kB)\n",
      "Collecting urllib3<3,>=1.21.1\n",
      "  Downloading urllib3-2.2.1-py3-none-any.whl (121 kB)\n",
      "Requirement already satisfied: colorama in c:\\users\\owner\\.pyenv\\pyenv-win\\versions\\3.8.10\\lib\\site-packages (from tqdm->gluoncv) (0.4.6)\n",
      "Installing collected packages: numpy, urllib3, tzdata, pyyaml, pytz, pyparsing, pillow, kiwisolver, importlib-resources, idna, fonttools, cycler, contourpy, charset-normalizer, certifi, yacs, tqdm, torch, scipy, requests, portalocker, pandas, opencv-python, matplotlib, autocfg, torchvision, gluoncv, decord\n",
      "Successfully installed autocfg-0.0.8 certifi-2024.2.2 charset-normalizer-3.3.2 contourpy-1.1.1 cycler-0.12.1 decord-0.6.0 fonttools-4.49.0 gluoncv-0.10.5.post0 idna-3.6 importlib-resources-6.1.2 kiwisolver-1.4.5 matplotlib-3.7.5 numpy-1.24.4 opencv-python-4.9.0.80 pandas-2.0.3 pillow-10.2.0 portalocker-2.8.2 pyparsing-3.1.1 pytz-2024.1 pyyaml-6.0.1 requests-2.31.0 scipy-1.10.1 torch-1.8.0 torchvision-0.9.0 tqdm-4.66.2 tzdata-2024.1 urllib3-2.2.1 yacs-0.1.8\n",
      "Note: you may need to restart the kernel to use updated packages.\n"
     ]
    },
    {
     "name": "stderr",
     "output_type": "stream",
     "text": [
      "  WARNING: The script f2py.exe is installed in 'c:\\Users\\Owner\\.pyenv\\pyenv-win\\versions\\3.8.10\\Scripts' which is not on PATH.\n",
      "  Consider adding this directory to PATH or, if you prefer to suppress this warning, use --no-warn-script-location.\n",
      "  WARNING: The scripts fonttools.exe, pyftmerge.exe, pyftsubset.exe and ttx.exe are installed in 'c:\\Users\\Owner\\.pyenv\\pyenv-win\\versions\\3.8.10\\Scripts' which is not on PATH.\n",
      "  Consider adding this directory to PATH or, if you prefer to suppress this warning, use --no-warn-script-location.\n",
      "  WARNING: The script normalizer.exe is installed in 'c:\\Users\\Owner\\.pyenv\\pyenv-win\\versions\\3.8.10\\Scripts' which is not on PATH.\n",
      "  Consider adding this directory to PATH or, if you prefer to suppress this warning, use --no-warn-script-location.\n",
      "  WARNING: The script tqdm.exe is installed in 'c:\\Users\\Owner\\.pyenv\\pyenv-win\\versions\\3.8.10\\Scripts' which is not on PATH.\n",
      "  Consider adding this directory to PATH or, if you prefer to suppress this warning, use --no-warn-script-location.\n",
      "  WARNING: The scripts convert-caffe2-to-onnx.exe and convert-onnx-to-caffe2.exe are installed in 'c:\\Users\\Owner\\.pyenv\\pyenv-win\\versions\\3.8.10\\Scripts' which is not on PATH.\n",
      "  Consider adding this directory to PATH or, if you prefer to suppress this warning, use --no-warn-script-location.\n",
      "WARNING: You are using pip version 21.1.1; however, version 24.0 is available.\n",
      "You should consider upgrading via the 'c:\\Users\\Owner\\.pyenv\\pyenv-win\\versions\\3.8.10\\python.exe -m pip install --upgrade pip' command.\n"
     ]
    }
   ],
   "source": [
    "%pip install matplotlib torch==1.8.0 torchvision==0.9.0 gluoncv decord"
   ]
  },
  {
   "cell_type": "code",
   "execution_count": 10,
   "metadata": {},
   "outputs": [
    {
     "name": "stdout",
     "output_type": "stream",
     "text": [
      "^C\n",
      "Note: you may need to restart the kernel to use updated packages.\n"
     ]
    }
   ],
   "source": [
    "%pip uninstall Pillow"
   ]
  },
  {
   "cell_type": "code",
   "execution_count": 18,
   "metadata": {},
   "outputs": [
    {
     "name": "stdout",
     "output_type": "stream",
     "text": [
      "Requirement already satisfied: Pillow in c:\\users\\owner\\.pyenv\\pyenv-win\\versions\\3.8.10\\lib\\site-packages (9.5.0)\n",
      "Note: you may need to restart the kernel to use updated packages.\n"
     ]
    },
    {
     "name": "stderr",
     "output_type": "stream",
     "text": [
      "WARNING: Ignoring invalid distribution -illow (c:\\users\\owner\\.pyenv\\pyenv-win\\versions\\3.8.10\\lib\\site-packages)\n",
      "WARNING: Ignoring invalid distribution -illow (c:\\users\\owner\\.pyenv\\pyenv-win\\versions\\3.8.10\\lib\\site-packages)\n",
      "WARNING: Ignoring invalid distribution -illow (c:\\users\\owner\\.pyenv\\pyenv-win\\versions\\3.8.10\\lib\\site-packages)\n",
      "WARNING: Ignoring invalid distribution -illow (c:\\users\\owner\\.pyenv\\pyenv-win\\versions\\3.8.10\\lib\\site-packages)\n",
      "WARNING: Ignoring invalid distribution -illow (c:\\users\\owner\\.pyenv\\pyenv-win\\versions\\3.8.10\\lib\\site-packages)\n",
      "WARNING: Ignoring invalid distribution -illow (c:\\users\\owner\\.pyenv\\pyenv-win\\versions\\3.8.10\\lib\\site-packages)\n",
      "WARNING: You are using pip version 21.1.1; however, version 24.0 is available.\n",
      "You should consider upgrading via the 'c:\\Users\\Owner\\.pyenv\\pyenv-win\\versions\\3.8.10\\python.exe -m pip install --upgrade pip' command.\n"
     ]
    }
   ],
   "source": [
    "%pip install Pillow"
   ]
  },
  {
   "cell_type": "code",
   "execution_count": 12,
   "metadata": {
    "collapsed": false,
    "jupyter": {
     "outputs_hidden": false
    }
   },
   "outputs": [],
   "source": [
    "%matplotlib inline"
   ]
  },
  {
   "cell_type": "markdown",
   "metadata": {},
   "source": [
    "# 1. Getting Started with Pre-trained I3D Models on Kinetcis400\n",
    "\n",
    "`Kinetics400 <https://deepmind.com/research/open-source/kinetics>`_  is an action recognition dataset\n",
    "of realistic action videos, collected from YouTube. With 306,245 short trimmed videos\n",
    "from 400 action categories, it is one of the largest and most widely used dataset in the research\n",
    "community for benchmarking state-of-the-art video action recognition models.\n",
    "\n",
    "`I3D <https://arxiv.org/abs/1705.07750>`_ (Inflated 3D Networks) is a widely adopted 3D video\n",
    "classification network. It uses 3D convolution to learn spatiotemporal information directly from videos.\n",
    "I3D is proposed to improve `C3D <https://arxiv.org/abs/1412.0767>`_ (Convolutional 3D Networks) by inflating from 2D models.\n",
    "We can not only reuse the 2D models' architecture (e.g., ResNet, Inception), but also bootstrap\n",
    "the model weights from 2D pretrained models. In this manner, training 3D networks for video\n",
    "classification is feasible and getting much better results.\n",
    "\n",
    "In this tutorial, we will demonstrate how to load a pre-trained I3D model from `gluoncv-model-zoo`\n",
    "and classify a video clip from the Internet or your local disk into one of the 400 action classes.\n",
    "\n",
    "## Step by Step\n",
    "\n",
    "We will try out a pre-trained I3D model on a single video clip.\n",
    "\n",
    "First, please follow the `installation guide <../../index.html#installation>`__\n",
    "to install ``PyTorch`` and ``GluonCV`` if you haven't done so yet.\n",
    "\n",
    "## Simon's Fixes to Installation Instructions\n",
    "\n",
    "1. Use python 3.8\n",
    "2. Run `pip install torch==1.6.0 torchvision==0.7.0 gluoncv decord`\n",
    "3. Run `pip uninstall Pillow`\n",
    "4. Run `pip install Pillow==9.5.0`\n",
    "5. (Optional) install Jupyter lab to run example notebook linked in tutorial `pip install jupyterlab`\n",
    "6. Download the model config to download the pretrained model used in the tutorial (you will need to edit the config file path to where this file is stored on your system when running the code block which loads the model): https://raw.githubusercontent.com/dmlc/gluon-cv/master/scripts/action-recognition/configuration/resnet50_v1b_kinetics400.yaml\n",
    "7. Run the notebook and check if class 0 (abseiling) is the final output."
   ]
  },
  {
   "cell_type": "code",
   "execution_count": 7,
   "metadata": {
    "collapsed": false,
    "jupyter": {
     "outputs_hidden": false
    }
   },
   "outputs": [],
   "source": [
    "import numpy as np\n",
    "import decord\n",
    "import torch\n",
    "\n",
    "from gluoncv.torch.utils.model_utils import download\n",
    "from gluoncv.torch.data.transforms.videotransforms import video_transforms, volume_transforms\n",
    "from gluoncv.torch.engine.config import get_cfg_defaults\n",
    "from gluoncv.torch.model_zoo import get_model"
   ]
  },
  {
   "cell_type": "markdown",
   "metadata": {},
   "source": [
    "Then, we download a video and extract a 32-frame clip from it.\n",
    "\n"
   ]
  },
  {
   "cell_type": "code",
   "execution_count": 107,
   "metadata": {
    "collapsed": false,
    "jupyter": {
     "outputs_hidden": false
    }
   },
   "outputs": [],
   "source": [
    "url = 'https://github.com/bryanyzhu/tiny-ucf101/raw/master/abseiling_k400.mp4'  # contains 250 frames\n",
    "video_fname = download(url)\n",
    "vr = decord.VideoReader(video_fname)\n",
    "frame_id_list = [5, 6, 7, 8, 9]\n",
    "video_data = vr.get_batch(frame_id_list).asnumpy()"
   ]
  },
  {
   "cell_type": "markdown",
   "metadata": {},
   "source": [
    "Now we define transformations for the video clip.\n",
    "This transformation function does four things:\n",
    "(1) resize the shorter side of video clip to short_side_size,\n",
    "(2) center crop the video clip to crop_size x crop_size,\n",
    "(3) transpose the video clip to ``num_channels*num_frames*height*width``,\n",
    "and (4) normalize it with mean and standard deviation calculated across all ImageNet images.\n",
    "\n"
   ]
  },
  {
   "cell_type": "code",
   "execution_count": 108,
   "metadata": {
    "collapsed": false,
    "jupyter": {
     "outputs_hidden": false
    }
   },
   "outputs": [
    {
     "name": "stdout",
     "output_type": "stream",
     "text": [
      "Video data is downloaded and preprocessed.\n"
     ]
    }
   ],
   "source": [
    "crop_size = 224\n",
    "short_side_size = 256\n",
    "transform_fn = video_transforms.Compose([video_transforms.Resize(short_side_size, interpolation='bilinear'),\n",
    "                                         video_transforms.CenterCrop(size=(crop_size, crop_size)),\n",
    "                                         volume_transforms.ClipToTensor(),\n",
    "                                         video_transforms.Normalize(mean=[0.485, 0.456, 0.406], std=[0.229, 0.224, 0.225])])\n",
    "\n",
    "\n",
    "clip_input = transform_fn(video_data)\n",
    "print('Video data is downloaded and preprocessed.')"
   ]
  },
  {
   "cell_type": "markdown",
   "metadata": {},
   "source": [
    "Next, we load a pre-trained I3D model. Make sure to change the ``pretrained`` in the configuration file to True.\n",
    "\n"
   ]
  },
  {
   "cell_type": "code",
   "execution_count": 109,
   "metadata": {
    "collapsed": false,
    "jupyter": {
     "outputs_hidden": false
    }
   },
   "outputs": [
    {
     "name": "stdout",
     "output_type": "stream",
     "text": [
      "i3d_resnet50_v1_kinetics400 model is successfully loaded.\n"
     ]
    }
   ],
   "source": [
    "config_file = './i3d_resnet50_v1_kinetics400.yaml'\n",
    "cfg = get_cfg_defaults()\n",
    "cfg.merge_from_file(config_file)\n",
    "model = get_model(cfg)\n",
    "model.eval()\n",
    "print('%s model is successfully loaded.' % cfg.CONFIG.MODEL.NAME)"
   ]
  },
  {
   "cell_type": "markdown",
   "metadata": {},
   "source": [
    "Finally, we prepare the video clip and feed it to the model.\n",
    "\n"
   ]
  },
  {
   "cell_type": "code",
   "execution_count": 110,
   "metadata": {
    "collapsed": false,
    "jupyter": {
     "outputs_hidden": false
    }
   },
   "outputs": [
    {
     "name": "stdout",
     "output_type": "stream",
     "text": [
      "The input video clip is classified as class 0 with confidence interval 0.7715625166893005\n"
     ]
    }
   ],
   "source": [
    "with torch.no_grad():\n",
    "    pred = model(torch.unsqueeze(clip_input, dim=0)).numpy()\n",
    "\n",
    "# Convert raw logits to probabilities using softmax\n",
    "probs = torch.nn.functional.softmax(torch.tensor(pred), dim=1).numpy()\n",
    "\n",
    "# Get the top predicted class and calculate confidence interval\n",
    "top_class = np.argmax(probs)\n",
    "confidence_interval = np.max(probs) - np.min(probs)\n",
    "\n",
    "print(f'The input video clip is classified as class {top_class} with confidence interval {confidence_interval}')"
   ]
  },
  {
   "cell_type": "markdown",
   "metadata": {},
   "source": [
    "## Calculate confidence of frame windows\n",
    "##### Adjust the 'N' value to set the step size"
   ]
  },
  {
   "cell_type": "code",
   "execution_count": 116,
   "metadata": {},
   "outputs": [
    {
     "name": "stdout",
     "output_type": "stream",
     "text": [
      "The input video clip is classified as class 0 with confidence interval 0.9443979263305664 for frame window 4\n",
      "The input video clip is classified as class 0 with confidence interval 0.9288216233253479 for frame window 6\n",
      "The input video clip is classified as class 0 with confidence interval 0.9487528204917908 for frame window 8\n",
      "The input video clip is classified as class 0 with confidence interval 0.8573697805404663 for frame window 10\n",
      "The input video clip is classified as class 0 with confidence interval 0.8656697273254395 for frame window 12\n",
      "The input video clip is classified as class 0 with confidence interval 0.9996094107627869 for frame window 14\n",
      "The input video clip is classified as class 0 with confidence interval 0.9967054724693298 for frame window 16\n",
      "The input video clip is classified as class 0 with confidence interval 0.9980602860450745 for frame window 18\n",
      "The input video clip is classified as class 0 with confidence interval 0.9998185038566589 for frame window 20\n",
      "The input video clip is classified as class 0 with confidence interval 0.9997139573097229 for frame window 22\n",
      "The input video clip is classified as class 0 with confidence interval 0.9975398778915405 for frame window 24\n",
      "The input video clip is classified as class 0 with confidence interval 0.9937281608581543 for frame window 26\n",
      "The input video clip is classified as class 0 with confidence interval 0.9825072884559631 for frame window 28\n",
      "The input video clip is classified as class 0 with confidence interval 0.9368579387664795 for frame window 30\n",
      "The input video clip is classified as class 0 with confidence interval 0.9946658611297607 for frame window 32\n",
      "The input video clip is classified as class 0 with confidence interval 0.9998142123222351 for frame window 34\n",
      "The input video clip is classified as class 0 with confidence interval 0.8996824622154236 for frame window 36\n",
      "The input video clip is classified as class 0 with confidence interval 0.689360499382019 for frame window 38\n",
      "The input video clip is classified as class 0 with confidence interval 0.9966878294944763 for frame window 40\n",
      "The input video clip is classified as class 0 with confidence interval 0.8617103695869446 for frame window 42\n",
      "The input video clip is classified as class 0 with confidence interval 0.9668689370155334 for frame window 44\n",
      "The input video clip is classified as class 0 with confidence interval 0.9475434422492981 for frame window 46\n",
      "The input video clip is classified as class 0 with confidence interval 0.9914173483848572 for frame window 48\n",
      "The input video clip is classified as class 0 with confidence interval 0.920516312122345 for frame window 50\n",
      "The input video clip is classified as class 0 with confidence interval 0.9255295395851135 for frame window 52\n",
      "The input video clip is classified as class 0 with confidence interval 0.9954297542572021 for frame window 54\n",
      "The input video clip is classified as class 0 with confidence interval 0.9992875456809998 for frame window 56\n",
      "The input video clip is classified as class 0 with confidence interval 0.995429515838623 for frame window 58\n",
      "The input video clip is classified as class 0 with confidence interval 0.9150633215904236 for frame window 60\n",
      "The input video clip is classified as class 0 with confidence interval 0.6436271071434021 for frame window 62\n",
      "The input video clip is classified as class 0 with confidence interval 0.9706125259399414 for frame window 64\n",
      "The input video clip is classified as class 0 with confidence interval 0.5375920534133911 for frame window 66\n",
      "The input video clip is classified as class 0 with confidence interval 0.999358594417572 for frame window 68\n",
      "The input video clip is classified as class 0 with confidence interval 0.9972917437553406 for frame window 70\n",
      "The input video clip is classified as class 0 with confidence interval 0.9998817443847656 for frame window 72\n",
      "The input video clip is classified as class 0 with confidence interval 0.9569452404975891 for frame window 74\n",
      "The input video clip is classified as class 0 with confidence interval 0.8689625263214111 for frame window 76\n",
      "The input video clip is classified as class 0 with confidence interval 0.9860199093818665 for frame window 78\n",
      "The input video clip is classified as class 0 with confidence interval 0.750203013420105 for frame window 80\n",
      "The input video clip is classified as class 0 with confidence interval 0.9827246069908142 for frame window 82\n",
      "The input video clip is classified as class 0 with confidence interval 0.9976939558982849 for frame window 84\n",
      "The input video clip is classified as class 0 with confidence interval 0.9994931221008301 for frame window 86\n",
      "The input video clip is classified as class 0 with confidence interval 0.9995567202568054 for frame window 88\n",
      "The input video clip is classified as class 0 with confidence interval 0.9974586367607117 for frame window 90\n",
      "The input video clip is classified as class 0 with confidence interval 0.9889679551124573 for frame window 92\n",
      "The input video clip is classified as class 0 with confidence interval 0.9529868960380554 for frame window 94\n",
      "The input video clip is classified as class 0 with confidence interval 0.9977680444717407 for frame window 96\n",
      "The input video clip is classified as class 0 with confidence interval 0.9931414723396301 for frame window 98\n",
      "The input video clip is classified as class 0 with confidence interval 0.9977370500564575 for frame window 100\n",
      "The input video clip is classified as class 0 with confidence interval 0.9926111102104187 for frame window 102\n",
      "The input video clip is classified as class 0 with confidence interval 0.9940253496170044 for frame window 104\n",
      "The input video clip is classified as class 0 with confidence interval 0.9985648989677429 for frame window 106\n",
      "The input video clip is classified as class 0 with confidence interval 0.9904617667198181 for frame window 108\n",
      "The input video clip is classified as class 0 with confidence interval 0.9982805252075195 for frame window 110\n",
      "The input video clip is classified as class 0 with confidence interval 0.9990044236183167 for frame window 112\n",
      "The input video clip is classified as class 0 with confidence interval 0.9992477893829346 for frame window 114\n",
      "The input video clip is classified as class 0 with confidence interval 0.9988102912902832 for frame window 116\n",
      "The input video clip is classified as class 0 with confidence interval 0.9992699027061462 for frame window 118\n",
      "The input video clip is classified as class 0 with confidence interval 0.9972791075706482 for frame window 120\n",
      "The input video clip is classified as class 0 with confidence interval 0.9910793900489807 for frame window 122\n",
      "The input video clip is classified as class 0 with confidence interval 0.9797502756118774 for frame window 124\n",
      "The input video clip is classified as class 0 with confidence interval 0.9918460249900818 for frame window 126\n",
      "The input video clip is classified as class 0 with confidence interval 0.9944716691970825 for frame window 128\n",
      "The input video clip is classified as class 0 with confidence interval 0.987395167350769 for frame window 130\n",
      "The input video clip is classified as class 0 with confidence interval 0.9977136850357056 for frame window 132\n",
      "The input video clip is classified as class 0 with confidence interval 0.9987995624542236 for frame window 134\n",
      "The input video clip is classified as class 0 with confidence interval 0.9975002408027649 for frame window 136\n",
      "The input video clip is classified as class 0 with confidence interval 0.9995040893554688 for frame window 138\n",
      "The input video clip is classified as class 0 with confidence interval 0.9297031164169312 for frame window 140\n",
      "The input video clip is classified as class 0 with confidence interval 0.9769559502601624 for frame window 142\n",
      "The input video clip is classified as class 0 with confidence interval 0.9853157997131348 for frame window 144\n",
      "The input video clip is classified as class 0 with confidence interval 0.9804937243461609 for frame window 146\n",
      "The input video clip is classified as class 0 with confidence interval 0.9638527631759644 for frame window 148\n",
      "The input video clip is classified as class 0 with confidence interval 0.9757973551750183 for frame window 150\n",
      "The input video clip is classified as class 0 with confidence interval 0.9930111765861511 for frame window 152\n",
      "The input video clip is classified as class 0 with confidence interval 0.997333288192749 for frame window 154\n",
      "The input video clip is classified as class 0 with confidence interval 0.9990183115005493 for frame window 156\n",
      "The input video clip is classified as class 0 with confidence interval 0.9990934133529663 for frame window 158\n",
      "The input video clip is classified as class 0 with confidence interval 0.9929639101028442 for frame window 160\n",
      "The input video clip is classified as class 0 with confidence interval 0.9958603978157043 for frame window 162\n",
      "The input video clip is classified as class 0 with confidence interval 0.996155321598053 for frame window 164\n",
      "The input video clip is classified as class 0 with confidence interval 0.996828019618988 for frame window 166\n",
      "The input video clip is classified as class 0 with confidence interval 0.9979215264320374 for frame window 168\n",
      "The input video clip is classified as class 0 with confidence interval 0.999167799949646 for frame window 170\n",
      "The input video clip is classified as class 0 with confidence interval 0.9551319479942322 for frame window 172\n",
      "The input video clip is classified as class 0 with confidence interval 0.7819214463233948 for frame window 174\n",
      "The input video clip is classified as class 0 with confidence interval 0.9520872235298157 for frame window 176\n",
      "The input video clip is classified as class 0 with confidence interval 0.9053062796592712 for frame window 178\n",
      "The input video clip is classified as class 0 with confidence interval 0.8995866775512695 for frame window 180\n",
      "The input video clip is classified as class 0 with confidence interval 0.861530601978302 for frame window 182\n",
      "The input video clip is classified as class 0 with confidence interval 0.7619664072990417 for frame window 184\n",
      "The input video clip is classified as class 0 with confidence interval 0.9524771571159363 for frame window 186\n",
      "The input video clip is classified as class 0 with confidence interval 0.9864971041679382 for frame window 188\n",
      "The input video clip is classified as class 0 with confidence interval 0.9722564220428467 for frame window 190\n",
      "The input video clip is classified as class 0 with confidence interval 0.9915008544921875 for frame window 192\n",
      "The input video clip is classified as class 0 with confidence interval 0.9865692853927612 for frame window 194\n",
      "The input video clip is classified as class 0 with confidence interval 0.9862114191055298 for frame window 196\n",
      "The input video clip is classified as class 0 with confidence interval 0.9756143093109131 for frame window 198\n",
      "The input video clip is classified as class 0 with confidence interval 0.9697496294975281 for frame window 200\n",
      "The input video clip is classified as class 0 with confidence interval 0.8946422934532166 for frame window 202\n",
      "The input video clip is classified as class 0 with confidence interval 0.99184250831604 for frame window 204\n",
      "The input video clip is classified as class 0 with confidence interval 0.9596207141876221 for frame window 206\n",
      "The input video clip is classified as class 0 with confidence interval 0.9271615147590637 for frame window 208\n",
      "The input video clip is classified as class 0 with confidence interval 0.9766150712966919 for frame window 210\n",
      "The input video clip is classified as class 0 with confidence interval 0.8940353989601135 for frame window 212\n",
      "The input video clip is classified as class 0 with confidence interval 0.9401156902313232 for frame window 214\n",
      "The input video clip is classified as class 0 with confidence interval 0.9363002777099609 for frame window 216\n",
      "The input video clip is classified as class 49 with confidence interval 0.5195550918579102 for frame window 218\n",
      "The input video clip is classified as class 49 with confidence interval 0.6526317596435547 for frame window 220\n",
      "The input video clip is classified as class 49 with confidence interval 0.6348962187767029 for frame window 222\n",
      "The input video clip is classified as class 49 with confidence interval 0.729002058506012 for frame window 224\n",
      "The input video clip is classified as class 49 with confidence interval 0.9670622944831848 for frame window 226\n",
      "The input video clip is classified as class 0 with confidence interval 0.6014057993888855 for frame window 228\n",
      "The input video clip is classified as class 49 with confidence interval 0.7575487494468689 for frame window 230\n",
      "The input video clip is classified as class 0 with confidence interval 0.5689826011657715 for frame window 232\n",
      "The input video clip is classified as class 0 with confidence interval 0.9466061592102051 for frame window 234\n",
      "The input video clip is classified as class 0 with confidence interval 0.9515309929847717 for frame window 236\n",
      "The input video clip is classified as class 0 with confidence interval 0.8410243391990662 for frame window 238\n",
      "The input video clip is classified as class 0 with confidence interval 0.9669464826583862 for frame window 240\n",
      "The input video clip is classified as class 0 with confidence interval 0.9506780505180359 for frame window 242\n",
      "The input video clip is classified as class 0 with confidence interval 0.9491497278213501 for frame window 244\n"
     ]
    }
   ],
   "source": [
    "N = 2\n",
    "\n",
    "url = 'https://github.com/bryanyzhu/tiny-ucf101/raw/master/abseiling_k400.mp4' \n",
    "video_fname = download(url)\n",
    "vr = decord.VideoReader(video_fname)\n",
    "config_file = './i3d_resnet50_v1_kinetics400.yaml'\n",
    "cfg = get_cfg_defaults()\n",
    "cfg.merge_from_file(config_file)\n",
    "model = get_model(cfg)\n",
    "model.eval()\n",
    "for i in range(2 * N, len(vr) - (2 * N), 2): \n",
    "    frame_id_list = range(i - (2*N), i + (2*N) + 1, N)\n",
    "    video_data = vr.get_batch(frame_id_list).asnumpy()\n",
    "    crop_size = 224\n",
    "    short_side_size = 256\n",
    "    transform_fn = video_transforms.Compose([video_transforms.Resize(short_side_size, interpolation='bilinear'),\n",
    "                                            video_transforms.CenterCrop(size=(crop_size, crop_size)),\n",
    "                                            volume_transforms.ClipToTensor(),\n",
    "                                            video_transforms.Normalize(mean=[0.485, 0.456, 0.406], std=[0.229, 0.224, 0.225])])\n",
    "\n",
    "\n",
    "    clip_input = transform_fn(video_data)\n",
    "    with torch.no_grad():\n",
    "        pred = model(torch.unsqueeze(clip_input, dim=0)).numpy()\n",
    "\n",
    "    # Convert raw logits to probabilities using softmax\n",
    "    probs = torch.nn.functional.softmax(torch.tensor(pred), dim=1).numpy()\n",
    "\n",
    "    # Get the top predicted class and calculate confidence interval\n",
    "    top_class = np.argmax(probs)\n",
    "    confidence_interval = np.max(probs) - np.min(probs)\n",
    "\n",
    "    print(f'The input video clip is classified as class {top_class} with confidence interval {confidence_interval} for frame window {i}')\n"
   ]
  },
  {
   "cell_type": "markdown",
   "metadata": {},
   "source": [
    "##### function to measure average confidence given window size 'N' (Variable # frames)"
   ]
  },
  {
   "cell_type": "code",
   "execution_count": 117,
   "metadata": {},
   "outputs": [],
   "source": [
    "def frame_window_confidence(N, vr, model, true_class):\n",
    "    sum_confidence = 0\n",
    "    sum_class = 0\n",
    "    for i in range(N, len(vr) - N):\n",
    "        frame_id_list = range(i-N, i+N+1)\n",
    "        video_data = vr.get_batch(frame_id_list).asnumpy()\n",
    "        crop_size = 224\n",
    "        short_side_size = 256\n",
    "        transform_fn = video_transforms.Compose([video_transforms.Resize(short_side_size, interpolation='bilinear'),\n",
    "                                                video_transforms.CenterCrop(size=(crop_size, crop_size)),\n",
    "                                                volume_transforms.ClipToTensor(),\n",
    "                                                video_transforms.Normalize(mean=[0.485, 0.456, 0.406], std=[0.229, 0.224, 0.225])])\n",
    "        clip_input = transform_fn(video_data)\n",
    "        with torch.no_grad():\n",
    "            pred = model(torch.unsqueeze(clip_input, dim=0)).numpy()\n",
    "        probs = torch.nn.functional.softmax(torch.tensor(pred), dim=1).numpy()\n",
    "        top_class = np.argmax(probs)\n",
    "        confidence_interval = np.max(probs) - np.min(probs)\n",
    "        if top_class == true_class: \n",
    "            sum_class += 1\n",
    "            sum_confidence += confidence_interval\n",
    "        print(f'Class: {top_class} \\tConfidence: {confidence_interval} \\tWindow:{i}')\n",
    "    print(f'Average confidence level for window size {N} is {sum_confidence / (len(vr) - 2*N)}')\n",
    "    print(f'Predicted top class with accuracy {sum_class / (len(vr) - 2*N)}')\n"
   ]
  },
  {
   "cell_type": "code",
   "execution_count": 118,
   "metadata": {},
   "outputs": [
    {
     "name": "stdout",
     "output_type": "stream",
     "text": [
      "Class: 0 \tConfidence: 0.9948937892913818 \tWindow:4\n",
      "Class: 0 \tConfidence: 0.9884089231491089 \tWindow:5\n",
      "Class: 0 \tConfidence: 0.9704090356826782 \tWindow:6\n",
      "Class: 0 \tConfidence: 0.5901897549629211 \tWindow:7\n",
      "Class: 0 \tConfidence: 0.6856477856636047 \tWindow:8\n",
      "Class: 0 \tConfidence: 0.6187102198600769 \tWindow:9\n",
      "Class: 0 \tConfidence: 0.9852107167243958 \tWindow:10\n",
      "Class: 0 \tConfidence: 0.9958914518356323 \tWindow:11\n",
      "Class: 0 \tConfidence: 0.8777950406074524 \tWindow:12\n",
      "Class: 0 \tConfidence: 0.9682585597038269 \tWindow:13\n",
      "Class: 0 \tConfidence: 0.7068588137626648 \tWindow:14\n",
      "Class: 0 \tConfidence: 0.9096207618713379 \tWindow:15\n",
      "Class: 0 \tConfidence: 0.9992818236351013 \tWindow:16\n",
      "Class: 0 \tConfidence: 0.9621496796607971 \tWindow:17\n",
      "Class: 0 \tConfidence: 0.9934117197990417 \tWindow:18\n",
      "Class: 0 \tConfidence: 0.9939846396446228 \tWindow:19\n",
      "Class: 0 \tConfidence: 0.9591202735900879 \tWindow:20\n",
      "Class: 0 \tConfidence: 0.9972841739654541 \tWindow:21\n",
      "Class: 0 \tConfidence: 0.9996269941329956 \tWindow:22\n",
      "Class: 0 \tConfidence: 0.999113142490387 \tWindow:23\n",
      "Class: 0 \tConfidence: 0.9994319081306458 \tWindow:24\n",
      "Class: 0 \tConfidence: 0.9993040561676025 \tWindow:25\n",
      "Class: 0 \tConfidence: 0.9978559613227844 \tWindow:26\n",
      "Class: 0 \tConfidence: 0.9944759011268616 \tWindow:27\n",
      "Class: 0 \tConfidence: 0.9989218711853027 \tWindow:28\n",
      "Class: 0 \tConfidence: 0.9898571968078613 \tWindow:29\n",
      "Class: 0 \tConfidence: 0.9854576587677002 \tWindow:30\n",
      "Class: 0 \tConfidence: 0.9809276461601257 \tWindow:31\n",
      "Class: 0 \tConfidence: 0.9877512454986572 \tWindow:32\n",
      "Class: 0 \tConfidence: 0.999043881893158 \tWindow:33\n",
      "Class: 0 \tConfidence: 0.9991499185562134 \tWindow:34\n",
      "Class: 0 \tConfidence: 0.9999058246612549 \tWindow:35\n",
      "Class: 0 \tConfidence: 0.9996978044509888 \tWindow:36\n",
      "Class: 0 \tConfidence: 0.9997784495353699 \tWindow:37\n",
      "Class: 0 \tConfidence: 0.9989633560180664 \tWindow:38\n",
      "Class: 0 \tConfidence: 0.9840624928474426 \tWindow:39\n",
      "Class: 0 \tConfidence: 0.9946570992469788 \tWindow:40\n",
      "Class: 0 \tConfidence: 0.9992218017578125 \tWindow:41\n",
      "Class: 0 \tConfidence: 0.9992964267730713 \tWindow:42\n",
      "Class: 0 \tConfidence: 0.9991959929466248 \tWindow:43\n",
      "Class: 0 \tConfidence: 0.9966996312141418 \tWindow:44\n",
      "Class: 0 \tConfidence: 0.9966959953308105 \tWindow:45\n",
      "Class: 0 \tConfidence: 0.9812102913856506 \tWindow:46\n",
      "Class: 0 \tConfidence: 0.9567118287086487 \tWindow:47\n",
      "Class: 0 \tConfidence: 0.9436550140380859 \tWindow:48\n",
      "Class: 0 \tConfidence: 0.924204409122467 \tWindow:49\n",
      "Class: 0 \tConfidence: 0.9750972986221313 \tWindow:50\n",
      "Class: 0 \tConfidence: 0.9559577107429504 \tWindow:51\n",
      "Class: 0 \tConfidence: 0.9048326015472412 \tWindow:52\n",
      "Class: 0 \tConfidence: 0.9461308717727661 \tWindow:53\n",
      "Class: 0 \tConfidence: 0.977262020111084 \tWindow:54\n",
      "Class: 0 \tConfidence: 0.9768480062484741 \tWindow:55\n",
      "Class: 0 \tConfidence: 0.9825098514556885 \tWindow:56\n",
      "Class: 0 \tConfidence: 0.9987357258796692 \tWindow:57\n",
      "Class: 0 \tConfidence: 0.9992278814315796 \tWindow:58\n",
      "Class: 0 \tConfidence: 0.9998812675476074 \tWindow:59\n",
      "Class: 0 \tConfidence: 0.9996172189712524 \tWindow:60\n",
      "Class: 0 \tConfidence: 0.9987850785255432 \tWindow:61\n",
      "Class: 0 \tConfidence: 0.9979760050773621 \tWindow:62\n",
      "Class: 0 \tConfidence: 0.9978316426277161 \tWindow:63\n",
      "Class: 0 \tConfidence: 0.9966237545013428 \tWindow:64\n",
      "Class: 0 \tConfidence: 0.9995112419128418 \tWindow:65\n",
      "Class: 0 \tConfidence: 0.9993799924850464 \tWindow:66\n",
      "Class: 0 \tConfidence: 0.9593583345413208 \tWindow:67\n",
      "Class: 0 \tConfidence: 0.997732400894165 \tWindow:68\n",
      "Class: 0 \tConfidence: 0.9981191754341125 \tWindow:69\n",
      "Class: 0 \tConfidence: 0.9999456405639648 \tWindow:70\n",
      "Class: 0 \tConfidence: 0.9984787106513977 \tWindow:71\n",
      "Class: 0 \tConfidence: 0.996260941028595 \tWindow:72\n",
      "Class: 0 \tConfidence: 0.9938317537307739 \tWindow:73\n",
      "Class: 0 \tConfidence: 0.9984935522079468 \tWindow:74\n",
      "Class: 0 \tConfidence: 0.9855325818061829 \tWindow:75\n",
      "Class: 0 \tConfidence: 0.969131350517273 \tWindow:76\n",
      "Class: 0 \tConfidence: 0.9906488060951233 \tWindow:77\n",
      "Class: 0 \tConfidence: 0.9850949048995972 \tWindow:78\n",
      "Class: 0 \tConfidence: 0.9986201524734497 \tWindow:79\n",
      "Class: 0 \tConfidence: 0.9984411597251892 \tWindow:80\n",
      "Class: 0 \tConfidence: 0.9878018498420715 \tWindow:81\n",
      "Class: 0 \tConfidence: 0.9902308583259583 \tWindow:82\n",
      "Class: 0 \tConfidence: 0.9937402009963989 \tWindow:83\n",
      "Class: 0 \tConfidence: 0.9949883818626404 \tWindow:84\n",
      "Class: 0 \tConfidence: 0.9985955357551575 \tWindow:85\n",
      "Class: 0 \tConfidence: 0.9979733824729919 \tWindow:86\n",
      "Class: 0 \tConfidence: 0.9977626800537109 \tWindow:87\n",
      "Class: 0 \tConfidence: 0.9995051622390747 \tWindow:88\n",
      "Class: 0 \tConfidence: 0.9997615218162537 \tWindow:89\n",
      "Class: 0 \tConfidence: 0.9997736811637878 \tWindow:90\n",
      "Class: 0 \tConfidence: 0.9998086094856262 \tWindow:91\n",
      "Class: 0 \tConfidence: 0.9990025162696838 \tWindow:92\n",
      "Class: 0 \tConfidence: 0.994445264339447 \tWindow:93\n",
      "Class: 0 \tConfidence: 0.9860430955886841 \tWindow:94\n",
      "Class: 0 \tConfidence: 0.9935137033462524 \tWindow:95\n",
      "Class: 0 \tConfidence: 0.9817325472831726 \tWindow:96\n",
      "Class: 0 \tConfidence: 0.9933698177337646 \tWindow:97\n",
      "Class: 0 \tConfidence: 0.9964935183525085 \tWindow:98\n",
      "Class: 0 \tConfidence: 0.9782170057296753 \tWindow:99\n",
      "Class: 0 \tConfidence: 0.9972479939460754 \tWindow:100\n",
      "Class: 0 \tConfidence: 0.998765230178833 \tWindow:101\n",
      "Class: 0 \tConfidence: 0.9997466206550598 \tWindow:102\n",
      "Class: 0 \tConfidence: 0.9994009733200073 \tWindow:103\n",
      "Class: 0 \tConfidence: 0.9985641837120056 \tWindow:104\n",
      "Class: 0 \tConfidence: 0.9970646500587463 \tWindow:105\n",
      "Class: 0 \tConfidence: 0.9978505373001099 \tWindow:106\n",
      "Class: 0 \tConfidence: 0.9979958534240723 \tWindow:107\n",
      "Class: 0 \tConfidence: 0.9989508390426636 \tWindow:108\n",
      "Class: 0 \tConfidence: 0.9971343278884888 \tWindow:109\n",
      "Class: 0 \tConfidence: 0.9909563660621643 \tWindow:110\n",
      "Class: 0 \tConfidence: 0.996881365776062 \tWindow:111\n",
      "Class: 0 \tConfidence: 0.9952465891838074 \tWindow:112\n",
      "Class: 0 \tConfidence: 0.9984571933746338 \tWindow:113\n",
      "Class: 0 \tConfidence: 0.9979107975959778 \tWindow:114\n",
      "Class: 0 \tConfidence: 0.9977338314056396 \tWindow:115\n",
      "Class: 0 \tConfidence: 0.9989913105964661 \tWindow:116\n",
      "Class: 0 \tConfidence: 0.9992327690124512 \tWindow:117\n",
      "Class: 0 \tConfidence: 0.9990193843841553 \tWindow:118\n",
      "Class: 0 \tConfidence: 0.9995214939117432 \tWindow:119\n",
      "Class: 0 \tConfidence: 0.999680757522583 \tWindow:120\n",
      "Class: 0 \tConfidence: 0.9994714856147766 \tWindow:121\n",
      "Class: 0 \tConfidence: 0.9992992877960205 \tWindow:122\n",
      "Class: 0 \tConfidence: 0.9987983703613281 \tWindow:123\n",
      "Class: 0 \tConfidence: 0.9994211196899414 \tWindow:124\n",
      "Class: 0 \tConfidence: 0.9998018145561218 \tWindow:125\n",
      "Class: 0 \tConfidence: 0.9998514652252197 \tWindow:126\n",
      "Class: 0 \tConfidence: 0.9999483823776245 \tWindow:127\n",
      "Class: 0 \tConfidence: 0.999854326248169 \tWindow:128\n",
      "Class: 0 \tConfidence: 0.9999071359634399 \tWindow:129\n",
      "Class: 0 \tConfidence: 0.9998262524604797 \tWindow:130\n",
      "Class: 0 \tConfidence: 0.9999774694442749 \tWindow:131\n",
      "Class: 0 \tConfidence: 0.9998630285263062 \tWindow:132\n",
      "Class: 0 \tConfidence: 0.9998183846473694 \tWindow:133\n",
      "Class: 0 \tConfidence: 0.9999815225601196 \tWindow:134\n",
      "Class: 0 \tConfidence: 0.9999432563781738 \tWindow:135\n",
      "Class: 0 \tConfidence: 0.9999927282333374 \tWindow:136\n",
      "Class: 0 \tConfidence: 0.9999974966049194 \tWindow:137\n",
      "Class: 0 \tConfidence: 0.9999098777770996 \tWindow:138\n",
      "Class: 0 \tConfidence: 0.9999175071716309 \tWindow:139\n",
      "Class: 0 \tConfidence: 0.9999284744262695 \tWindow:140\n",
      "Class: 0 \tConfidence: 0.9968588352203369 \tWindow:141\n",
      "Class: 0 \tConfidence: 0.9919372797012329 \tWindow:142\n",
      "Class: 0 \tConfidence: 0.9924771189689636 \tWindow:143\n",
      "Class: 0 \tConfidence: 0.9922263622283936 \tWindow:144\n",
      "Class: 0 \tConfidence: 0.9885984659194946 \tWindow:145\n",
      "Class: 0 \tConfidence: 0.9931796789169312 \tWindow:146\n",
      "Class: 0 \tConfidence: 0.9830874800682068 \tWindow:147\n",
      "Class: 0 \tConfidence: 0.9889814853668213 \tWindow:148\n",
      "Class: 0 \tConfidence: 0.9762495756149292 \tWindow:149\n",
      "Class: 0 \tConfidence: 0.9954600930213928 \tWindow:150\n",
      "Class: 0 \tConfidence: 0.9970267415046692 \tWindow:151\n",
      "Class: 0 \tConfidence: 0.9962307810783386 \tWindow:152\n",
      "Class: 0 \tConfidence: 0.9950241446495056 \tWindow:153\n",
      "Class: 0 \tConfidence: 0.9957192540168762 \tWindow:154\n",
      "Class: 0 \tConfidence: 0.9958190321922302 \tWindow:155\n",
      "Class: 0 \tConfidence: 0.9932624697685242 \tWindow:156\n",
      "Class: 0 \tConfidence: 0.9949547648429871 \tWindow:157\n",
      "Class: 0 \tConfidence: 0.9983558058738708 \tWindow:158\n",
      "Class: 0 \tConfidence: 0.9976581335067749 \tWindow:159\n",
      "Class: 0 \tConfidence: 0.9980695843696594 \tWindow:160\n",
      "Class: 0 \tConfidence: 0.9969229102134705 \tWindow:161\n",
      "Class: 0 \tConfidence: 0.9940272569656372 \tWindow:162\n",
      "Class: 0 \tConfidence: 0.9946276545524597 \tWindow:163\n",
      "Class: 0 \tConfidence: 0.986607551574707 \tWindow:164\n",
      "Class: 0 \tConfidence: 0.9878465533256531 \tWindow:165\n",
      "Class: 0 \tConfidence: 0.9881435036659241 \tWindow:166\n",
      "Class: 0 \tConfidence: 0.9923027753829956 \tWindow:167\n",
      "Class: 0 \tConfidence: 0.9920418858528137 \tWindow:168\n",
      "Class: 0 \tConfidence: 0.9956210255622864 \tWindow:169\n",
      "Class: 0 \tConfidence: 0.9986139535903931 \tWindow:170\n",
      "Class: 0 \tConfidence: 0.9992882609367371 \tWindow:171\n",
      "Class: 0 \tConfidence: 0.9987645149230957 \tWindow:172\n",
      "Class: 0 \tConfidence: 0.9862695336341858 \tWindow:173\n",
      "Class: 0 \tConfidence: 0.9511390328407288 \tWindow:174\n",
      "Class: 0 \tConfidence: 0.86146479845047 \tWindow:175\n",
      "Class: 0 \tConfidence: 0.8880788683891296 \tWindow:176\n",
      "Class: 0 \tConfidence: 0.9518763422966003 \tWindow:177\n",
      "Class: 0 \tConfidence: 0.9894977807998657 \tWindow:178\n",
      "Class: 0 \tConfidence: 0.9307198524475098 \tWindow:179\n",
      "Class: 0 \tConfidence: 0.9957252740859985 \tWindow:180\n",
      "Class: 0 \tConfidence: 0.9993919134140015 \tWindow:181\n",
      "Class: 0 \tConfidence: 0.9978534579277039 \tWindow:182\n",
      "Class: 0 \tConfidence: 0.9975090026855469 \tWindow:183\n",
      "Class: 0 \tConfidence: 0.9982753992080688 \tWindow:184\n",
      "Class: 0 \tConfidence: 0.9900791645050049 \tWindow:185\n",
      "Class: 0 \tConfidence: 0.9420315027236938 \tWindow:186\n",
      "Class: 0 \tConfidence: 0.9978641867637634 \tWindow:187\n",
      "Class: 0 \tConfidence: 0.9985617995262146 \tWindow:188\n",
      "Class: 0 \tConfidence: 0.9991697072982788 \tWindow:189\n",
      "Class: 0 \tConfidence: 0.9989742040634155 \tWindow:190\n",
      "Class: 0 \tConfidence: 0.9985835552215576 \tWindow:191\n",
      "Class: 0 \tConfidence: 0.9991921782493591 \tWindow:192\n",
      "Class: 0 \tConfidence: 0.9992223978042603 \tWindow:193\n",
      "Class: 0 \tConfidence: 0.9989388585090637 \tWindow:194\n",
      "Class: 0 \tConfidence: 0.9985754489898682 \tWindow:195\n",
      "Class: 0 \tConfidence: 0.99407958984375 \tWindow:196\n",
      "Class: 0 \tConfidence: 0.9950780868530273 \tWindow:197\n",
      "Class: 0 \tConfidence: 0.9961460828781128 \tWindow:198\n",
      "Class: 0 \tConfidence: 0.9823241233825684 \tWindow:199\n",
      "Class: 0 \tConfidence: 0.9859293103218079 \tWindow:200\n",
      "Class: 0 \tConfidence: 0.9718753695487976 \tWindow:201\n",
      "Class: 0 \tConfidence: 0.984977126121521 \tWindow:202\n",
      "Class: 0 \tConfidence: 0.987199604511261 \tWindow:203\n",
      "Class: 0 \tConfidence: 0.9433854818344116 \tWindow:204\n",
      "Class: 0 \tConfidence: 0.9946330785751343 \tWindow:205\n",
      "Class: 0 \tConfidence: 0.9995836615562439 \tWindow:206\n",
      "Class: 0 \tConfidence: 0.9998070597648621 \tWindow:207\n",
      "Class: 0 \tConfidence: 0.9979933500289917 \tWindow:208\n",
      "Class: 0 \tConfidence: 0.9954805374145508 \tWindow:209\n",
      "Class: 0 \tConfidence: 0.9994080066680908 \tWindow:210\n",
      "Class: 0 \tConfidence: 0.9989983439445496 \tWindow:211\n",
      "Class: 0 \tConfidence: 0.9972004890441895 \tWindow:212\n",
      "Class: 0 \tConfidence: 0.9989470839500427 \tWindow:213\n",
      "Class: 0 \tConfidence: 0.9990571141242981 \tWindow:214\n",
      "Class: 0 \tConfidence: 0.9997338652610779 \tWindow:215\n",
      "Class: 0 \tConfidence: 0.9998599290847778 \tWindow:216\n",
      "Class: 0 \tConfidence: 0.9997727274894714 \tWindow:217\n",
      "Class: 0 \tConfidence: 0.9912931323051453 \tWindow:218\n",
      "Class: 0 \tConfidence: 0.8104438781738281 \tWindow:219\n",
      "Class: 0 \tConfidence: 0.7635694742202759 \tWindow:220\n",
      "Class: 0 \tConfidence: 0.6205841898918152 \tWindow:221\n",
      "Class: 0 \tConfidence: 0.9580379128456116 \tWindow:222\n",
      "Class: 0 \tConfidence: 0.9874544143676758 \tWindow:223\n",
      "Class: 0 \tConfidence: 0.9935851693153381 \tWindow:224\n",
      "Class: 0 \tConfidence: 0.9942591190338135 \tWindow:225\n",
      "Class: 0 \tConfidence: 0.9918316006660461 \tWindow:226\n",
      "Class: 0 \tConfidence: 0.9714670181274414 \tWindow:227\n",
      "Class: 0 \tConfidence: 0.8733988404273987 \tWindow:228\n",
      "Class: 0 \tConfidence: 0.9118292927742004 \tWindow:229\n",
      "Class: 0 \tConfidence: 0.9532818794250488 \tWindow:230\n",
      "Class: 0 \tConfidence: 0.7272267937660217 \tWindow:231\n",
      "Class: 0 \tConfidence: 0.9343768954277039 \tWindow:232\n",
      "Class: 0 \tConfidence: 0.723233699798584 \tWindow:233\n",
      "Class: 0 \tConfidence: 0.9704852104187012 \tWindow:234\n",
      "Class: 0 \tConfidence: 0.9979283809661865 \tWindow:235\n",
      "Class: 0 \tConfidence: 0.9974363446235657 \tWindow:236\n",
      "Class: 0 \tConfidence: 0.9947488903999329 \tWindow:237\n",
      "Class: 0 \tConfidence: 0.9964882135391235 \tWindow:238\n",
      "Class: 0 \tConfidence: 0.9973888993263245 \tWindow:239\n",
      "Class: 0 \tConfidence: 0.9880494475364685 \tWindow:240\n",
      "Class: 0 \tConfidence: 0.9944128394126892 \tWindow:241\n",
      "Class: 0 \tConfidence: 0.9974586367607117 \tWindow:242\n",
      "Class: 0 \tConfidence: 0.9947016835212708 \tWindow:243\n",
      "Class: 0 \tConfidence: 0.9879751801490784 \tWindow:244\n",
      "Class: 0 \tConfidence: 0.9863191843032837 \tWindow:245\n",
      "Average confidence level for window size 4 is 0.9772654372798509\n",
      "Predicted top class 1.0% accurately\n"
     ]
    }
   ],
   "source": [
    "url = 'https://github.com/bryanyzhu/tiny-ucf101/raw/master/abseiling_k400.mp4' \n",
    "video_fname = download(url)\n",
    "vr = decord.VideoReader(video_fname)\n",
    "config_file = './i3d_resnet50_v1_kinetics400.yaml'\n",
    "cfg = get_cfg_defaults()\n",
    "cfg.merge_from_file(config_file)\n",
    "model = get_model(cfg)\n",
    "model.eval()\n",
    "\n",
    "frame_window_confidence(4, vr, model, 0)"
   ]
  },
  {
   "cell_type": "markdown",
   "metadata": {},
   "source": [
    "We can see that our pre-trained model predicts this video clip\n",
    "to be ``abseiling`` action with high confidence.\n",
    "\n"
   ]
  },
  {
   "cell_type": "markdown",
   "metadata": {},
   "source": [
    "## Next Step\n",
    "\n",
    "If you would like to dive deeper into finetuing SOTA video models on your datasets,\n",
    "feel free to read the next `tutorial on finetuning <finetune_custom.html>`__.\n",
    "\n"
   ]
  }
 ],
 "metadata": {
  "kernelspec": {
   "display_name": "Python 3 (ipykernel)",
   "language": "python",
   "name": "python3"
  },
  "language_info": {
   "codemirror_mode": {
    "name": "ipython",
    "version": 3
   },
   "file_extension": ".py",
   "mimetype": "text/x-python",
   "name": "python",
   "nbconvert_exporter": "python",
   "pygments_lexer": "ipython3",
   "version": "3.8.10"
  }
 },
 "nbformat": 4,
 "nbformat_minor": 4
}
