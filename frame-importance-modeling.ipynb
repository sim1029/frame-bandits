{
 "cells": [
  {
   "cell_type": "code",
   "execution_count": 1,
   "metadata": {},
   "outputs": [
    {
     "ename": "ModuleNotFoundError",
     "evalue": "No module named 'sklearn'",
     "output_type": "error",
     "traceback": [
      "\u001b[1;31m---------------------------------------------------------------------------\u001b[0m",
      "\u001b[1;31mModuleNotFoundError\u001b[0m                       Traceback (most recent call last)",
      "Cell \u001b[1;32mIn[1], line 1\u001b[0m\n\u001b[1;32m----> 1\u001b[0m \u001b[38;5;28;01mfrom\u001b[39;00m \u001b[38;5;21;01msklearn\u001b[39;00m\u001b[38;5;21;01m.\u001b[39;00m\u001b[38;5;21;01mlinear_model\u001b[39;00m \u001b[38;5;28;01mimport\u001b[39;00m LinearRegression\n\u001b[0;32m      2\u001b[0m \u001b[38;5;28;01mfrom\u001b[39;00m \u001b[38;5;21;01msklearn\u001b[39;00m\u001b[38;5;21;01m.\u001b[39;00m\u001b[38;5;21;01mmodel_selection\u001b[39;00m \u001b[38;5;28;01mimport\u001b[39;00m train_test_split\n\u001b[0;32m      3\u001b[0m \u001b[38;5;28;01mfrom\u001b[39;00m \u001b[38;5;21;01msklearn\u001b[39;00m\u001b[38;5;21;01m.\u001b[39;00m\u001b[38;5;21;01mmetrics\u001b[39;00m \u001b[38;5;28;01mimport\u001b[39;00m mean_squared_error\n",
      "\u001b[1;31mModuleNotFoundError\u001b[0m: No module named 'sklearn'"
     ]
    }
   ],
   "source": [
    "from sklearn.linear_model import LinearRegression\n",
    "from sklearn.model_selection import train_test_split\n",
    "from sklearn.metrics import mean_squared_error\n",
    "import tensorflow as tf\n",
    "\n",
    "import csv\n",
    "import numpy as np\n",
    "import decord\n",
    "import torch\n",
    "import os, time\n",
    "import pandas as pd\n",
    "import random\n",
    "\n",
    "from gluoncv.torch.utils.model_utils import download\n",
    "from gluoncv.torch.data.transforms.videotransforms import video_transforms, volume_transforms\n",
    "from gluoncv.torch.engine.config import get_cfg_defaults\n",
    "from gluoncv.torch.model_zoo import get_model\n",
    "from tqdm.notebook import tqdm"
   ]
  },
  {
   "cell_type": "code",
   "execution_count": null,
   "metadata": {},
   "outputs": [],
   "source": [
    "map_path = 'action_map.csv'\n",
    "\n",
    "action_dict = {}\n",
    "\n",
    "with open(map_path, 'r', newline='', encoding='utf-8') as csvfile:\n",
    "    reader = csv.DictReader(csvfile)\n",
    "    for row in reader:\n",
    "        id_value = int(row['id'])\n",
    "        name_value = row['name']\n",
    "        \n",
    "        action_dict[id_value] = name_value"
   ]
  },
  {
   "cell_type": "code",
   "execution_count": null,
   "metadata": {},
   "outputs": [],
   "source": [
    "# Define a function to create the linear regression model\n",
    "def create_linear_regression_model(num_frames):\n",
    "    model = LinearRegression()\n",
    "    return model"
   ]
  },
  {
   "cell_type": "code",
   "execution_count": null,
   "metadata": {},
   "outputs": [],
   "source": [
    "# Define a function to compute the predicted action class and confidence based on the frames and weights\n",
    "def compute_predictions_linear_regression(target_data, num_classes, frames, weights, model):\n",
    "\n",
    "    # Combine frames and weights into a single input matrix\n",
    "    input_data = np.concatenate((frames, weights), axis=1)\n",
    "\n",
    "    # Fit the linear regression model\n",
    "    model.fit(input_data, target_data)  # target data is [class, confidence]\n",
    "\n",
    "    # Predict the action class and confidence\n",
    "    predicted_action_class = model.predict(input_data[:, :num_classes])\n",
    "    predicted_confidence = model.predict(input_data[:, num_classes:])\n",
    "\n",
    "    return predicted_action_class, predicted_confidence"
   ]
  },
  {
   "cell_type": "code",
   "execution_count": null,
   "metadata": {},
   "outputs": [],
   "source": [
    "def compute_loss(frames, weights, target_class, target_confidence, num_classes, model):\n",
    "    # Compute the predicted action class and confidence based on the weights and frames\n",
    "    predicted_class, predicted_confidence = compute_predictions_linear_regression([target_class, target_confidence], num_classes, frames, weights, model)\n",
    "\n",
    "    # Compute the loss based on the predicted and target values\n",
    "    loss = target_confidence - predicted_confidence\n",
    "    if predicted_class != target_class:\n",
    "        loss *= 100\n",
    "\n",
    "    return loss"
   ]
  },
  {
   "cell_type": "code",
   "execution_count": null,
   "metadata": {},
   "outputs": [],
   "source": [
    "def optimize_on_video(frames, target_class, target_confidence, model):\n",
    "\n",
    "    # Define the initial weights for frames\n",
    "    initial_weights = [1] * len(frames)\n",
    "\n",
    "    # Define the optimization algorithm\n",
    "    optimizer = tf.keras.optimizers.Adam(learning_rate=0.001)\n",
    "\n",
    "    # Perform optimization\n",
    "    weights = tf.Variable(initial_weights, trainable=True)\n",
    "\n",
    "    for step in range(1000):\n",
    "        with tf.GradientTape() as tape:\n",
    "            loss = compute_loss(frames, weights, target_class, target_confidence, model)\n",
    "\n",
    "        gradients = tape.gradient(loss, weights)\n",
    "        optimizer.apply_gradients([(gradients, weights)])\n",
    "\n",
    "        # Optional: Print the loss for monitoring\n",
    "        if step % 100 == 0:\n",
    "            print(\"Step:\", step, \"Loss:\", loss.numpy())\n",
    "\n",
    "    # Retrieve the optimized weights\n",
    "    optimized_weights = weights.numpy()\n",
    "\n",
    "    return optimized_weights"
   ]
  },
  {
   "cell_type": "code",
   "execution_count": null,
   "metadata": {},
   "outputs": [],
   "source": [
    "def get_frames(file_path, video_length):\n",
    "    frame_id_list = [i for i in range(0, video_length, 2)]\n",
    "    vr = decord.VideoReader(file_path)\n",
    "    video_data = vr.get_batch(frame_id_list).asnumpy()\n",
    "    crop_size = 224\n",
    "    short_side_size = 256\n",
    "    transform_fn = video_transforms.Compose([video_transforms.Resize(short_side_size, interpolation='bilinear'),\n",
    "                                            video_transforms.CenterCrop(size=(crop_size, crop_size)),\n",
    "                                            volume_transforms.ClipToTensor(),\n",
    "                                            video_transforms.Normalize(mean=[0.485, 0.456, 0.406], std=[0.229, 0.224, 0.225])])\n",
    "    clip_input = transform_fn(video_data)\n",
    "\n",
    "    return clip_input "
   ]
  },
  {
   "cell_type": "code",
   "execution_count": null,
   "metadata": {},
   "outputs": [],
   "source": [
    "def f(video_input, model):\n",
    "    with torch.no_grad():\n",
    "            pred = model(torch.unsqueeze(video_input, dim=0)).numpy()\n",
    "    probs = torch.nn.functional.softmax(torch.tensor(pred), dim=1).numpy()\n",
    "    top_class = np.argmax(probs)\n",
    "    confidence = np.max(probs) - np.min(probs)\n",
    "\n",
    "    return top_class, confidence"
   ]
  },
  {
   "cell_type": "code",
   "execution_count": null,
   "metadata": {},
   "outputs": [],
   "source": [
    "num_classes = 5\n",
    "num_videos = 5\n",
    "video_length = 200 # ???????\n",
    "\n",
    "frames_and_weights = [[]]\n",
    "\n",
    "# Get 5 Random videos from collection\n",
    "dataset_path = 'datasets\\\\kinetics400_5per\\\\train'\n",
    "\n",
    "subfolders = sorted([subfolder for subfolder in os.listdir(dataset_path) if os.path.isdir(os.path.join(dataset_path, subfolder))])\n",
    "random.seed(2)\n",
    "random_subfolders = random.sample(subfolders, num_classes)\n",
    "subfolder = random_subfolders[0]\n",
    "\n",
    "config_file = './i3d_resnet50_v1_kinetics400.yaml'\n",
    "cfg = get_cfg_defaults()\n",
    "cfg.merge_from_file(config_file)\n",
    "f_model = get_model(cfg)\n",
    "f_model.eval()\n",
    "\n",
    "try:\n",
    "    # Iterate over videos\n",
    "    for index, subfolder in enumerate(random_subfolders):\n",
    "        subfolder_path = os.path.join(dataset_path, subfolder)\n",
    "        files = os.listdir(subfolder_path)\n",
    "        clean_files = []\n",
    "        for filename in files:\n",
    "            if filename.endswith(\".mp4\"):\n",
    "                clean_files.append(filename)\n",
    "        random_files = random.sample(clean_files, num_videos)\n",
    "        random_file = random_files[0]\n",
    "        for random_file in random_files:\n",
    "            file_path = os.path.join(subfolder_path, random_file)\n",
    "            class_id = -1\n",
    "            for key, value in action_dict.items():\n",
    "                if value == subfolder:\n",
    "                    class_id = key\n",
    "                    break\n",
    "\n",
    "            # create and train linear regression model\n",
    "            g_model = create_linear_regression_model()\n",
    "            \n",
    "            # get weights for video\n",
    "            frames = get_frames(file_path, video_length)\n",
    "            target_class, target_confidence = f(frames, f_model)\n",
    "            optimized_frame_weights = optimize_on_video(frames, target_class, target_confidence, g_model)\n",
    "\n",
    "            # store frames and their weights\n",
    "            frames_and_weights += [[frame, weight] for frame, weight in zip(frames, optimized_frame_weights)]\n",
    "                \n",
    "except Exception as e:\n",
    "    print(e)"
   ]
  }
 ],
 "metadata": {
  "kernelspec": {
   "display_name": "Python 3",
   "language": "python",
   "name": "python3"
  },
  "language_info": {
   "codemirror_mode": {
    "name": "ipython",
    "version": 3
   },
   "file_extension": ".py",
   "mimetype": "text/x-python",
   "name": "python",
   "nbconvert_exporter": "python",
   "pygments_lexer": "ipython3",
   "version": "3.8.10"
  }
 },
 "nbformat": 4,
 "nbformat_minor": 2
}
