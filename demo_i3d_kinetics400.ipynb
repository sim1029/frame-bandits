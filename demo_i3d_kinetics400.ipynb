{
 "cells": [
  {
   "cell_type": "markdown",
   "metadata": {},
   "source": [
    "## Optional pip installation (for Windows, uncomment to run)"
   ]
  },
  {
   "cell_type": "code",
   "execution_count": 1,
   "metadata": {},
   "outputs": [],
   "source": [
    "#%pip install matplotlib torch==1.8.0 torchvision==0.9.0 gluoncv decord"
   ]
  },
  {
   "cell_type": "code",
   "execution_count": 2,
   "metadata": {},
   "outputs": [],
   "source": [
    "#%pip uninstall Pillow"
   ]
  },
  {
   "cell_type": "code",
   "execution_count": 3,
   "metadata": {},
   "outputs": [],
   "source": [
    "#%pip install Pillow"
   ]
  },
  {
   "cell_type": "code",
   "execution_count": 4,
   "metadata": {
    "collapsed": false,
    "jupyter": {
     "outputs_hidden": false
    }
   },
   "outputs": [],
   "source": [
    "#%matplotlib inline"
   ]
  },
  {
   "cell_type": "markdown",
   "metadata": {},
   "source": [
    "## Optional pip installation (for Mac)\n",
    "\n",
    "1. Use python 3.8\n",
    "2. Run `pip install torch==1.6.0 torchvision==0.7.0 gluoncv decord`\n",
    "3. Run `pip uninstall Pillow`\n",
    "4. Run `pip install Pillow==9.5.0`\n",
    "5. (Optional) install Jupyter lab to run example notebook linked in tutorial `pip install jupyterlab`\n",
    "6. Download the model config to download the pretrained model used in the tutorial (you will need to edit the config file path to where this file is stored on your system when running the code block which loads the model): https://raw.githubusercontent.com/dmlc/gluon-cv/master/scripts/action-recognition/configuration/resnet50_v1b_kinetics400.yaml\n",
    "7. Run the notebook and check if class 0 (abseiling) is the final output."
   ]
  },
  {
   "cell_type": "code",
   "execution_count": 6,
   "metadata": {
    "collapsed": false,
    "jupyter": {
     "outputs_hidden": false
    }
   },
   "outputs": [],
   "source": [
    "import numpy as np\n",
    "import decord\n",
    "import torch\n",
    "\n",
    "from gluoncv.torch.utils.model_utils import download\n",
    "from gluoncv.torch.data.transforms.videotransforms import video_transforms, volume_transforms\n",
    "from gluoncv.torch.engine.config import get_cfg_defaults\n",
    "from gluoncv.torch.model_zoo import get_model"
   ]
  },
  {
   "cell_type": "markdown",
   "metadata": {},
   "source": [
    "Download Kinetics dataset for processing (TODO - right now we just download one video)"
   ]
  },
  {
   "cell_type": "code",
   "execution_count": 3,
   "metadata": {
    "collapsed": false,
    "jupyter": {
     "outputs_hidden": false
    }
   },
   "outputs": [],
   "source": [
    "url = 'https://github.com/bryanyzhu/tiny-ucf101/raw/master/abseiling_k400.mp4'  # contains 250 frames\n",
    "video_fname = download(url)\n",
    "vr = decord.VideoReader(video_fname)\n",
    "frame_id_list = [5, 6, 7, 8, 9]\n",
    "video_data = vr.get_batch(frame_id_list).asnumpy()"
   ]
  },
  {
   "cell_type": "markdown",
   "metadata": {},
   "source": [
    "Now we define transformations for the video clip.\n",
    "This transformation function does four things:\n",
    "(1) resize the shorter side of video clip to short_side_size,\n",
    "(2) center crop the video clip to crop_size x crop_size,\n",
    "(3) transpose the video clip to ``num_channels*num_frames*height*width``,\n",
    "and (4) normalize it with mean and standard deviation calculated across all ImageNet images.\n",
    "\n"
   ]
  },
  {
   "cell_type": "code",
   "execution_count": 4,
   "metadata": {
    "collapsed": false,
    "jupyter": {
     "outputs_hidden": false
    }
   },
   "outputs": [
    {
     "name": "stdout",
     "output_type": "stream",
     "text": [
      "Video data is downloaded and preprocessed.\n"
     ]
    }
   ],
   "source": [
    "crop_size = 224\n",
    "short_side_size = 256\n",
    "transform_fn = video_transforms.Compose([video_transforms.Resize(short_side_size, interpolation='bilinear'),\n",
    "                                         video_transforms.CenterCrop(size=(crop_size, crop_size)),\n",
    "                                         volume_transforms.ClipToTensor(),\n",
    "                                         video_transforms.Normalize(mean=[0.485, 0.456, 0.406], std=[0.229, 0.224, 0.225])])\n",
    "\n",
    "clip_input = transform_fn(video_data)\n",
    "print('Video data is downloaded and preprocessed.')"
   ]
  },
  {
   "cell_type": "markdown",
   "metadata": {},
   "source": [
    "Next, we load a pre-trained I3D model. Make sure to change the ``pretrained`` in the configuration file to True.\n",
    "\n"
   ]
  },
  {
   "cell_type": "code",
   "execution_count": 5,
   "metadata": {
    "collapsed": false,
    "jupyter": {
     "outputs_hidden": false
    }
   },
   "outputs": [
    {
     "name": "stdout",
     "output_type": "stream",
     "text": [
      "i3d_resnet50_v1_kinetics400 model is successfully loaded.\n"
     ]
    }
   ],
   "source": [
    "config_file = './i3d_resnet50_v1_kinetics400.yaml'\n",
    "cfg = get_cfg_defaults()\n",
    "cfg.merge_from_file(config_file)\n",
    "model = get_model(cfg)\n",
    "model.eval()\n",
    "print('%s model is successfully loaded.' % cfg.CONFIG.MODEL.NAME)"
   ]
  },
  {
   "cell_type": "markdown",
   "metadata": {},
   "source": [
    "Finally, we prepare the video clip and feed it to the model.\n",
    "\n"
   ]
  },
  {
   "cell_type": "code",
   "execution_count": 6,
   "metadata": {
    "collapsed": false,
    "jupyter": {
     "outputs_hidden": false
    }
   },
   "outputs": [
    {
     "name": "stdout",
     "output_type": "stream",
     "text": [
      "The input video clip is classified as class 0 with confidence interval 0.7715632319450378\n"
     ]
    }
   ],
   "source": [
    "with torch.no_grad():\n",
    "    pred = model(torch.unsqueeze(clip_input, dim=0)).numpy()\n",
    "\n",
    "# Convert raw logits to probabilities using softmax\n",
    "probs = torch.nn.functional.softmax(torch.tensor(pred), dim=1).numpy()\n",
    "\n",
    "\n",
    "# Get the top predicted class and calculate confidence interval\n",
    "top_class = np.argmax(probs)\n",
    "confidence_interval = np.max(probs) - np.min(probs)\n",
    "\n",
    "print(f'The input video clip is classified as class {top_class} with confidence interval {confidence_interval}')"
   ]
  },
  {
   "cell_type": "markdown",
   "metadata": {},
   "source": [
    "## Calculate confidence of frame windows\n",
    "##### Adjust the 'N' value to set the step size"
   ]
  },
  {
   "cell_type": "code",
   "execution_count": 8,
   "metadata": {},
   "outputs": [
    {
     "name": "stdout",
     "output_type": "stream",
     "text": [
      "The input video clip is classified as class 0 with confidence interval 0.9443978071212769 for frame window 4\n",
      "The input video clip is classified as class 0 with confidence interval 0.928821861743927 for frame window 6\n",
      "The input video clip is classified as class 0 with confidence interval 0.9487524032592773 for frame window 8\n",
      "The input video clip is classified as class 0 with confidence interval 0.8573701977729797 for frame window 10\n",
      "The input video clip is classified as class 0 with confidence interval 0.8656694293022156 for frame window 12\n",
      "The input video clip is classified as class 0 with confidence interval 0.9996094107627869 for frame window 14\n",
      "The input video clip is classified as class 0 with confidence interval 0.9967054724693298 for frame window 16\n",
      "The input video clip is classified as class 0 with confidence interval 0.9980601668357849 for frame window 18\n",
      "The input video clip is classified as class 0 with confidence interval 0.9998185038566589 for frame window 20\n",
      "The input video clip is classified as class 0 with confidence interval 0.9997139573097229 for frame window 22\n",
      "The input video clip is classified as class 0 with confidence interval 0.9975398778915405 for frame window 24\n",
      "The input video clip is classified as class 0 with confidence interval 0.9937281608581543 for frame window 26\n",
      "The input video clip is classified as class 0 with confidence interval 0.9825072884559631 for frame window 28\n",
      "The input video clip is classified as class 0 with confidence interval 0.9368582367897034 for frame window 30\n",
      "The input video clip is classified as class 0 with confidence interval 0.9946658611297607 for frame window 32\n",
      "The input video clip is classified as class 0 with confidence interval 0.9998142123222351 for frame window 34\n",
      "The input video clip is classified as class 0 with confidence interval 0.8996821045875549 for frame window 36\n",
      "The input video clip is classified as class 0 with confidence interval 0.6893600821495056 for frame window 38\n",
      "The input video clip is classified as class 0 with confidence interval 0.9966878294944763 for frame window 40\n",
      "The input video clip is classified as class 0 with confidence interval 0.861710786819458 for frame window 42\n",
      "The input video clip is classified as class 0 with confidence interval 0.966869592666626 for frame window 44\n",
      "The input video clip is classified as class 0 with confidence interval 0.9475434422492981 for frame window 46\n",
      "The input video clip is classified as class 0 with confidence interval 0.9914172291755676 for frame window 48\n",
      "The input video clip is classified as class 0 with confidence interval 0.9205161929130554 for frame window 50\n",
      "The input video clip is classified as class 0 with confidence interval 0.925529420375824 for frame window 52\n",
      "The input video clip is classified as class 0 with confidence interval 0.9954297542572021 for frame window 54\n",
      "The input video clip is classified as class 0 with confidence interval 0.9992875456809998 for frame window 56\n",
      "The input video clip is classified as class 0 with confidence interval 0.995429515838623 for frame window 58\n",
      "The input video clip is classified as class 0 with confidence interval 0.9150633215904236 for frame window 60\n",
      "The input video clip is classified as class 0 with confidence interval 0.6436284184455872 for frame window 62\n",
      "The input video clip is classified as class 0 with confidence interval 0.9706122875213623 for frame window 64\n",
      "The input video clip is classified as class 0 with confidence interval 0.5375920534133911 for frame window 66\n",
      "The input video clip is classified as class 0 with confidence interval 0.999358594417572 for frame window 68\n",
      "The input video clip is classified as class 0 with confidence interval 0.997291624546051 for frame window 70\n",
      "The input video clip is classified as class 0 with confidence interval 0.9998817443847656 for frame window 72\n",
      "The input video clip is classified as class 0 with confidence interval 0.9569451808929443 for frame window 74\n",
      "The input video clip is classified as class 0 with confidence interval 0.8689616918563843 for frame window 76\n",
      "The input video clip is classified as class 0 with confidence interval 0.9860199093818665 for frame window 78\n",
      "The input video clip is classified as class 0 with confidence interval 0.7502034306526184 for frame window 80\n",
      "The input video clip is classified as class 0 with confidence interval 0.9827244877815247 for frame window 82\n",
      "The input video clip is classified as class 0 with confidence interval 0.9976940751075745 for frame window 84\n",
      "The input video clip is classified as class 0 with confidence interval 0.9994931221008301 for frame window 86\n",
      "The input video clip is classified as class 0 with confidence interval 0.9995567202568054 for frame window 88\n",
      "The input video clip is classified as class 0 with confidence interval 0.9974586367607117 for frame window 90\n",
      "The input video clip is classified as class 0 with confidence interval 0.9889679551124573 for frame window 92\n",
      "The input video clip is classified as class 0 with confidence interval 0.9529873132705688 for frame window 94\n",
      "The input video clip is classified as class 0 with confidence interval 0.9977680444717407 for frame window 96\n",
      "The input video clip is classified as class 0 with confidence interval 0.9931414723396301 for frame window 98\n",
      "The input video clip is classified as class 0 with confidence interval 0.9977370500564575 for frame window 100\n",
      "The input video clip is classified as class 0 with confidence interval 0.9926111102104187 for frame window 102\n",
      "The input video clip is classified as class 0 with confidence interval 0.994025468826294 for frame window 104\n",
      "The input video clip is classified as class 0 with confidence interval 0.9985648989677429 for frame window 106\n",
      "The input video clip is classified as class 0 with confidence interval 0.9904617667198181 for frame window 108\n",
      "The input video clip is classified as class 0 with confidence interval 0.9982806444168091 for frame window 110\n",
      "The input video clip is classified as class 0 with confidence interval 0.9990044236183167 for frame window 112\n",
      "The input video clip is classified as class 0 with confidence interval 0.9992477893829346 for frame window 114\n",
      "The input video clip is classified as class 0 with confidence interval 0.9988102912902832 for frame window 116\n",
      "The input video clip is classified as class 0 with confidence interval 0.9992699027061462 for frame window 118\n",
      "The input video clip is classified as class 0 with confidence interval 0.9972791075706482 for frame window 120\n",
      "The input video clip is classified as class 0 with confidence interval 0.9910795092582703 for frame window 122\n",
      "The input video clip is classified as class 0 with confidence interval 0.9797502756118774 for frame window 124\n",
      "The input video clip is classified as class 0 with confidence interval 0.9918460249900818 for frame window 126\n",
      "The input video clip is classified as class 0 with confidence interval 0.9944716691970825 for frame window 128\n",
      "The input video clip is classified as class 0 with confidence interval 0.9873952865600586 for frame window 130\n",
      "The input video clip is classified as class 0 with confidence interval 0.9977136850357056 for frame window 132\n",
      "The input video clip is classified as class 0 with confidence interval 0.9987995624542236 for frame window 134\n",
      "The input video clip is classified as class 0 with confidence interval 0.9975002408027649 for frame window 136\n",
      "The input video clip is classified as class 0 with confidence interval 0.9995040893554688 for frame window 138\n",
      "The input video clip is classified as class 0 with confidence interval 0.9297032952308655 for frame window 140\n",
      "The input video clip is classified as class 0 with confidence interval 0.9769557118415833 for frame window 142\n",
      "The input video clip is classified as class 0 with confidence interval 0.9853156805038452 for frame window 144\n",
      "The input video clip is classified as class 0 with confidence interval 0.9804937243461609 for frame window 146\n",
      "The input video clip is classified as class 0 with confidence interval 0.9638526439666748 for frame window 148\n",
      "The input video clip is classified as class 0 with confidence interval 0.9757974743843079 for frame window 150\n",
      "The input video clip is classified as class 0 with confidence interval 0.9930111765861511 for frame window 152\n",
      "The input video clip is classified as class 0 with confidence interval 0.997333288192749 for frame window 154\n",
      "The input video clip is classified as class 0 with confidence interval 0.9990183115005493 for frame window 156\n",
      "The input video clip is classified as class 0 with confidence interval 0.9990934133529663 for frame window 158\n",
      "The input video clip is classified as class 0 with confidence interval 0.9929639101028442 for frame window 160\n",
      "The input video clip is classified as class 0 with confidence interval 0.9958603978157043 for frame window 162\n",
      "The input video clip is classified as class 0 with confidence interval 0.996155321598053 for frame window 164\n",
      "The input video clip is classified as class 0 with confidence interval 0.996828019618988 for frame window 166\n",
      "The input video clip is classified as class 0 with confidence interval 0.9979215264320374 for frame window 168\n",
      "The input video clip is classified as class 0 with confidence interval 0.999167799949646 for frame window 170\n",
      "The input video clip is classified as class 0 with confidence interval 0.9551323056221008 for frame window 172\n",
      "The input video clip is classified as class 0 with confidence interval 0.7819220423698425 for frame window 174\n",
      "The input video clip is classified as class 0 with confidence interval 0.9520881772041321 for frame window 176\n",
      "The input video clip is classified as class 0 with confidence interval 0.9053065776824951 for frame window 178\n",
      "The input video clip is classified as class 0 with confidence interval 0.8995866775512695 for frame window 180\n",
      "The input video clip is classified as class 0 with confidence interval 0.8615314960479736 for frame window 182\n",
      "The input video clip is classified as class 0 with confidence interval 0.7619659900665283 for frame window 184\n",
      "The input video clip is classified as class 0 with confidence interval 0.9524771571159363 for frame window 186\n",
      "The input video clip is classified as class 0 with confidence interval 0.9864973425865173 for frame window 188\n",
      "The input video clip is classified as class 0 with confidence interval 0.972256064414978 for frame window 190\n",
      "The input video clip is classified as class 0 with confidence interval 0.9915008544921875 for frame window 192\n",
      "The input video clip is classified as class 0 with confidence interval 0.9865692853927612 for frame window 194\n",
      "The input video clip is classified as class 0 with confidence interval 0.9862115383148193 for frame window 196\n",
      "The input video clip is classified as class 0 with confidence interval 0.9756143093109131 for frame window 198\n",
      "The input video clip is classified as class 0 with confidence interval 0.9697497487068176 for frame window 200\n",
      "The input video clip is classified as class 0 with confidence interval 0.8946418166160583 for frame window 202\n",
      "The input video clip is classified as class 0 with confidence interval 0.99184250831604 for frame window 204\n",
      "The input video clip is classified as class 0 with confidence interval 0.959620475769043 for frame window 206\n",
      "The input video clip is classified as class 0 with confidence interval 0.9271619319915771 for frame window 208\n",
      "The input video clip is classified as class 0 with confidence interval 0.9766150712966919 for frame window 210\n",
      "The input video clip is classified as class 0 with confidence interval 0.8940354585647583 for frame window 212\n",
      "The input video clip is classified as class 0 with confidence interval 0.9401155710220337 for frame window 214\n",
      "The input video clip is classified as class 0 with confidence interval 0.9363001585006714 for frame window 216\n",
      "The input video clip is classified as class 49 with confidence interval 0.5195569396018982 for frame window 218\n",
      "The input video clip is classified as class 49 with confidence interval 0.6526312828063965 for frame window 220\n",
      "The input video clip is classified as class 49 with confidence interval 0.6348927021026611 for frame window 222\n",
      "The input video clip is classified as class 49 with confidence interval 0.7290017008781433 for frame window 224\n",
      "The input video clip is classified as class 49 with confidence interval 0.9670624136924744 for frame window 226\n",
      "The input video clip is classified as class 0 with confidence interval 0.6014039516448975 for frame window 228\n",
      "The input video clip is classified as class 49 with confidence interval 0.7575488686561584 for frame window 230\n",
      "The input video clip is classified as class 0 with confidence interval 0.5689830183982849 for frame window 232\n",
      "The input video clip is classified as class 0 with confidence interval 0.9466062784194946 for frame window 234\n",
      "The input video clip is classified as class 0 with confidence interval 0.951530933380127 for frame window 236\n",
      "The input video clip is classified as class 0 with confidence interval 0.8410235643386841 for frame window 238\n",
      "The input video clip is classified as class 0 with confidence interval 0.9669466018676758 for frame window 240\n",
      "The input video clip is classified as class 0 with confidence interval 0.9506783485412598 for frame window 242\n",
      "The input video clip is classified as class 0 with confidence interval 0.9491499066352844 for frame window 244\n"
     ]
    }
   ],
   "source": [
    "N = 2\n",
    "\n",
    "url = 'https://github.com/bryanyzhu/tiny-ucf101/raw/master/abseiling_k400.mp4' \n",
    "video_fname = download(url)\n",
    "vr = decord.VideoReader(video_fname)\n",
    "config_file = './i3d_resnet50_v1_kinetics400.yaml'\n",
    "cfg = get_cfg_defaults()\n",
    "cfg.merge_from_file(config_file)\n",
    "model = get_model(cfg)\n",
    "model.eval()\n",
    "for i in range(2 * N, len(vr) - (2 * N), 2): \n",
    "    frame_id_list = range(i - (2*N), i + (2*N) + 1, N)\n",
    "    video_data = vr.get_batch(frame_id_list).asnumpy()\n",
    "    crop_size = 224\n",
    "    short_side_size = 256\n",
    "    transform_fn = video_transforms.Compose([video_transforms.Resize(short_side_size, interpolation='bilinear'),\n",
    "                                            video_transforms.CenterCrop(size=(crop_size, crop_size)),\n",
    "                                            volume_transforms.ClipToTensor(),\n",
    "                                            video_transforms.Normalize(mean=[0.485, 0.456, 0.406], std=[0.229, 0.224, 0.225])])\n",
    "\n",
    "\n",
    "    clip_input = transform_fn(video_data)\n",
    "    with torch.no_grad():\n",
    "        pred = model(torch.unsqueeze(clip_input, dim=0)).numpy()\n",
    "\n",
    "    # Convert raw logits to probabilities using softmax\n",
    "    probs = torch.nn.functional.softmax(torch.tensor(pred), dim=1).numpy()\n",
    "\n",
    "    # Get the top predicted class and calculate confidence interval\n",
    "    top_class = np.argmax(probs)\n",
    "    confidence_interval = np.max(probs) - np.min(probs)\n",
    "\n",
    "    print(f'The input video clip is classified as class {top_class} with confidence interval {confidence_interval} for frame window {i}')\n"
   ]
  },
  {
   "cell_type": "markdown",
   "metadata": {},
   "source": [
    "##### function to measure average confidence given window size 'N' (Variable # frames)"
   ]
  },
  {
   "cell_type": "code",
   "execution_count": 10,
   "metadata": {},
   "outputs": [],
   "source": [
    "def frame_window_confidence(N, vr, model, true_class):\n",
    "    sum_confidence = 0\n",
    "    sum_class = 0\n",
    "    for i in range(N, len(vr) - N):\n",
    "        frame_id_list = range(i-N, i+N+1)\n",
    "        video_data = vr.get_batch(frame_id_list).asnumpy()\n",
    "        crop_size = 224\n",
    "        short_side_size = 256\n",
    "        transform_fn = video_transforms.Compose([video_transforms.Resize(short_side_size, interpolation='bilinear'),\n",
    "                                                video_transforms.CenterCrop(size=(crop_size, crop_size)),\n",
    "                                                volume_transforms.ClipToTensor(),\n",
    "                                                video_transforms.Normalize(mean=[0.485, 0.456, 0.406], std=[0.229, 0.224, 0.225])])\n",
    "        clip_input = transform_fn(video_data)\n",
    "        with torch.no_grad():\n",
    "            pred = model(torch.unsqueeze(clip_input, dim=0)).numpy()\n",
    "        probs = torch.nn.functional.softmax(torch.tensor(pred), dim=1).numpy()\n",
    "        top_class = np.argmax(probs)\n",
    "        confidence_interval = np.max(probs) - np.min(probs)\n",
    "        if top_class == true_class: \n",
    "            sum_class += 1\n",
    "            sum_confidence += confidence_interval\n",
    "        #print(f'Class: {top_class} \\tConfidence: {confidence_interval} \\tWindow:{i}')\n",
    "    #print(f'Average confidence level for window size {N} is {sum_confidence / (len(vr) - 2*N)}')\n",
    "    #print(f'Predicted top class with accuracy {sum_class / (len(vr) - 2*N)}')\n",
    "    return sum_confidence / (len(vr) - 2*N), sum_class / (len(vr) - 2*N)\n"
   ]
  },
  {
   "cell_type": "code",
   "execution_count": null,
   "metadata": {},
   "outputs": [],
   "source": [
    "url = 'https://github.com/bryanyzhu/tiny-ucf101/raw/master/abseiling_k400.mp4' \n",
    "video_fname = download(url)\n",
    "vr = decord.VideoReader(video_fname)\n",
    "config_file = './i3d_resnet50_v1_kinetics400.yaml'\n",
    "cfg = get_cfg_defaults()\n",
    "cfg.merge_from_file(config_file)\n",
    "model = get_model(cfg)\n",
    "model.eval()\n",
    "\n",
    "for i in range(2, 10):\n",
    "    confidence, accuracy = frame_window_confidence(i, vr, model, 0)\n",
    "    print(f'{i*2+1} frames has average confidence of {confidence} with an accuracy of {accuracy}')"
   ]
  }
 ],
 "metadata": {
  "kernelspec": {
   "display_name": "Python 3 (ipykernel)",
   "language": "python",
   "name": "python3"
  },
  "language_info": {
   "codemirror_mode": {
    "name": "ipython",
    "version": 3
   },
   "file_extension": ".py",
   "mimetype": "text/x-python",
   "name": "python",
   "nbconvert_exporter": "python",
   "pygments_lexer": "ipython3",
   "version": "3.8.18"
  }
 },
 "nbformat": 4,
 "nbformat_minor": 4
}
